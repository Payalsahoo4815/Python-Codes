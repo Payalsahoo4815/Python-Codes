{
 "cells": [
  {
   "cell_type": "code",
   "execution_count": 1,
   "id": "611a437b-3406-41c1-9e99-851a367ad8d0",
   "metadata": {},
   "outputs": [
    {
     "data": {
      "text/plain": [
       "5"
      ]
     },
     "execution_count": 1,
     "metadata": {},
     "output_type": "execute_result"
    }
   ],
   "source": [
    "2+3"
   ]
  },
  {
   "cell_type": "code",
   "execution_count": 2,
   "id": "be4adb48-4795-46a8-b771-2749920fb0f0",
   "metadata": {},
   "outputs": [
    {
     "data": {
      "text/plain": [
       "14"
      ]
     },
     "execution_count": 2,
     "metadata": {},
     "output_type": "execute_result"
    }
   ],
   "source": [
    "50-36"
   ]
  },
  {
   "cell_type": "raw",
   "id": "1ffb012d-a8fb-4e87-ab1d-4a5b141965be",
   "metadata": {},
   "source": [
    "VARIABLE: it is a place holder where we keep variety types od data where we process by writting some logics\n"
   ]
  },
  {
   "cell_type": "code",
   "execution_count": 3,
   "id": "b24c0cbd-0a21-48a4-9e43-240aef659c7f",
   "metadata": {},
   "outputs": [],
   "source": [
    "a=23"
   ]
  },
  {
   "cell_type": "code",
   "execution_count": 4,
   "id": "76e44e66-2ff9-4d0c-992b-5f05bb55cd77",
   "metadata": {},
   "outputs": [
    {
     "data": {
      "text/plain": [
       "23"
      ]
     },
     "execution_count": 4,
     "metadata": {},
     "output_type": "execute_result"
    }
   ],
   "source": [
    "a"
   ]
  },
  {
   "cell_type": "code",
   "execution_count": 5,
   "id": "56572b8d-7aca-4c25-90f4-46bc7b6207e9",
   "metadata": {},
   "outputs": [],
   "source": [
    "payal=10"
   ]
  },
  {
   "cell_type": "code",
   "execution_count": 6,
   "id": "1160c870-c9f7-4405-92ae-bfff0c110526",
   "metadata": {},
   "outputs": [
    {
     "data": {
      "text/plain": [
       "10"
      ]
     },
     "execution_count": 6,
     "metadata": {},
     "output_type": "execute_result"
    }
   ],
   "source": [
    "payal"
   ]
  },
  {
   "cell_type": "raw",
   "id": "4b3ef2e7-1340-4440-96a5-c4a057483896",
   "metadata": {},
   "source": [
    "RULES OF NAMING A VARIABLE: \n",
    "1.variable name must be a alphabet "
   ]
  },
  {
   "cell_type": "code",
   "execution_count": 7,
   "id": "afa8e24c-4912-450b-96af-6a0c7dcab0bf",
   "metadata": {},
   "outputs": [
    {
     "data": {
      "text/plain": [
       "int"
      ]
     },
     "execution_count": 7,
     "metadata": {},
     "output_type": "execute_result"
    }
   ],
   "source": [
    "type(payal)"
   ]
  },
  {
   "cell_type": "raw",
   "id": "7490b071-5edc-46e9-bedc-7342b6b90242",
   "metadata": {},
   "source": [
    "int is a integer datatype "
   ]
  },
  {
   "cell_type": "code",
   "execution_count": 8,
   "id": "119fa5ea-e29b-472e-9e4e-773cf943037f",
   "metadata": {},
   "outputs": [
    {
     "data": {
      "text/plain": [
       "int"
      ]
     },
     "execution_count": 8,
     "metadata": {},
     "output_type": "execute_result"
    }
   ],
   "source": [
    "type(a)"
   ]
  },
  {
   "cell_type": "code",
   "execution_count": 9,
   "id": "8ba610b2-d5e8-4ffa-ae23-98ac3fcfffeb",
   "metadata": {},
   "outputs": [],
   "source": [
    "s=\"pwskills\""
   ]
  },
  {
   "cell_type": "code",
   "execution_count": 10,
   "id": "736231c7-15f9-46c0-bcd0-3a0d36024018",
   "metadata": {},
   "outputs": [
    {
     "data": {
      "text/plain": [
       "'pwskills'"
      ]
     },
     "execution_count": 10,
     "metadata": {},
     "output_type": "execute_result"
    }
   ],
   "source": [
    "s"
   ]
  },
  {
   "cell_type": "code",
   "execution_count": 11,
   "id": "82e9209b-3872-47ad-a69d-4562853f62ae",
   "metadata": {},
   "outputs": [
    {
     "data": {
      "text/plain": [
       "str"
      ]
     },
     "execution_count": 11,
     "metadata": {},
     "output_type": "execute_result"
    }
   ],
   "source": [
    "type(s)"
   ]
  },
  {
   "cell_type": "raw",
   "id": "67b79418-d84a-46ec-992a-76e5305a5108",
   "metadata": {},
   "source": [
    "str is string datatype\n",
    "STRING: 1.it is a combinations of character\n",
    "        2.string is written in between double quotation or single quotes\n",
    "        3."
   ]
  },
  {
   "cell_type": "code",
   "execution_count": 12,
   "id": "a26ba35c-79c1-46fe-83ce-05528ce64602",
   "metadata": {},
   "outputs": [],
   "source": [
    "s1='this is my first python lecture'"
   ]
  },
  {
   "cell_type": "code",
   "execution_count": 13,
   "id": "f8abd770-ce78-47ef-b25e-6bc86866ce55",
   "metadata": {},
   "outputs": [
    {
     "data": {
      "text/plain": [
       "'this is my first python lecture'"
      ]
     },
     "execution_count": 13,
     "metadata": {},
     "output_type": "execute_result"
    }
   ],
   "source": [
    "s1"
   ]
  },
  {
   "cell_type": "code",
   "execution_count": 14,
   "id": "04dade19-2238-4874-977c-9e36befc8010",
   "metadata": {},
   "outputs": [
    {
     "data": {
      "text/plain": [
       "str"
      ]
     },
     "execution_count": 14,
     "metadata": {},
     "output_type": "execute_result"
    }
   ],
   "source": [
    "type(s1)"
   ]
  },
  {
   "cell_type": "code",
   "execution_count": 15,
   "id": "9a3f13ad-3e2b-4d31-bbbc-d8f31dbe2636",
   "metadata": {},
   "outputs": [],
   "source": [
    "f=232.34"
   ]
  },
  {
   "cell_type": "code",
   "execution_count": 16,
   "id": "edff7420-e176-42a4-8fd8-7e907b3ecd6c",
   "metadata": {},
   "outputs": [
    {
     "data": {
      "text/plain": [
       "232.34"
      ]
     },
     "execution_count": 16,
     "metadata": {},
     "output_type": "execute_result"
    }
   ],
   "source": [
    "f"
   ]
  },
  {
   "cell_type": "code",
   "execution_count": 17,
   "id": "0d75024f-8ee8-4a73-b4f9-a246d89c0191",
   "metadata": {},
   "outputs": [
    {
     "data": {
      "text/plain": [
       "float"
      ]
     },
     "execution_count": 17,
     "metadata": {},
     "output_type": "execute_result"
    }
   ],
   "source": [
    "type(f)"
   ]
  },
  {
   "cell_type": "raw",
   "id": "1b9290ee-af59-4848-a3e5-966b4753ab7e",
   "metadata": {},
   "source": [
    "float is another datatype"
   ]
  },
  {
   "cell_type": "code",
   "execution_count": 18,
   "id": "550f2fe2-db8e-4b62-a7cf-cc3a9107ecc0",
   "metadata": {},
   "outputs": [],
   "source": [
    "c=3+5j"
   ]
  },
  {
   "cell_type": "code",
   "execution_count": 19,
   "id": "77b7d5e8-90c0-45f6-ae79-fdfa66c8fdb4",
   "metadata": {},
   "outputs": [
    {
     "data": {
      "text/plain": [
       "complex"
      ]
     },
     "execution_count": 19,
     "metadata": {},
     "output_type": "execute_result"
    }
   ],
   "source": [
    "type(c)"
   ]
  },
  {
   "cell_type": "raw",
   "id": "d0607306-9828-4dfb-be27-27383ca13db8",
   "metadata": {},
   "source": [
    "1.coplex is another datatype\n",
    "2. we stydied in previous classes ,imaginary no. written with a notation i but in python programming language 'iota' is notation by 'j'\n",
    " c=3+5j\n",
    "3.3 is real and 5 is imaginary part of this expression\n",
    " \n",
    "NOTE: if u want to print real part then call \"c.real\" and  if u want to print imaginary then call \"c.imag\""
   ]
  },
  {
   "cell_type": "code",
   "execution_count": 20,
   "id": "7960aafd-f82a-43f5-aa10-6715eb75d9c6",
   "metadata": {},
   "outputs": [
    {
     "data": {
      "text/plain": [
       "3.0"
      ]
     },
     "execution_count": 20,
     "metadata": {},
     "output_type": "execute_result"
    }
   ],
   "source": [
    "c.real"
   ]
  },
  {
   "cell_type": "code",
   "execution_count": 21,
   "id": "8a5397ac-e5c8-4140-a3e7-d2d55e652af2",
   "metadata": {},
   "outputs": [
    {
     "data": {
      "text/plain": [
       "5.0"
      ]
     },
     "execution_count": 21,
     "metadata": {},
     "output_type": "execute_result"
    }
   ],
   "source": [
    "c.imag"
   ]
  },
  {
   "cell_type": "code",
   "execution_count": 22,
   "id": "88e8391f-a8f9-4670-8303-3a0f844f31d2",
   "metadata": {},
   "outputs": [],
   "source": [
    "b=True"
   ]
  },
  {
   "cell_type": "code",
   "execution_count": 23,
   "id": "cf3d5543-e156-4aa1-ab95-86717c7be8ca",
   "metadata": {},
   "outputs": [
    {
     "data": {
      "text/plain": [
       "bool"
      ]
     },
     "execution_count": 23,
     "metadata": {},
     "output_type": "execute_result"
    }
   ],
   "source": [
    "type(b)"
   ]
  },
  {
   "cell_type": "raw",
   "id": "b0a7fb0e-daf2-4199-b689-9e4d3edf7904",
   "metadata": {},
   "source": [
    "1.bool is boolian datatype\n",
    "2.when we assign a varible True or False python automatically understand it is a boolean data type\n",
    "NOTE: when u write True or False first letter must be in capital letter"
   ]
  },
  {
   "cell_type": "code",
   "execution_count": 24,
   "id": "34d5e33f-6f60-401f-98ba-e01abd395756",
   "metadata": {},
   "outputs": [],
   "source": [
    "b1=False"
   ]
  },
  {
   "cell_type": "code",
   "execution_count": 25,
   "id": "fc4c0792-6e32-4023-be1b-09997e65ad88",
   "metadata": {},
   "outputs": [
    {
     "data": {
      "text/plain": [
       "False"
      ]
     },
     "execution_count": 25,
     "metadata": {},
     "output_type": "execute_result"
    }
   ],
   "source": [
    "b1"
   ]
  },
  {
   "cell_type": "code",
   "execution_count": 26,
   "id": "2a6f48dc-dfa6-41a4-8f49-4a04e2711014",
   "metadata": {},
   "outputs": [
    {
     "data": {
      "text/plain": [
       "bool"
      ]
     },
     "execution_count": 26,
     "metadata": {},
     "output_type": "execute_result"
    }
   ],
   "source": [
    "type(b1)"
   ]
  },
  {
   "cell_type": "code",
   "execution_count": 27,
   "id": "013a1965-4cfb-4deb-8ab6-bc6178cb5137",
   "metadata": {},
   "outputs": [],
   "source": [
    "a1=45\n",
    "a2=34"
   ]
  },
  {
   "cell_type": "code",
   "execution_count": 28,
   "id": "a5614c3e-5235-470b-bdc3-2d3b92b7d563",
   "metadata": {},
   "outputs": [
    {
     "data": {
      "text/plain": [
       "79"
      ]
     },
     "execution_count": 28,
     "metadata": {},
     "output_type": "execute_result"
    }
   ],
   "source": [
    "a1+a2"
   ]
  },
  {
   "cell_type": "code",
   "execution_count": 29,
   "id": "18c9f995-2c70-4c39-9fb8-ad7eb6412de9",
   "metadata": {},
   "outputs": [
    {
     "data": {
      "text/plain": [
       "1530"
      ]
     },
     "execution_count": 29,
     "metadata": {},
     "output_type": "execute_result"
    }
   ],
   "source": [
    "a1*a2"
   ]
  },
  {
   "cell_type": "code",
   "execution_count": 30,
   "id": "e9a00f05-0ea1-485f-91a0-5d47b3f334a8",
   "metadata": {},
   "outputs": [
    {
     "data": {
      "text/plain": [
       "1.3235294117647058"
      ]
     },
     "execution_count": 30,
     "metadata": {},
     "output_type": "execute_result"
    }
   ],
   "source": [
    "a1/a2"
   ]
  },
  {
   "cell_type": "code",
   "execution_count": 31,
   "id": "cd4d5811-766b-4e23-97cb-71c591123cef",
   "metadata": {},
   "outputs": [
    {
     "data": {
      "text/plain": [
       "11"
      ]
     },
     "execution_count": 31,
     "metadata": {},
     "output_type": "execute_result"
    }
   ],
   "source": [
    "a1-a2"
   ]
  },
  {
   "cell_type": "code",
   "execution_count": 32,
   "id": "74d6ddb9-4782-4ff6-948f-11b42c8daccb",
   "metadata": {},
   "outputs": [
    {
     "data": {
      "text/plain": [
       "1.3235294117647058"
      ]
     },
     "execution_count": 32,
     "metadata": {},
     "output_type": "execute_result"
    }
   ],
   "source": [
    "45/34"
   ]
  },
  {
   "cell_type": "raw",
   "id": "96420744-4af6-4f07-93e8-93c0bb66eea9",
   "metadata": {},
   "source": [
    "Q. Why we creat a variable and store data into it?\n",
    "\n",
    "ans:- variable is used for incraese the reusability of data and to craet a reference for better undersating"
   ]
  },
  {
   "cell_type": "code",
   "execution_count": 33,
   "id": "c05cfaeb-41cb-4037-8756-e7a0c95a18ef",
   "metadata": {},
   "outputs": [],
   "source": [
    "a1,a2=34,45"
   ]
  },
  {
   "cell_type": "code",
   "execution_count": 34,
   "id": "63622e38-f5c0-4158-a3ee-374604753a9c",
   "metadata": {},
   "outputs": [
    {
     "data": {
      "text/plain": [
       "34"
      ]
     },
     "execution_count": 34,
     "metadata": {},
     "output_type": "execute_result"
    }
   ],
   "source": [
    "a1"
   ]
  },
  {
   "cell_type": "code",
   "execution_count": 35,
   "id": "58d948e3-7e8b-4cc8-894e-d01c3db8758d",
   "metadata": {},
   "outputs": [
    {
     "data": {
      "text/plain": [
       "45"
      ]
     },
     "execution_count": 35,
     "metadata": {},
     "output_type": "execute_result"
    }
   ],
   "source": [
    "a2"
   ]
  },
  {
   "cell_type": "code",
   "execution_count": 36,
   "id": "ff07eb6c-9a3e-4b3c-8065-d119cdd2babf",
   "metadata": {},
   "outputs": [],
   "source": [
    "a,b,c,d=354,\"payal\",34.56,True"
   ]
  },
  {
   "cell_type": "code",
   "execution_count": 37,
   "id": "f948722f-09f8-45f0-b5bd-58bd9b6b4781",
   "metadata": {},
   "outputs": [
    {
     "data": {
      "text/plain": [
       "354"
      ]
     },
     "execution_count": 37,
     "metadata": {},
     "output_type": "execute_result"
    }
   ],
   "source": [
    "a"
   ]
  },
  {
   "cell_type": "code",
   "execution_count": 38,
   "id": "e9b0fa7d-e5df-41f2-9089-a4e195155296",
   "metadata": {},
   "outputs": [
    {
     "data": {
      "text/plain": [
       "'payal'"
      ]
     },
     "execution_count": 38,
     "metadata": {},
     "output_type": "execute_result"
    }
   ],
   "source": [
    "b"
   ]
  },
  {
   "cell_type": "code",
   "execution_count": 39,
   "id": "2a5801ae-9e3e-4a5a-9aa6-d59c9187f77d",
   "metadata": {},
   "outputs": [
    {
     "data": {
      "text/plain": [
       "34.56"
      ]
     },
     "execution_count": 39,
     "metadata": {},
     "output_type": "execute_result"
    }
   ],
   "source": [
    "c"
   ]
  },
  {
   "cell_type": "code",
   "execution_count": 40,
   "id": "f1bb15a0-ea32-4c72-9227-95c7b8ef9da6",
   "metadata": {},
   "outputs": [
    {
     "data": {
      "text/plain": [
       "True"
      ]
     },
     "execution_count": 40,
     "metadata": {},
     "output_type": "execute_result"
    }
   ],
   "source": [
    "d"
   ]
  },
  {
   "cell_type": "code",
   "execution_count": 41,
   "id": "75bc486f-9d0d-43c1-bbd4-10caf452d90c",
   "metadata": {},
   "outputs": [
    {
     "name": "stderr",
     "output_type": "stream",
     "text": [
      "UsageError: Line magic function `%a` not found.\n"
     ]
    }
   ],
   "source": [
    "%a = 23"
   ]
  },
  {
   "cell_type": "raw",
   "id": "2b390c00-8c21-4460-a7ff-ece92b13b116",
   "metadata": {},
   "source": [
    "we can't use any special character in the first of the variable name.\n",
    "only we can use underscore(_) in the first of the variable name"
   ]
  },
  {
   "cell_type": "code",
   "execution_count": 42,
   "id": "d231e824-de83-436e-814c-8c48eb77e58b",
   "metadata": {},
   "outputs": [
    {
     "ename": "SyntaxError",
     "evalue": "invalid binary literal (525366796.py, line 1)",
     "output_type": "error",
     "traceback": [
      "\u001b[0;36m  Cell \u001b[0;32mIn[42], line 1\u001b[0;36m\u001b[0m\n\u001b[0;31m    0b=23\u001b[0m\n\u001b[0m     ^\u001b[0m\n\u001b[0;31mSyntaxError\u001b[0m\u001b[0;31m:\u001b[0m invalid binary literal\n"
     ]
    }
   ],
   "source": [
    "0b=23\n"
   ]
  },
  {
   "cell_type": "code",
   "execution_count": 43,
   "id": "263c7260-ab89-42ee-8556-a4541470a939",
   "metadata": {},
   "outputs": [],
   "source": [
    "b0=45"
   ]
  },
  {
   "cell_type": "code",
   "execution_count": 44,
   "id": "b6cebdc0-470b-41c4-9476-992139d50bad",
   "metadata": {},
   "outputs": [
    {
     "ename": "SyntaxError",
     "evalue": "invalid syntax. Maybe you meant '==' or ':=' instead of '='? (1158034983.py, line 1)",
     "output_type": "error",
     "traceback": [
      "\u001b[0;36m  Cell \u001b[0;32mIn[44], line 1\u001b[0;36m\u001b[0m\n\u001b[0;31m    @h=3312\u001b[0m\n\u001b[0m     ^\u001b[0m\n\u001b[0;31mSyntaxError\u001b[0m\u001b[0;31m:\u001b[0m invalid syntax. Maybe you meant '==' or ':=' instead of '='?\n"
     ]
    }
   ],
   "source": [
    "@h=3312"
   ]
  },
  {
   "cell_type": "code",
   "execution_count": 45,
   "id": "cc9ec4d6-95cc-4fa3-8df5-19fc588c8238",
   "metadata": {},
   "outputs": [],
   "source": [
    "_a=34"
   ]
  },
  {
   "cell_type": "code",
   "execution_count": 46,
   "id": "2182e62e-98b7-43b0-80c4-d199df83b9f5",
   "metadata": {},
   "outputs": [
    {
     "ename": "SyntaxError",
     "evalue": "cannot assign to expression here. Maybe you meant '==' instead of '='? (3962370751.py, line 1)",
     "output_type": "error",
     "traceback": [
      "\u001b[0;36m  Cell \u001b[0;32mIn[46], line 1\u001b[0;36m\u001b[0m\n\u001b[0;31m    -b=5677\u001b[0m\n\u001b[0m    ^\u001b[0m\n\u001b[0;31mSyntaxError\u001b[0m\u001b[0;31m:\u001b[0m cannot assign to expression here. Maybe you meant '==' instead of '='?\n"
     ]
    }
   ],
   "source": [
    "-b=5677"
   ]
  },
  {
   "cell_type": "code",
   "execution_count": 47,
   "id": "e226bd37-42fb-4383-9520-fd583ebd6308",
   "metadata": {},
   "outputs": [
    {
     "ename": "SyntaxError",
     "evalue": "cannot assign to True (3695223232.py, line 1)",
     "output_type": "error",
     "traceback": [
      "\u001b[0;36m  Cell \u001b[0;32mIn[47], line 1\u001b[0;36m\u001b[0m\n\u001b[0;31m    True=45\u001b[0m\n\u001b[0m    ^\u001b[0m\n\u001b[0;31mSyntaxError\u001b[0m\u001b[0;31m:\u001b[0m cannot assign to True\n"
     ]
    }
   ],
   "source": [
    "True=45"
   ]
  },
  {
   "cell_type": "raw",
   "id": "372c3b03-6275-4c6a-bc82-977ba3707b36",
   "metadata": {},
   "source": [
    "reserve keywords can't be used as variable name"
   ]
  },
  {
   "cell_type": "code",
   "execution_count": 48,
   "id": "3af7d8b9-9bc6-4ee1-8e44-be1345c20f37",
   "metadata": {},
   "outputs": [],
   "source": [
    "int=345"
   ]
  },
  {
   "cell_type": "code",
   "execution_count": 49,
   "id": "09215ec1-3dc8-4d89-9950-77a7bc6b58e4",
   "metadata": {},
   "outputs": [
    {
     "data": {
      "text/plain": [
       "345"
      ]
     },
     "execution_count": 49,
     "metadata": {},
     "output_type": "execute_result"
    }
   ],
   "source": [
    "int"
   ]
  },
  {
   "cell_type": "code",
   "execution_count": 50,
   "id": "07a63c55-c953-4b09-bff1-722435e3e661",
   "metadata": {},
   "outputs": [],
   "source": [
    "b1=True"
   ]
  },
  {
   "cell_type": "code",
   "execution_count": 51,
   "id": "22327c75-8140-4d53-b86a-6b55cf9e14a6",
   "metadata": {},
   "outputs": [],
   "source": [
    "b2=False"
   ]
  },
  {
   "cell_type": "markdown",
   "id": "771b35fb-c449-410c-9446-add2a06d7dd7",
   "metadata": {},
   "source": [
    "interanally system consider true as 1 and false as 0 by use this value we can do any arithamtic operations"
   ]
  },
  {
   "cell_type": "code",
   "execution_count": 52,
   "id": "d75c0777-6048-4e9e-a4f5-0404b177b84a",
   "metadata": {},
   "outputs": [
    {
     "data": {
      "text/plain": [
       "1"
      ]
     },
     "execution_count": 52,
     "metadata": {},
     "output_type": "execute_result"
    }
   ],
   "source": [
    "b1-b2"
   ]
  },
  {
   "cell_type": "code",
   "execution_count": 53,
   "id": "a5772d94-8e93-4300-8ef0-01e84131ef57",
   "metadata": {},
   "outputs": [
    {
     "data": {
      "text/plain": [
       "1"
      ]
     },
     "execution_count": 53,
     "metadata": {},
     "output_type": "execute_result"
    }
   ],
   "source": [
    "b1*b1"
   ]
  },
  {
   "cell_type": "code",
   "execution_count": 54,
   "id": "89fc20b6-cddb-4516-9671-5534bb94df24",
   "metadata": {},
   "outputs": [
    {
     "ename": "ZeroDivisionError",
     "evalue": "division by zero",
     "output_type": "error",
     "traceback": [
      "\u001b[0;31m---------------------------------------------------------------------------\u001b[0m",
      "\u001b[0;31mZeroDivisionError\u001b[0m                         Traceback (most recent call last)",
      "Cell \u001b[0;32mIn[54], line 1\u001b[0m\n\u001b[0;32m----> 1\u001b[0m \u001b[43mb1\u001b[49m\u001b[38;5;241;43m/\u001b[39;49m\u001b[43mb2\u001b[49m\n",
      "\u001b[0;31mZeroDivisionError\u001b[0m: division by zero"
     ]
    }
   ],
   "source": [
    "b1/b2"
   ]
  },
  {
   "cell_type": "code",
   "execution_count": null,
   "id": "d92f3d3d-f83c-4d0d-9ba6-155f70e14225",
   "metadata": {},
   "outputs": [],
   "source": [
    "s1= \"my name is payaljyoti\""
   ]
  },
  {
   "cell_type": "code",
   "execution_count": null,
   "id": "59fb5ecd-2284-46fe-b7e9-8766356b8fac",
   "metadata": {},
   "outputs": [],
   "source": [
    "s1"
   ]
  },
  {
   "cell_type": "code",
   "execution_count": null,
   "id": "a19dcf3e-d83e-4420-a530-97ab625a4974",
   "metadata": {},
   "outputs": [],
   "source": [
    "type(s1)"
   ]
  },
  {
   "cell_type": "code",
   "execution_count": null,
   "id": "60c56115-8c40-4b10-996b-6aa95215ae77",
   "metadata": {},
   "outputs": [],
   "source": [
    "s2=\"this is my first python class for data masters\""
   ]
  },
  {
   "cell_type": "code",
   "execution_count": null,
   "id": "b1f64a1a-8041-41c5-9eee-28096ef8519b",
   "metadata": {},
   "outputs": [],
   "source": [
    "s2"
   ]
  },
  {
   "cell_type": "code",
   "execution_count": null,
   "id": "c278e2b8-ad81-4f5b-9988-ecd4bf9b5556",
   "metadata": {},
   "outputs": [],
   "source": [
    "s2='this is my first python class for data masters's'"
   ]
  },
  {
   "cell_type": "markdown",
   "id": "3fff3d9e-0794-46ab-9483-37bb9649c282",
   "metadata": {},
   "source": [
    "it is showing error due to system can't undestand where the sentence end due uses of three quotes in senteces which don't give any meaning ,to correct this error see the following syntaxes"
   ]
  },
  {
   "cell_type": "code",
   "execution_count": 55,
   "id": "1dd0f29e-7124-4d74-ad90-04a064ed6087",
   "metadata": {},
   "outputs": [],
   "source": [
    "s2=\"this is my first python class for data masters's\""
   ]
  },
  {
   "cell_type": "code",
   "execution_count": 56,
   "id": "3c4131eb-08f6-424d-adb7-d6fd4eb5a593",
   "metadata": {},
   "outputs": [
    {
     "data": {
      "text/plain": [
       "\"this is my first python class for data masters's\""
      ]
     },
     "execution_count": 56,
     "metadata": {},
     "output_type": "execute_result"
    }
   ],
   "source": [
    "s2"
   ]
  },
  {
   "cell_type": "code",
   "execution_count": 57,
   "id": "f45c6369-ca4f-4d25-9c61-d6747b2ae7b7",
   "metadata": {},
   "outputs": [],
   "source": [
    "s2='this is my first python class for data masters\"s'"
   ]
  },
  {
   "cell_type": "code",
   "execution_count": 58,
   "id": "f68a5eb6-e2e5-4fed-97c9-47d671f93386",
   "metadata": {},
   "outputs": [
    {
     "data": {
      "text/plain": [
       "'this is my first python class for data masters\"s'"
      ]
     },
     "execution_count": 58,
     "metadata": {},
     "output_type": "execute_result"
    }
   ],
   "source": [
    "s2"
   ]
  },
  {
   "cell_type": "raw",
   "id": "28434236-22c9-4889-8b59-80c425608ae5",
   "metadata": {},
   "source": [
    "NOTES:-   To write single line comments we use '#' and for multi line comments we use '#' in each line or write three quotes(''') in the begining and three quotes in the last\n",
    "\n",
    "e.g:-\n",
    "1. #this is my python class\n",
    "2. #this is my first class\n",
    "   #i'm trying to learn variable declarations so far i have learnt              #int,boo,float,string,complex number\n",
    "3. ''' this is my first class\n",
    "    i'm trying to learn variable declarations so far i have learnt                 int,boo,float,string,complex number'''"
   ]
  },
  {
   "cell_type": "code",
   "execution_count": 59,
   "id": "d9e8b8aa-aefe-410a-a8ff-4ff4971d0b3e",
   "metadata": {},
   "outputs": [],
   "source": [
    "s1=\"payal\""
   ]
  },
  {
   "cell_type": "code",
   "execution_count": 60,
   "id": "df2e262c-ed76-4141-9f87-a062f393b197",
   "metadata": {},
   "outputs": [],
   "source": [
    "a=10"
   ]
  },
  {
   "cell_type": "code",
   "execution_count": 61,
   "id": "808f4687-d6b1-4fe8-8fce-1998680397ef",
   "metadata": {},
   "outputs": [
    {
     "ename": "TypeError",
     "evalue": "can only concatenate str (not \"int\") to str",
     "output_type": "error",
     "traceback": [
      "\u001b[0;31m---------------------------------------------------------------------------\u001b[0m",
      "\u001b[0;31mTypeError\u001b[0m                                 Traceback (most recent call last)",
      "Cell \u001b[0;32mIn[61], line 1\u001b[0m\n\u001b[0;32m----> 1\u001b[0m \u001b[43ms1\u001b[49m\u001b[38;5;241;43m+\u001b[39;49m\u001b[43ma\u001b[49m\n",
      "\u001b[0;31mTypeError\u001b[0m: can only concatenate str (not \"int\") to str"
     ]
    }
   ],
   "source": [
    "s1+a"
   ]
  },
  {
   "cell_type": "code",
   "execution_count": 62,
   "id": "c5022fb2-84dc-4d15-9301-42332bcdf768",
   "metadata": {},
   "outputs": [
    {
     "data": {
      "text/plain": [
       "'payaljyoti'"
      ]
     },
     "execution_count": 62,
     "metadata": {},
     "output_type": "execute_result"
    }
   ],
   "source": [
    "'payal'+'jyoti'"
   ]
  },
  {
   "cell_type": "raw",
   "id": "dd0382cd-a850-4e83-85c8-c8ffa359e400",
   "metadata": {},
   "source": [
    "when we trying concatenate(additions) operation both the parties should be in the same format or in the same dattypes"
   ]
  },
  {
   "cell_type": "code",
   "execution_count": 63,
   "id": "7f38e629-c749-44a1-81f6-0af691a3175d",
   "metadata": {},
   "outputs": [
    {
     "data": {
      "text/plain": [
       "10"
      ]
     },
     "execution_count": 63,
     "metadata": {},
     "output_type": "execute_result"
    }
   ],
   "source": [
    "a"
   ]
  },
  {
   "cell_type": "code",
   "execution_count": 64,
   "id": "e8644cc5-116b-4f20-8c30-a9b7a077ed79",
   "metadata": {},
   "outputs": [
    {
     "data": {
      "text/plain": [
       "int"
      ]
     },
     "execution_count": 64,
     "metadata": {},
     "output_type": "execute_result"
    }
   ],
   "source": [
    "type(a)"
   ]
  },
  {
   "cell_type": "raw",
   "id": "73f1b32e-596c-4ee2-932b-68f2a32b71b3",
   "metadata": {},
   "source": [
    "Q.HOW U CAN CONVERT(TYPE CASTING) INT DATATYPE TO STRING DATA TYPE  \n",
    " ANS:- ucan write str(a) or use single quotes and u can convert it"
   ]
  },
  {
   "cell_type": "code",
   "execution_count": 65,
   "id": "b2401963-6554-4bd6-96d9-662997f288c1",
   "metadata": {},
   "outputs": [
    {
     "data": {
      "text/plain": [
       "'10'"
      ]
     },
     "execution_count": 65,
     "metadata": {},
     "output_type": "execute_result"
    }
   ],
   "source": [
    "str(a)"
   ]
  },
  {
   "cell_type": "code",
   "execution_count": 66,
   "id": "55f74791-cf3f-407b-8719-b7e4dccdec36",
   "metadata": {},
   "outputs": [
    {
     "data": {
      "text/plain": [
       "'10'"
      ]
     },
     "execution_count": 66,
     "metadata": {},
     "output_type": "execute_result"
    }
   ],
   "source": [
    "'10'"
   ]
  },
  {
   "cell_type": "code",
   "execution_count": 67,
   "id": "86261fab-436f-4cd9-b601-5f6ea771587d",
   "metadata": {},
   "outputs": [
    {
     "data": {
      "text/plain": [
       "'payal10'"
      ]
     },
     "execution_count": 67,
     "metadata": {},
     "output_type": "execute_result"
    }
   ],
   "source": [
    "s1+str(a)"
   ]
  },
  {
   "cell_type": "raw",
   "id": "a397a1b3-b97a-4411-8108-b454efefdca3",
   "metadata": {},
   "source": [
    "Q.HOW TO ADD SPACE IN BETWEEN WORDS?\n",
    "ANS:- e.g.\n",
    "       1. \"payal \"+\"jyoti\"=payal jyoti (using space in double quoted words)\n",
    "       2.s1+\" \"+ str(a)= payal 10"
   ]
  },
  {
   "cell_type": "raw",
   "id": "81356447-1b5b-4ac5-b727-52dbb7405bc2",
   "metadata": {},
   "source": [
    "TYPE CASTING:- type casting is converting one type into another\n",
    "       type casting only possible when both parties are in same datatypes\n",
    "    "
   ]
  },
  {
   "cell_type": "code",
   "execution_count": 68,
   "id": "2d03d767-3610-4dc8-9a3b-4b3911e6f0ee",
   "metadata": {},
   "outputs": [
    {
     "data": {
      "text/plain": [
       "10"
      ]
     },
     "execution_count": 68,
     "metadata": {},
     "output_type": "execute_result"
    }
   ],
   "source": [
    "a"
   ]
  },
  {
   "cell_type": "code",
   "execution_count": 69,
   "id": "2b24b681-c28c-4d7c-89d2-b3d7d78440bb",
   "metadata": {},
   "outputs": [],
   "source": [
    "b=str(a)"
   ]
  },
  {
   "cell_type": "code",
   "execution_count": 70,
   "id": "01a03122-1e45-4d7c-90d7-a584f3c68558",
   "metadata": {},
   "outputs": [
    {
     "data": {
      "text/plain": [
       "'10'"
      ]
     },
     "execution_count": 70,
     "metadata": {},
     "output_type": "execute_result"
    }
   ],
   "source": [
    "b"
   ]
  },
  {
   "cell_type": "code",
   "execution_count": 71,
   "id": "d400910f-5f20-4fbe-a2a4-89fe99e43115",
   "metadata": {},
   "outputs": [
    {
     "ename": "TypeError",
     "evalue": "'int' object is not callable",
     "output_type": "error",
     "traceback": [
      "\u001b[0;31m---------------------------------------------------------------------------\u001b[0m",
      "\u001b[0;31mTypeError\u001b[0m                                 Traceback (most recent call last)",
      "Cell \u001b[0;32mIn[71], line 1\u001b[0m\n\u001b[0;32m----> 1\u001b[0m \u001b[38;5;28;43mint\u001b[39;49m\u001b[43m(\u001b[49m\u001b[43mb\u001b[49m\u001b[43m)\u001b[49m\n",
      "\u001b[0;31mTypeError\u001b[0m: 'int' object is not callable"
     ]
    }
   ],
   "source": [
    "int(b)"
   ]
  },
  {
   "cell_type": "markdown",
   "id": "7e19ae16-83d9-4199-aa24-9def6f68b35e",
   "metadata": {},
   "source": [
    "NOTE:- Prvious syntax showing error because int is keyword and we can't used as a variable name but in this case int used before as a variable and it can't be reused again.\n",
    "SOLUTIONS:- TO coreect the error we have to restart the kernel and it will work\n"
   ]
  },
  {
   "cell_type": "code",
   "execution_count": 72,
   "id": "2634df82-02ed-469a-a557-956b642c1b02",
   "metadata": {},
   "outputs": [],
   "source": [
    "s=\"payal\""
   ]
  },
  {
   "cell_type": "code",
   "execution_count": 73,
   "id": "8a94f313-12f1-42ef-aa30-f41ae5d0634a",
   "metadata": {},
   "outputs": [
    {
     "ename": "TypeError",
     "evalue": "'int' object is not callable",
     "output_type": "error",
     "traceback": [
      "\u001b[0;31m---------------------------------------------------------------------------\u001b[0m",
      "\u001b[0;31mTypeError\u001b[0m                                 Traceback (most recent call last)",
      "Cell \u001b[0;32mIn[73], line 1\u001b[0m\n\u001b[0;32m----> 1\u001b[0m \u001b[38;5;28;43mint\u001b[39;49m\u001b[43m(\u001b[49m\u001b[43ms\u001b[49m\u001b[43m)\u001b[49m\n",
      "\u001b[0;31mTypeError\u001b[0m: 'int' object is not callable"
     ]
    }
   ],
   "source": [
    "int(s)"
   ]
  },
  {
   "cell_type": "code",
   "execution_count": 74,
   "id": "4e45c332-5de5-4124-9a6e-54c28a15c1d9",
   "metadata": {},
   "outputs": [],
   "source": [
    "a=2133443"
   ]
  },
  {
   "cell_type": "markdown",
   "id": "2fb5325b-401f-4b1b-99c2-841b6dad370d",
   "metadata": {},
   "source": [
    " To user input"
   ]
  },
  {
   "cell_type": "code",
   "execution_count": 75,
   "id": "757f2122-28e2-48ef-970e-ba55eb963912",
   "metadata": {},
   "outputs": [
    {
     "name": "stdin",
     "output_type": "stream",
     "text": [
      " 45\n"
     ]
    }
   ],
   "source": [
    "d= input()"
   ]
  },
  {
   "cell_type": "code",
   "execution_count": 76,
   "id": "37e18eba-56ec-48a5-b551-68205e954246",
   "metadata": {},
   "outputs": [
    {
     "data": {
      "text/plain": [
       "'45'"
      ]
     },
     "execution_count": 76,
     "metadata": {},
     "output_type": "execute_result"
    }
   ],
   "source": [
    "d"
   ]
  },
  {
   "cell_type": "markdown",
   "id": "8a148bbb-8d4c-4cbf-8b8d-41774bb0de05",
   "metadata": {},
   "source": [
    "TO MAKING TYPECASTING(because in input functions whatever value we take as input it retun us as a string data type that's why we making the typecasting to get the exact ans)"
   ]
  },
  {
   "cell_type": "code",
   "execution_count": 77,
   "id": "ef1ed38f-2aac-4197-bfbc-80ea7194fa0d",
   "metadata": {},
   "outputs": [
    {
     "name": "stdin",
     "output_type": "stream",
     "text": [
      " 45\n"
     ]
    }
   ],
   "source": [
    "d= bool(input())"
   ]
  },
  {
   "cell_type": "code",
   "execution_count": 80,
   "id": "f7eb0b37-6b4c-481f-a109-530eca2e0963",
   "metadata": {},
   "outputs": [
    {
     "data": {
      "text/plain": [
       "True"
      ]
     },
     "execution_count": 80,
     "metadata": {},
     "output_type": "execute_result"
    }
   ],
   "source": [
    "d"
   ]
  },
  {
   "cell_type": "code",
   "execution_count": 81,
   "id": "56f31f52-4020-43eb-967f-293f7574db1c",
   "metadata": {},
   "outputs": [
    {
     "data": {
      "text/plain": [
       "bool"
      ]
     },
     "execution_count": 81,
     "metadata": {},
     "output_type": "execute_result"
    }
   ],
   "source": [
    "type(d)"
   ]
  },
  {
   "cell_type": "code",
   "execution_count": 83,
   "id": "c86e8bb4-0bc2-4960-a15e-c880ac280281",
   "metadata": {},
   "outputs": [
    {
     "name": "stdin",
     "output_type": "stream",
     "text": [
      " 45.67\n"
     ]
    }
   ],
   "source": [
    "d=float(input())"
   ]
  },
  {
   "cell_type": "code",
   "execution_count": 84,
   "id": "38f3b937-9461-44c9-a3b7-ea0f29fb4e61",
   "metadata": {},
   "outputs": [
    {
     "data": {
      "text/plain": [
       "45.67"
      ]
     },
     "execution_count": 84,
     "metadata": {},
     "output_type": "execute_result"
    }
   ],
   "source": [
    "d"
   ]
  },
  {
   "cell_type": "code",
   "execution_count": 85,
   "id": "097231b6-0c1f-40a9-9bdc-f4969d14be8f",
   "metadata": {},
   "outputs": [
    {
     "data": {
      "text/plain": [
       "float"
      ]
     },
     "execution_count": 85,
     "metadata": {},
     "output_type": "execute_result"
    }
   ],
   "source": [
    "type(d)"
   ]
  },
  {
   "cell_type": "markdown",
   "id": "0729e60c-d2a7-4955-8192-6c7b9a893c76",
   "metadata": {},
   "source": [
    "How to extract one single character or a range of caracter from a string?\n",
    "(it is also called as indexing or slicing)"
   ]
  },
  {
   "cell_type": "raw",
   "id": "cfbf2293-a10c-4a69-bf3f-bfea0d799f0d",
   "metadata": {},
   "source": [
    "INDEXING:-"
   ]
  },
  {
   "cell_type": "code",
   "execution_count": 86,
   "id": "bf25757a-b9ab-4241-9850-c332cd8d4f63",
   "metadata": {},
   "outputs": [],
   "source": [
    "s=\"payal\""
   ]
  },
  {
   "cell_type": "raw",
   "id": "cafc85f9-3513-48ee-b142-ee298e031db5",
   "metadata": {},
   "source": [
    "whenever system is going to store payal internally ,system is trying to give forward indexing and backward indexing so forward indexing always doesn't matter what type of string and what type of line u r going to write so system will automatically give the indexing starts from zero and then it continue and in backward indexing it's always starts with -1 \n",
    "\n",
    "so in forwar indexing              in backward indexing\n",
    "\n",
    "    p-0                              l:  -1\n",
    "    a-1                              a:  -2\n",
    "    y-2                              y:  -3\n",
    "    a-3                              a:  -4\n",
    "    l-4                              p:  -5"
   ]
  },
  {
   "cell_type": "code",
   "execution_count": 87,
   "id": "c4dcb864-474a-438a-aa36-c7a5dba6add6",
   "metadata": {},
   "outputs": [
    {
     "data": {
      "text/plain": [
       "'p'"
      ]
     },
     "execution_count": 87,
     "metadata": {},
     "output_type": "execute_result"
    }
   ],
   "source": [
    "s[0]"
   ]
  },
  {
   "cell_type": "code",
   "execution_count": 88,
   "id": "34c67795-a371-48f2-a6f4-e97aee2e54de",
   "metadata": {},
   "outputs": [
    {
     "data": {
      "text/plain": [
       "'y'"
      ]
     },
     "execution_count": 88,
     "metadata": {},
     "output_type": "execute_result"
    }
   ],
   "source": [
    "s[2]"
   ]
  },
  {
   "cell_type": "code",
   "execution_count": 89,
   "id": "a8c94ea7-c04b-493b-b2f1-1e82126a7f4c",
   "metadata": {},
   "outputs": [
    {
     "data": {
      "text/plain": [
       "'a'"
      ]
     },
     "execution_count": 89,
     "metadata": {},
     "output_type": "execute_result"
    }
   ],
   "source": [
    "s[-2]"
   ]
  },
  {
   "cell_type": "code",
   "execution_count": 90,
   "id": "aa0aa415-2321-4623-8c24-af2d464711e5",
   "metadata": {},
   "outputs": [
    {
     "ename": "IndexError",
     "evalue": "string index out of range",
     "output_type": "error",
     "traceback": [
      "\u001b[0;31m---------------------------------------------------------------------------\u001b[0m",
      "\u001b[0;31mIndexError\u001b[0m                                Traceback (most recent call last)",
      "Cell \u001b[0;32mIn[90], line 1\u001b[0m\n\u001b[0;32m----> 1\u001b[0m \u001b[43ms\u001b[49m\u001b[43m[\u001b[49m\u001b[38;5;241;43m100\u001b[39;49m\u001b[43m]\u001b[49m\n",
      "\u001b[0;31mIndexError\u001b[0m: string index out of range"
     ]
    }
   ],
   "source": [
    "s[100]"
   ]
  },
  {
   "cell_type": "code",
   "execution_count": 91,
   "id": "b13fb45a-b3dd-45c5-9de6-321058d81710",
   "metadata": {},
   "outputs": [
    {
     "ename": "IndexError",
     "evalue": "string index out of range",
     "output_type": "error",
     "traceback": [
      "\u001b[0;31m---------------------------------------------------------------------------\u001b[0m",
      "\u001b[0;31mIndexError\u001b[0m                                Traceback (most recent call last)",
      "Cell \u001b[0;32mIn[91], line 1\u001b[0m\n\u001b[0;32m----> 1\u001b[0m \u001b[43ms\u001b[49m\u001b[43m[\u001b[49m\u001b[38;5;241;43m-\u001b[39;49m\u001b[38;5;241;43m5665\u001b[39;49m\u001b[43m]\u001b[49m\n",
      "\u001b[0;31mIndexError\u001b[0m: string index out of range"
     ]
    }
   ],
   "source": [
    "s[-5665]"
   ]
  },
  {
   "cell_type": "raw",
   "id": "8d970cbc-5d83-4bc4-8811-aa382b396141",
   "metadata": {},
   "source": [
    "if index are not available in that case we get index out of range error"
   ]
  },
  {
   "cell_type": "code",
   "execution_count": 92,
   "id": "23488a00-ae86-487e-bb57-eb92de5f3b1e",
   "metadata": {},
   "outputs": [],
   "source": [
    "s1=\"pwskills\""
   ]
  },
  {
   "cell_type": "code",
   "execution_count": 97,
   "id": "5e02858c-47cd-41b1-8f3a-ceb4b732f162",
   "metadata": {},
   "outputs": [
    {
     "data": {
      "text/plain": [
       "'l'"
      ]
     },
     "execution_count": 97,
     "metadata": {},
     "output_type": "execute_result"
    }
   ],
   "source": [
    "s1[5]"
   ]
  },
  {
   "cell_type": "raw",
   "id": "b653beb9-e557-4cf2-958e-d3d277eef299",
   "metadata": {},
   "source": [
    "SLICCING:-"
   ]
  },
  {
   "cell_type": "code",
   "execution_count": 94,
   "id": "b3cd26ee-9cd3-437c-82b8-d7e53d558a69",
   "metadata": {},
   "outputs": [
    {
     "data": {
      "text/plain": [
       "'pw'"
      ]
     },
     "execution_count": 94,
     "metadata": {},
     "output_type": "execute_result"
    }
   ],
   "source": [
    "s1[0:2]"
   ]
  },
  {
   "cell_type": "code",
   "execution_count": 95,
   "id": "722a25b1-fe0e-49bf-9c2a-7d820c9cb1e3",
   "metadata": {},
   "outputs": [
    {
     "data": {
      "text/plain": [
       "'skill'"
      ]
     },
     "execution_count": 95,
     "metadata": {},
     "output_type": "execute_result"
    }
   ],
   "source": [
    "s1[2:7]"
   ]
  },
  {
   "cell_type": "code",
   "execution_count": 96,
   "id": "5f2ddc53-da2c-4265-a9e7-f633ed9d15ec",
   "metadata": {},
   "outputs": [
    {
     "data": {
      "text/plain": [
       "'skills'"
      ]
     },
     "execution_count": 96,
     "metadata": {},
     "output_type": "execute_result"
    }
   ],
   "source": [
    "s1[2:8]"
   ]
  },
  {
   "cell_type": "raw",
   "id": "c01c3d56-1c79-4b1e-b6cd-cb4ca3d1b060",
   "metadata": {},
   "source": [
    "NOTE:- Whenever u r doing a indexing operations in that case if indexes r not available it gives error but in slicing operation it works. "
   ]
  },
  {
   "cell_type": "code",
   "execution_count": 98,
   "id": "62fee4b6-483f-4a18-b15e-b2e5ea002451",
   "metadata": {},
   "outputs": [
    {
     "data": {
      "text/plain": [
       "'skills'"
      ]
     },
     "execution_count": 98,
     "metadata": {},
     "output_type": "execute_result"
    }
   ],
   "source": [
    "s1[2:900]"
   ]
  },
  {
   "cell_type": "code",
   "execution_count": 99,
   "id": "b9a6a660-aca7-4773-b4f6-541b01da94ab",
   "metadata": {},
   "outputs": [
    {
     "data": {
      "text/plain": [
       "'skills'"
      ]
     },
     "execution_count": 99,
     "metadata": {},
     "output_type": "execute_result"
    }
   ],
   "source": [
    "s1[2:]"
   ]
  },
  {
   "cell_type": "raw",
   "id": "d00c3223-63db-484b-a1ba-b6f251e18faa",
   "metadata": {},
   "source": [
    "TO GET RANDOM CGARACTER:-"
   ]
  },
  {
   "cell_type": "code",
   "execution_count": 102,
   "id": "180f8f5f-19ce-4345-97ce-9f9a50c42903",
   "metadata": {},
   "outputs": [
    {
     "data": {
      "text/plain": [
       "'psil'"
      ]
     },
     "execution_count": 102,
     "metadata": {},
     "output_type": "execute_result"
    }
   ],
   "source": [
    "s1[0:8:2]"
   ]
  },
  {
   "cell_type": "code",
   "execution_count": 105,
   "id": "1fd7af07-bd95-4f78-81f8-3eb7d5e1534a",
   "metadata": {},
   "outputs": [
    {
     "data": {
      "text/plain": [
       "'slli'"
      ]
     },
     "execution_count": 105,
     "metadata": {},
     "output_type": "execute_result"
    }
   ],
   "source": [
    "s1[-1:-5:-1]"
   ]
  },
  {
   "cell_type": "code",
   "execution_count": 106,
   "id": "83d7b70e-5d2d-4a34-846d-9c02a52d1a70",
   "metadata": {},
   "outputs": [
    {
     "data": {
      "text/plain": [
       "'slli'"
      ]
     },
     "execution_count": 106,
     "metadata": {},
     "output_type": "execute_result"
    }
   ],
   "source": [
    "s1[7:3:-1]"
   ]
  },
  {
   "cell_type": "code",
   "execution_count": 109,
   "id": "4c764b7b-1f87-4fc3-bd85-338e21903806",
   "metadata": {},
   "outputs": [
    {
     "data": {
      "text/plain": [
       "'sllikswp'"
      ]
     },
     "execution_count": 109,
     "metadata": {},
     "output_type": "execute_result"
    }
   ],
   "source": [
    "s1[7::-1]"
   ]
  },
  {
   "cell_type": "code",
   "execution_count": 111,
   "id": "fb41aeaa-f5f7-4195-bae5-a000c94acc01",
   "metadata": {},
   "outputs": [
    {
     "data": {
      "text/plain": [
       "'sllikswp'"
      ]
     },
     "execution_count": 111,
     "metadata": {},
     "output_type": "execute_result"
    }
   ],
   "source": [
    "s1[7:-800:-1]"
   ]
  },
  {
   "cell_type": "code",
   "execution_count": 112,
   "id": "ef36cf09-195b-4952-8c83-7cc5bb369dc6",
   "metadata": {},
   "outputs": [
    {
     "data": {
      "text/plain": [
       "'sllikswp'"
      ]
     },
     "execution_count": 112,
     "metadata": {},
     "output_type": "execute_result"
    }
   ],
   "source": [
    "s1[::-1]"
   ]
  },
  {
   "cell_type": "code",
   "execution_count": 116,
   "id": "fe4a1887-aefa-470c-9aeb-df028948ab0b",
   "metadata": {},
   "outputs": [
    {
     "ename": "TypeError",
     "evalue": "'str' object does not support item assignment",
     "output_type": "error",
     "traceback": [
      "\u001b[0;31m---------------------------------------------------------------------------\u001b[0m",
      "\u001b[0;31mTypeError\u001b[0m                                 Traceback (most recent call last)",
      "Cell \u001b[0;32mIn[116], line 1\u001b[0m\n\u001b[0;32m----> 1\u001b[0m \u001b[43ms1\u001b[49m\u001b[43m[\u001b[49m\u001b[38;5;241;43m0\u001b[39;49m\u001b[43m]\u001b[49m\u001b[38;5;241m=\u001b[39ms\n",
      "\u001b[0;31mTypeError\u001b[0m: 'str' object does not support item assignment"
     ]
    }
   ],
   "source": [
    "s1[0]=s"
   ]
  },
  {
   "cell_type": "raw",
   "id": "9b65f0f0-17ad-48d3-8e46-39a9a521f961",
   "metadata": {},
   "source": [
    "NOTE:-  1.  in string indexing ,reassignment is not allowed\n",
    "        2.  if u r not able to change any particular data in any given indexes             then data type is  called as immutability datatype. \n",
    "        e.g- string is immutability datatypes."
   ]
  },
  {
   "cell_type": "code",
   "execution_count": 117,
   "id": "81f0fe64-0e58-4634-b154-5e1fb0de445d",
   "metadata": {},
   "outputs": [],
   "source": [
    "a=12"
   ]
  },
  {
   "cell_type": "code",
   "execution_count": 118,
   "id": "a0a85f20-c4a1-4546-8189-5a36e2a8f3d8",
   "metadata": {},
   "outputs": [],
   "source": [
    "a=23"
   ]
  },
  {
   "cell_type": "code",
   "execution_count": 119,
   "id": "95440f14-1e0a-4fbd-a771-cbabff7d5cda",
   "metadata": {},
   "outputs": [
    {
     "data": {
      "text/plain": [
       "23"
      ]
     },
     "execution_count": 119,
     "metadata": {},
     "output_type": "execute_result"
    }
   ],
   "source": [
    "a"
   ]
  },
  {
   "cell_type": "code",
   "execution_count": null,
   "id": "96747306-79cc-431f-a7d4-1718ce34530b",
   "metadata": {},
   "outputs": [],
   "source": []
  }
 ],
 "metadata": {
  "kernelspec": {
   "display_name": "Python 3 (ipykernel)",
   "language": "python",
   "name": "python3"
  },
  "language_info": {
   "codemirror_mode": {
    "name": "ipython",
    "version": 3
   },
   "file_extension": ".py",
   "mimetype": "text/x-python",
   "name": "python",
   "nbconvert_exporter": "python",
   "pygments_lexer": "ipython3",
   "version": "3.10.8"
  }
 },
 "nbformat": 4,
 "nbformat_minor": 5
}
