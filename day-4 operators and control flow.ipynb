{
 "cells": [
  {
   "cell_type": "raw",
   "id": "70732085-56f0-4616-912d-dd68f23795a3",
   "metadata": {},
   "source": [
    "  LOGICAL OPERATOR:-"
   ]
  },
  {
   "cell_type": "raw",
   "id": "b4daa23d-5d91-4c37-9516-337a535f5e5b",
   "metadata": {},
   "source": [
    "LOGICAL \"AND\" OPERATOR:-"
   ]
  },
  {
   "cell_type": "code",
   "execution_count": 1,
   "id": "154ecd75-5bf3-4c13-a863-ff57c3ce1109",
   "metadata": {},
   "outputs": [],
   "source": [
    "a=10\n",
    "b=20"
   ]
  },
  {
   "cell_type": "code",
   "execution_count": 2,
   "id": "3b14ca2a-c6d5-472b-a286-533ee3fe97fd",
   "metadata": {},
   "outputs": [
    {
     "data": {
      "text/plain": [
       "False"
      ]
     },
     "execution_count": 2,
     "metadata": {},
     "output_type": "execute_result"
    }
   ],
   "source": [
    "((a>10)and(b>20))"
   ]
  },
  {
   "cell_type": "code",
   "execution_count": 3,
   "id": "12e1e3a3-48d4-4895-8128-db777bb19f59",
   "metadata": {},
   "outputs": [
    {
     "data": {
      "text/plain": [
       "True"
      ]
     },
     "execution_count": 3,
     "metadata": {},
     "output_type": "execute_result"
    }
   ],
   "source": [
    "((a>6)and(b>7))"
   ]
  },
  {
   "cell_type": "code",
   "execution_count": 4,
   "id": "1cee53db-42f8-4cd0-aa48-89a7ff2c3a4d",
   "metadata": {},
   "outputs": [
    {
     "name": "stdout",
     "output_type": "stream",
     "text": [
      "True\n"
     ]
    }
   ],
   "source": [
    "print(True and True)"
   ]
  },
  {
   "cell_type": "code",
   "execution_count": 5,
   "id": "aa0bb4af-9c72-4adc-bbd6-b92120e0b488",
   "metadata": {},
   "outputs": [
    {
     "name": "stdout",
     "output_type": "stream",
     "text": [
      "False\n"
     ]
    }
   ],
   "source": [
    "print(True and False)"
   ]
  },
  {
   "cell_type": "code",
   "execution_count": 6,
   "id": "9a05e9b5-5e54-4fbe-91a6-283552b68ac3",
   "metadata": {},
   "outputs": [
    {
     "name": "stdout",
     "output_type": "stream",
     "text": [
      "False\n"
     ]
    }
   ],
   "source": [
    "print(False and False)"
   ]
  },
  {
   "cell_type": "raw",
   "id": "41431ac9-8a16-4007-9a44-7143bd5b3394",
   "metadata": {},
   "source": [
    "TRUTH TABLE FOR AND OPERATOR:-\n",
    "\n",
    "0 0 =0\n",
    "0 1 =0\n",
    "1 0 =0\n",
    "1 1 =1"
   ]
  },
  {
   "cell_type": "raw",
   "id": "7f47ba35-c1fd-4f35-85ce-970f40edc3f5",
   "metadata": {},
   "source": [
    "LOGICAL \"OR\" OPERATOR:-"
   ]
  },
  {
   "cell_type": "raw",
   "id": "bce82237-ee14-43ac-9d29-cb1e942e826a",
   "metadata": {},
   "source": [
    "TRUTH TABLE FOR OR OPERATOR:-\n",
    "\n",
    "0 0 =0\n",
    "0 1 =1\n",
    "1 0 =1\n",
    "1 1 =1"
   ]
  },
  {
   "cell_type": "code",
   "execution_count": 7,
   "id": "ebbd2cd1-92b9-44fa-b9de-559f0d499aeb",
   "metadata": {},
   "outputs": [
    {
     "data": {
      "text/plain": [
       "True"
      ]
     },
     "execution_count": 7,
     "metadata": {},
     "output_type": "execute_result"
    }
   ],
   "source": [
    "((a>6) or (b>7))"
   ]
  },
  {
   "cell_type": "code",
   "execution_count": 8,
   "id": "d03ab083-3d0f-46b3-b91a-8a586245b3cc",
   "metadata": {},
   "outputs": [
    {
     "data": {
      "text/plain": [
       "False"
      ]
     },
     "execution_count": 8,
     "metadata": {},
     "output_type": "execute_result"
    }
   ],
   "source": [
    "((a>10) or (b>20))"
   ]
  },
  {
   "cell_type": "code",
   "execution_count": 9,
   "id": "5e1fae50-d982-48a4-b8e8-765a86b4d909",
   "metadata": {},
   "outputs": [
    {
     "name": "stdout",
     "output_type": "stream",
     "text": [
      "True\n"
     ]
    }
   ],
   "source": [
    "print(True or True)"
   ]
  },
  {
   "cell_type": "code",
   "execution_count": 10,
   "id": "9bccc77f-9a6f-4114-873c-c1eba19938c3",
   "metadata": {},
   "outputs": [
    {
     "name": "stdout",
     "output_type": "stream",
     "text": [
      "True\n"
     ]
    }
   ],
   "source": [
    "print(False or True)"
   ]
  },
  {
   "cell_type": "code",
   "execution_count": 11,
   "id": "87f090a5-5232-4683-970c-b80b43a583bb",
   "metadata": {},
   "outputs": [
    {
     "name": "stdout",
     "output_type": "stream",
     "text": [
      "False\n"
     ]
    }
   ],
   "source": [
    "print(False or False)"
   ]
  },
  {
   "cell_type": "raw",
   "id": "ce3c1dea-949f-484b-8b06-03d9770f1e9f",
   "metadata": {},
   "source": [
    "LOGICAL \"NOT\" OPERATORS:- it only convert 0 to 1 ,1 to 0. "
   ]
  },
  {
   "cell_type": "raw",
   "id": "429feac8-0fe9-45ab-a255-3dadc4571d60",
   "metadata": {},
   "source": [
    "a=True"
   ]
  },
  {
   "cell_type": "code",
   "execution_count": 12,
   "id": "71a652ac-e59e-4dbb-8769-c1df050a17e5",
   "metadata": {},
   "outputs": [
    {
     "data": {
      "text/plain": [
       "False"
      ]
     },
     "execution_count": 12,
     "metadata": {},
     "output_type": "execute_result"
    }
   ],
   "source": [
    "not(a)"
   ]
  },
  {
   "cell_type": "code",
   "execution_count": 13,
   "id": "10844047-25f9-4713-bb43-8792346da49c",
   "metadata": {},
   "outputs": [],
   "source": [
    "b=False"
   ]
  },
  {
   "cell_type": "code",
   "execution_count": 14,
   "id": "64a05ac4-ed3f-444d-82f0-c0cb9446486f",
   "metadata": {},
   "outputs": [
    {
     "data": {
      "text/plain": [
       "True"
      ]
     },
     "execution_count": 14,
     "metadata": {},
     "output_type": "execute_result"
    }
   ],
   "source": [
    "not(b)"
   ]
  },
  {
   "cell_type": "raw",
   "id": "3a2cac2f-6b10-4098-87bd-c2c57002e11d",
   "metadata": {},
   "source": [
    "BITWISE OPERATOR:- \n",
    "1.  \"&\"------ and \n",
    "2.  \"|\"------ or\n",
    "3.  \"^\"------ xor\n",
    "4.  \"~\"------ negation\n",
    "5.  \"<<\"----- left shift\n",
    "6.  \">>\"----- right shift"
   ]
  },
  {
   "cell_type": "code",
   "execution_count": 15,
   "id": "799c189e-1ecd-42e6-836d-f15968093ce1",
   "metadata": {},
   "outputs": [],
   "source": [
    "a=10\n",
    "b=4"
   ]
  },
  {
   "cell_type": "code",
   "execution_count": 16,
   "id": "7d89bc81-8c3c-4f2d-b0e7-4de59ef320c5",
   "metadata": {},
   "outputs": [
    {
     "data": {
      "text/plain": [
       "'0b1010'"
      ]
     },
     "execution_count": 16,
     "metadata": {},
     "output_type": "execute_result"
    }
   ],
   "source": [
    "bin(a)"
   ]
  },
  {
   "cell_type": "code",
   "execution_count": 17,
   "id": "61824de4-c370-45ea-9a51-b7bfab1af3d6",
   "metadata": {},
   "outputs": [
    {
     "data": {
      "text/plain": [
       "'0b100'"
      ]
     },
     "execution_count": 17,
     "metadata": {},
     "output_type": "execute_result"
    }
   ],
   "source": [
    "bin(b)"
   ]
  },
  {
   "cell_type": "code",
   "execution_count": 18,
   "id": "4f642cc6-dc32-4e83-9b0a-c9f6ccb14b4c",
   "metadata": {},
   "outputs": [
    {
     "data": {
      "text/plain": [
       "0"
      ]
     },
     "execution_count": 18,
     "metadata": {},
     "output_type": "execute_result"
    }
   ],
   "source": [
    "a&b    "
   ]
  },
  {
   "cell_type": "raw",
   "id": "ea722727-34fe-43ab-98f5-93644b119590",
   "metadata": {},
   "source": [
    "NOTE:- In bitwise operator to doing any opearation first u have to conert the decimal value to binary the and the start operation in between them then again convert binary no. to decimal. "
   ]
  },
  {
   "cell_type": "raw",
   "id": "8d58e73b-8cdd-42af-9960-9d39f5e5766e",
   "metadata": {},
   "source": [
    "in the above question a&b\n",
    " a value 10 =1010(in binary)\n",
    " b value 4  =0100(in binary)\n",
    "             ----\n",
    "and opertion 0000 (0000- 0 in decimal)           \n",
    "                                                                        "
   ]
  },
  {
   "cell_type": "code",
   "execution_count": 19,
   "id": "4383880a-687f-434a-a207-1a215d2b96fe",
   "metadata": {},
   "outputs": [
    {
     "data": {
      "text/plain": [
       "14"
      ]
     },
     "execution_count": 19,
     "metadata": {},
     "output_type": "execute_result"
    }
   ],
   "source": [
    "a|b"
   ]
  },
  {
   "cell_type": "code",
   "execution_count": 20,
   "id": "9b4cc075-e54d-4948-bf5a-efad807923d3",
   "metadata": {},
   "outputs": [
    {
     "data": {
      "text/plain": [
       "14"
      ]
     },
     "execution_count": 20,
     "metadata": {},
     "output_type": "execute_result"
    }
   ],
   "source": [
    "a^b"
   ]
  },
  {
   "cell_type": "raw",
   "id": "c1984851-2b38-4817-94db-ba8f75ba0c21",
   "metadata": {},
   "source": [
    "TRUTH TABLE FOR XOR(^):-\n",
    "------------------------\n",
    "0 0 =0\n",
    "0 1 =1\n",
    "1 0 =1\n",
    "1 1 =0"
   ]
  },
  {
   "cell_type": "code",
   "execution_count": 21,
   "id": "b0cf687e-6af9-4b2a-bbc5-c3fe3c68d557",
   "metadata": {},
   "outputs": [],
   "source": [
    "a=10"
   ]
  },
  {
   "cell_type": "code",
   "execution_count": 22,
   "id": "4a2a52e3-ee31-444d-b9c8-e6e7e92575c1",
   "metadata": {},
   "outputs": [
    {
     "data": {
      "text/plain": [
       "-11"
      ]
     },
     "execution_count": 22,
     "metadata": {},
     "output_type": "execute_result"
    }
   ],
   "source": [
    "~a"
   ]
  },
  {
   "cell_type": "raw",
   "id": "baa87ef4-5ed3-4f19-a97e-60e85a3951bc",
   "metadata": {},
   "source": [
    "NOTE:-  To get negation of any no. just add 1 to the given no. and change the sign of the result u get."
   ]
  },
  {
   "cell_type": "code",
   "execution_count": 23,
   "id": "e806c5df-84a5-4d58-a253-8bc5c5283b6d",
   "metadata": {},
   "outputs": [],
   "source": [
    "a=-10"
   ]
  },
  {
   "cell_type": "code",
   "execution_count": 24,
   "id": "a9b3e861-477a-4269-9144-9b6c3d1349d4",
   "metadata": {},
   "outputs": [
    {
     "data": {
      "text/plain": [
       "9"
      ]
     },
     "execution_count": 24,
     "metadata": {},
     "output_type": "execute_result"
    }
   ],
   "source": [
    "~a"
   ]
  },
  {
   "cell_type": "code",
   "execution_count": 25,
   "id": "527df332-38d5-4579-9194-9919dd1af5d5",
   "metadata": {},
   "outputs": [],
   "source": [
    "x=[1,2,3,4,5]"
   ]
  },
  {
   "cell_type": "code",
   "execution_count": 26,
   "id": "c2423d3a-c46c-42c0-a085-9ef6bea1b53a",
   "metadata": {},
   "outputs": [
    {
     "data": {
      "text/plain": [
       "True"
      ]
     },
     "execution_count": 26,
     "metadata": {},
     "output_type": "execute_result"
    }
   ],
   "source": [
    "2 in x   #  \"in\" it is a membership operator. "
   ]
  },
  {
   "cell_type": "code",
   "execution_count": 27,
   "id": "b00df5d0-89a1-4e31-b2d6-92a89ce3e552",
   "metadata": {},
   "outputs": [
    {
     "data": {
      "text/plain": [
       "False"
      ]
     },
     "execution_count": 27,
     "metadata": {},
     "output_type": "execute_result"
    }
   ],
   "source": [
    "6 in x"
   ]
  },
  {
   "cell_type": "code",
   "execution_count": 28,
   "id": "ef405adc-c592-4caf-8152-7a427f733711",
   "metadata": {},
   "outputs": [],
   "source": [
    "a=10"
   ]
  },
  {
   "cell_type": "code",
   "execution_count": 29,
   "id": "bb942070-2ac2-4fae-95d9-845554c1cd08",
   "metadata": {},
   "outputs": [
    {
     "data": {
      "text/plain": [
       "5"
      ]
     },
     "execution_count": 29,
     "metadata": {},
     "output_type": "execute_result"
    }
   ],
   "source": [
    "a>>1"
   ]
  },
  {
   "cell_type": "raw",
   "id": "b327c31c-412a-4592-86ea-8cf9f648103a",
   "metadata": {},
   "source": [
    "RIGHT SHIFT OPERATOR:-\n",
    "---------------------\n",
    "Bitwise right shift: Shifts the bits of the number to the right and fills 0 on voids left  ( fills 1 in the case of a negative number) as a result. Similar effect as of dividing the number with some power of two.\n",
    "Example: \n",
    "\n",
    "Example 1:\n",
    "a = 10 = 1010 (Binary)\n",
    "a >> 1 = 0101 = 5\n",
    "shortcut method:-in right shift if u shift 1 just devide to the given decimal no. if u shift 2 then just devide 4 to the given decimal likewise we can get the ans easily."
   ]
  },
  {
   "cell_type": "code",
   "execution_count": 30,
   "id": "d6735be5-7fa3-489d-961c-c61d8cc52b8b",
   "metadata": {},
   "outputs": [],
   "source": [
    "a=10"
   ]
  },
  {
   "cell_type": "code",
   "execution_count": 31,
   "id": "28010ce4-f9bb-49b9-8285-fe8ea64d8872",
   "metadata": {},
   "outputs": [
    {
     "data": {
      "text/plain": [
       "20"
      ]
     },
     "execution_count": 31,
     "metadata": {},
     "output_type": "execute_result"
    }
   ],
   "source": [
    "a<<1"
   ]
  },
  {
   "cell_type": "raw",
   "id": "8dd5029a-ce3d-4441-ab58-a332a19ab3e4",
   "metadata": {},
   "source": [
    "Bitwise left shift:- Shifts the bits of the number to the left and fills 0 on voids right as a result. Similar effect as of multiplying the number with some power of two.\n",
    "Example: \n",
    "\n",
    "Example 1:\n",
    "a = 5 =  0101 (Binary)\n",
    "a << 1 = 1010 = 10\n",
    "a << 2 = 0100 = 20 \n",
    "\n",
    "shortcut method:- in left shift if u shift 1 just multiply to the given decimal no. if u shift 2 then just multiply 4 to the given decimal likewise we can get the ans easily."
   ]
  },
  {
   "cell_type": "code",
   "execution_count": 32,
   "id": "cf21508c-dacf-40f6-88ce-2b3d0a7aea86",
   "metadata": {},
   "outputs": [
    {
     "data": {
      "text/plain": [
       "40"
      ]
     },
     "execution_count": 32,
     "metadata": {},
     "output_type": "execute_result"
    }
   ],
   "source": [
    "a<<2"
   ]
  },
  {
   "cell_type": "code",
   "execution_count": 33,
   "id": "ad0036da-4fcd-4d85-a029-9fb17a6d94df",
   "metadata": {},
   "outputs": [
    {
     "data": {
      "text/plain": [
       "80"
      ]
     },
     "execution_count": 33,
     "metadata": {},
     "output_type": "execute_result"
    }
   ],
   "source": [
    "a<<3"
   ]
  },
  {
   "cell_type": "code",
   "execution_count": 34,
   "id": "2f89fe06-738f-471a-8510-5d261175da7f",
   "metadata": {},
   "outputs": [
    {
     "data": {
      "text/plain": [
       "5"
      ]
     },
     "execution_count": 34,
     "metadata": {},
     "output_type": "execute_result"
    }
   ],
   "source": [
    "a>>1"
   ]
  },
  {
   "cell_type": "code",
   "execution_count": 35,
   "id": "a05c8227-441c-4f1a-b852-55ff619a3839",
   "metadata": {},
   "outputs": [
    {
     "data": {
      "text/plain": [
       "2"
      ]
     },
     "execution_count": 35,
     "metadata": {},
     "output_type": "execute_result"
    }
   ],
   "source": [
    "a>>2"
   ]
  },
  {
   "cell_type": "code",
   "execution_count": 36,
   "id": "c0d65cbc-c50c-416d-b9dd-1855d0d464c4",
   "metadata": {},
   "outputs": [
    {
     "data": {
      "text/plain": [
       "1"
      ]
     },
     "execution_count": 36,
     "metadata": {},
     "output_type": "execute_result"
    }
   ],
   "source": [
    "a>>3"
   ]
  },
  {
   "cell_type": "code",
   "execution_count": 37,
   "id": "6c26f31b-c65e-4654-b6ca-dd69de7d808e",
   "metadata": {},
   "outputs": [
    {
     "data": {
      "text/plain": [
       "0"
      ]
     },
     "execution_count": 37,
     "metadata": {},
     "output_type": "execute_result"
    }
   ],
   "source": [
    "a>>4"
   ]
  },
  {
   "cell_type": "raw",
   "id": "74680123-4319-40b0-9c3c-2911fbd62f7d",
   "metadata": {},
   "source": [
    "CONTROL STATEMENT:-\n",
    "-------------------\n",
    "1. if\n",
    "2. if else\n",
    "3. if elif else "
   ]
  },
  {
   "cell_type": "code",
   "execution_count": 38,
   "id": "2259bf12-2317-45de-8419-2e87a67e40ab",
   "metadata": {},
   "outputs": [],
   "source": [
    "age=17"
   ]
  },
  {
   "cell_type": "code",
   "execution_count": 39,
   "id": "0b795ee5-0344-45b3-83ad-be02e681203f",
   "metadata": {},
   "outputs": [],
   "source": [
    "if age>=18:\n",
    "    print(\"you can drive\")"
   ]
  },
  {
   "cell_type": "code",
   "execution_count": 40,
   "id": "c6399134-1918-4ebf-9186-fb0151d3bb78",
   "metadata": {},
   "outputs": [],
   "source": [
    "age=23"
   ]
  },
  {
   "cell_type": "code",
   "execution_count": 41,
   "id": "dd393026-add7-4ebf-9f97-23aec3b2e2ab",
   "metadata": {},
   "outputs": [
    {
     "name": "stdout",
     "output_type": "stream",
     "text": [
      "you can drive\n"
     ]
    }
   ],
   "source": [
    "if age>=18:\n",
    "    print(\"you can drive\")"
   ]
  },
  {
   "cell_type": "code",
   "execution_count": 42,
   "id": "e10a330e-8d6f-4b86-b92e-42794a9c285a",
   "metadata": {},
   "outputs": [],
   "source": [
    "x=2\n",
    "if x>=23:\n",
    "    print(\"you are inside the if block\")"
   ]
  },
  {
   "cell_type": "code",
   "execution_count": 43,
   "id": "6b280030-ac67-47f5-91f8-333dfa86f0b5",
   "metadata": {},
   "outputs": [
    {
     "name": "stdout",
     "output_type": "stream",
     "text": [
      "you are inside the if block\n"
     ]
    }
   ],
   "source": [
    "x=25\n",
    "if x>=23:\n",
    "    print(\"you are inside the if block\")"
   ]
  },
  {
   "cell_type": "code",
   "execution_count": 44,
   "id": "e7af04cc-5d22-4b1d-8496-9cf06bdbe43c",
   "metadata": {},
   "outputs": [
    {
     "name": "stdout",
     "output_type": "stream",
     "text": [
      "you can not drive\n"
     ]
    }
   ],
   "source": [
    "age=16\n",
    "if age>=18:\n",
    "    print(\"you can drive\")\n",
    "else:\n",
    "    print(\"you can not drive\")"
   ]
  },
  {
   "cell_type": "code",
   "execution_count": 45,
   "id": "f3c591c7-067b-44d9-b25a-d07e5777aa27",
   "metadata": {},
   "outputs": [
    {
     "name": "stdout",
     "output_type": "stream",
     "text": [
      "you can drive\n"
     ]
    }
   ],
   "source": [
    "age=34\n",
    "if age>=18:\n",
    "    print(\"you can drive\")\n",
    "else:\n",
    "    print(\"you can not drive\")"
   ]
  },
  {
   "cell_type": "code",
   "execution_count": 46,
   "id": "e29873d6-872e-4103-a241-1525d6d3211f",
   "metadata": {},
   "outputs": [
    {
     "name": "stdout",
     "output_type": "stream",
     "text": [
      "Excellent performance your grade is B \n"
     ]
    }
   ],
   "source": [
    "score=75\n",
    "\n",
    "if score>=90:\n",
    "    print(\"Excellent performance your grade is A+ \")\n",
    "elif score>=80:\n",
    "    print(\"Excellent performance your grade is A \")\n",
    "elif score>=70:\n",
    "    print(\"Excellent performance your grade is B \")\n",
    "else:\n",
    "    print(\"Excellent performance your grade is c \")\n",
    "    \n"
   ]
  },
  {
   "cell_type": "code",
   "execution_count": 47,
   "id": "dcbebcc1-59a4-4dc0-99e1-cd266f93fcb5",
   "metadata": {},
   "outputs": [
    {
     "name": "stdout",
     "output_type": "stream",
     "text": [
      "Excellent performance your grade is c \n"
     ]
    }
   ],
   "source": [
    "score=35\n",
    "\n",
    "if score>=90:\n",
    "    print(\"Excellent performance your grade is A+ \")\n",
    "elif score>=80:\n",
    "    print(\"Excellent performance your grade is A \")\n",
    "elif score>=70:\n",
    "    print(\"Excellent performance your grade is B \")\n",
    "else:\n",
    "    print(\"Excellent performance your grade is c \")\n",
    "    "
   ]
  },
  {
   "cell_type": "code",
   "execution_count": 48,
   "id": "ef96daf3-4dfe-4315-94e7-9c16d4a9db9c",
   "metadata": {},
   "outputs": [
    {
     "name": "stdin",
     "output_type": "stream",
     "text": [
      " 3\n"
     ]
    },
    {
     "name": "stdout",
     "output_type": "stream",
     "text": [
      "night\n"
     ]
    }
   ],
   "source": [
    "T=int(input())\n",
    "if T<0:\n",
    "    print(\"invalid\")\n",
    "elif 0<=T<=5:\n",
    "    print(\"night\")\n",
    "elif 6<=T<=11:\n",
    "    print(\"morning\")\n",
    "elif 12<=T<=17:\n",
    "    print(\"afternoon\")\n",
    "elif 18<=T<=23:\n",
    "    print(\"evening\")\n",
    "else: \n",
    "    print(\"invalid\")"
   ]
  },
  {
   "cell_type": "code",
   "execution_count": 49,
   "id": "d484a511-1f1f-4298-9cbd-389a300a1ba6",
   "metadata": {},
   "outputs": [
    {
     "name": "stdin",
     "output_type": "stream",
     "text": [
      " -2\n"
     ]
    },
    {
     "name": "stdout",
     "output_type": "stream",
     "text": [
      "invalid\n"
     ]
    }
   ],
   "source": [
    "T=int(input())\n",
    "if T<0:\n",
    "    print(\"invalid\")\n",
    "elif 0<=T<=5:\n",
    "    print(\"night\")\n",
    "elif 6<=T<=11:\n",
    "    print(\"morning\")\n",
    "elif 12<=T<=17:\n",
    "    print(\"afternoon\")\n",
    "elif 18<=T<=23:\n",
    "    print(\"evening\")\n",
    "else: \n",
    "    print(\"invalid\")"
   ]
  },
  {
   "cell_type": "code",
   "execution_count": 50,
   "id": "d651f874-f3d2-48eb-9a45-a3b9d6189690",
   "metadata": {},
   "outputs": [],
   "source": [
    "#find the largest no. from 3 given no."
   ]
  },
  {
   "cell_type": "code",
   "execution_count": 51,
   "id": "77c8b9f5-f6bc-4fa6-ac86-0ccd32bba2f5",
   "metadata": {},
   "outputs": [
    {
     "name": "stdout",
     "output_type": "stream",
     "text": [
      "largest number is 30\n"
     ]
    }
   ],
   "source": [
    "num1=10\n",
    "num2=20\n",
    "num3=30\n",
    "\n",
    "if(num1>=num2) and (num1>=num3):\n",
    "    largest=num1\n",
    "    print(\"largest number is\",num1)\n",
    "elif(num2>=num1) and (num2>=num3):\n",
    "    largest=num2\n",
    "    print(\"largest number is\",num2)\n",
    "else:\n",
    "    largest=num3\n",
    "    print(\"largest number is\",num3)\n",
    "    "
   ]
  },
  {
   "cell_type": "code",
   "execution_count": 52,
   "id": "8cbb03a0-22c4-4475-8425-e31c23ce46e5",
   "metadata": {},
   "outputs": [
    {
     "name": "stdin",
     "output_type": "stream",
     "text": [
      "enter first number: 23\n",
      "enter operator(+,-,*,/,%) : *234\n",
      "enetr second number:  12\n"
     ]
    },
    {
     "name": "stdout",
     "output_type": "stream",
     "text": [
      "invalid operator\n"
     ]
    }
   ],
   "source": [
    "first = input(\"enter first number:\")\n",
    "operator = input(\"enter operator(+,-,*,/,%) :\")\n",
    "second = input(\"enetr second number: \")\n",
    "\n",
    "first = int(first)\n",
    "second = int(second)\n",
    "\n",
    "if operator == \"+\" :\n",
    "    print (first+second)\n",
    "elif operator == \"-\" :\n",
    "    print (first - second)\n",
    "elif operator == \"*\" :\n",
    "    print (first*second)\n",
    "elif operator == \"/\" :\n",
    "    print (first/second)\n",
    "elif operator == \"%\" :\n",
    "    print (first%second)\n",
    "else:\n",
    "    print(\"invalid operator\")\n"
   ]
  },
  {
   "cell_type": "code",
   "execution_count": 53,
   "id": "30b8c579-f46e-4e70-82f5-0c7e9cc47b1e",
   "metadata": {},
   "outputs": [
    {
     "name": "stdin",
     "output_type": "stream",
     "text": [
      "enter first number: 23\n",
      "enter operator(+,-,*,/,%) : /\n",
      "enetr second number:  2\n"
     ]
    },
    {
     "name": "stdout",
     "output_type": "stream",
     "text": [
      "11.5\n"
     ]
    }
   ],
   "source": [
    "first = input(\"enter first number:\")\n",
    "operator = input(\"enter operator(+,-,*,/,%) :\")\n",
    "second = input(\"enetr second number: \")\n",
    "\n",
    "first = int(first)\n",
    "second = int(second)\n",
    "\n",
    "if operator == \"+\" :\n",
    "    print (first+second)\n",
    "elif operator == \"-\" :\n",
    "    print (first - second)\n",
    "elif operator == \"*\" :\n",
    "    print (first*second)\n",
    "elif operator == \"/\" :\n",
    "    print (first/second)\n",
    "elif operator == \"%\" :\n",
    "    print (first%second)\n",
    "else:\n",
    "    print(\"invalid operator\")\n"
   ]
  },
  {
   "cell_type": "code",
   "execution_count": 54,
   "id": "a0079b0c-691e-4a0e-9e49-32fb6187ec31",
   "metadata": {},
   "outputs": [
    {
     "name": "stdin",
     "output_type": "stream",
     "text": [
      "enter a number1: 234\n",
      "enter a number2: 45\n",
      "enter operator: %\n"
     ]
    },
    {
     "name": "stdout",
     "output_type": "stream",
     "text": [
      "9\n"
     ]
    }
   ],
   "source": [
    "num1 = int(input(\"enter a number1:\"))\n",
    "num2 = int(input(\"enter a number2:\"))\n",
    "op=input(\"enter operator:\")\n",
    "\n",
    "if op ==\"+\" :\n",
    "    print(num1+num2)\n",
    "elif op ==\"-\" :\n",
    "    print(num1-num2)\n",
    "elif op ==\"*\" :\n",
    "    print(num1*num2)\n",
    "elif op ==\"%\" :\n",
    "    print(num1%num2)\n",
    "elif op ==\"/\" :\n",
    "    print(num1/num2)\n",
    "else :\n",
    "    print(\"invalid operator\")"
   ]
  },
  {
   "cell_type": "code",
   "execution_count": 72,
   "id": "dae4ae24-2f44-46f1-95ca-e43685eebea8",
   "metadata": {},
   "outputs": [
    {
     "name": "stdin",
     "output_type": "stream",
     "text": [
      "enter a number1: 345\n",
      "enter a number2: 45\n",
      "enter operator: *\n"
     ]
    },
    {
     "name": "stdout",
     "output_type": "stream",
     "text": [
      "15525\n"
     ]
    }
   ],
   "source": [
    "num1 = int(input(\"enter a number1:\"))\n",
    "num2 = int(input(\"enter a number2:\"))\n",
    "op=input(\"enter operator:\")\n",
    "\n",
    "if op ==\"+\" :\n",
    "    print(num1+num2)\n",
    "elif op ==\"-\" :\n",
    "    print(num1-num2)\n",
    "elif op ==\"*\" :\n",
    "    print(num1*num2)\n",
    "elif op ==\"%\" :\n",
    "    print(num1%num2)\n",
    "elif op ==\"/\" :\n",
    "    print(num1/num2)\n",
    "else :\n",
    "    print(\"invalid operator\")"
   ]
  },
  {
   "cell_type": "code",
   "execution_count": 56,
   "id": "d1d7a088-8bb6-478c-b1b3-13e8d0699155",
   "metadata": {},
   "outputs": [
    {
     "name": "stdout",
     "output_type": "stream",
     "text": [
      "number is positive\n"
     ]
    }
   ],
   "source": [
    "num = 10\n",
    "\n",
    "if(num>=0):\n",
    "    if num == 0:\n",
    "        print(\"number is 0\")\n",
    "    else:\n",
    "        print(\"number is positive\")\n",
    "else:\n",
    "    print(\"number is negative\")"
   ]
  },
  {
   "cell_type": "code",
   "execution_count": 57,
   "id": "5cef0069-f090-4ccd-9e8c-c38904cecbcc",
   "metadata": {},
   "outputs": [
    {
     "name": "stdout",
     "output_type": "stream",
     "text": [
      "number is negative\n"
     ]
    }
   ],
   "source": [
    "num = -2\n",
    "\n",
    "if(num>=0):\n",
    "    if num == 0:\n",
    "        print(\"number is 0\")\n",
    "    else:\n",
    "        print(\"number is positive\")\n",
    "else:\n",
    "    print(\"number is negative\")"
   ]
  },
  {
   "cell_type": "code",
   "execution_count": 58,
   "id": "424426da-f5bc-4309-8520-85998f4d8f67",
   "metadata": {},
   "outputs": [
    {
     "name": "stdout",
     "output_type": "stream",
     "text": [
      "number is 0\n"
     ]
    }
   ],
   "source": [
    "num = 0\n",
    "\n",
    "if(num>=0):\n",
    "    if num == 0:\n",
    "        print(\"number is 0\")\n",
    "    else:\n",
    "        print(\"number is positive\")\n",
    "else:\n",
    "    print(\"number is negative\")"
   ]
  },
  {
   "cell_type": "code",
   "execution_count": 59,
   "id": "eb50947b-7e11-4302-a53c-181f506945f6",
   "metadata": {},
   "outputs": [
    {
     "data": {
      "text/plain": [
       "range(0, 5)"
      ]
     },
     "execution_count": 59,
     "metadata": {},
     "output_type": "execute_result"
    }
   ],
   "source": [
    "range(5)"
   ]
  },
  {
   "cell_type": "code",
   "execution_count": 60,
   "id": "6062a9d7-867a-489d-ab32-b6afa1c2489d",
   "metadata": {},
   "outputs": [
    {
     "data": {
      "text/plain": [
       "[0, 1, 2, 3, 4]"
      ]
     },
     "execution_count": 60,
     "metadata": {},
     "output_type": "execute_result"
    }
   ],
   "source": [
    "list(range(5))"
   ]
  },
  {
   "cell_type": "code",
   "execution_count": 61,
   "id": "d7bc0cce-61ac-4b23-84b2-113f70762a00",
   "metadata": {},
   "outputs": [
    {
     "data": {
      "text/plain": [
       "[0, 1, 2, 3, 4, 5, 6, 7, 8, 9]"
      ]
     },
     "execution_count": 61,
     "metadata": {},
     "output_type": "execute_result"
    }
   ],
   "source": [
    "list(range(10))"
   ]
  },
  {
   "cell_type": "code",
   "execution_count": 62,
   "id": "82851435-219f-4e6b-a62e-f3fea4906748",
   "metadata": {},
   "outputs": [
    {
     "data": {
      "text/plain": [
       "[2, 3, 4, 5, 6, 7, 8, 9]"
      ]
     },
     "execution_count": 62,
     "metadata": {},
     "output_type": "execute_result"
    }
   ],
   "source": [
    "list(range(2,10))"
   ]
  },
  {
   "cell_type": "code",
   "execution_count": 63,
   "id": "1685d5d8-15ed-4423-963f-366b8eec822e",
   "metadata": {},
   "outputs": [
    {
     "data": {
      "text/plain": [
       "[21, 22, 23, 24, 25, 26, 27, 28, 29]"
      ]
     },
     "execution_count": 63,
     "metadata": {},
     "output_type": "execute_result"
    }
   ],
   "source": [
    "list(range(21,30))"
   ]
  },
  {
   "cell_type": "code",
   "execution_count": 64,
   "id": "24bb8097-d4c6-4dab-b22f-3cb3a2091f30",
   "metadata": {},
   "outputs": [
    {
     "data": {
      "text/plain": [
       "[2, 4, 6, 8, 10]"
      ]
     },
     "execution_count": 64,
     "metadata": {},
     "output_type": "execute_result"
    }
   ],
   "source": [
    "list(range(2,12,2))"
   ]
  },
  {
   "cell_type": "code",
   "execution_count": 65,
   "id": "e797608f-6706-45fc-ac3b-4d56bd78b789",
   "metadata": {},
   "outputs": [
    {
     "data": {
      "text/plain": [
       "[20, 23, 26, 29, 32, 35, 38, 41, 44]"
      ]
     },
     "execution_count": 65,
     "metadata": {},
     "output_type": "execute_result"
    }
   ],
   "source": [
    "list(range(20,45,3))"
   ]
  },
  {
   "cell_type": "raw",
   "id": "ce04014d-2f03-4ebf-8829-c9ac3b50040e",
   "metadata": {},
   "source": [
    "NOTE:- in range function there are 3 parameters i.e start,stop,step(\"range(satrt , stop,step)) if u give one value by default it take as stop and return the start value as zero and the given ,if we give two value it take first value as start value and print the previous value(exclusive function),if we give three value third value is act like jump ."
   ]
  },
  {
   "cell_type": "code",
   "execution_count": 66,
   "id": "67374321-a303-4460-ac2c-14e333e2af9e",
   "metadata": {},
   "outputs": [
    {
     "name": "stdout",
     "output_type": "stream",
     "text": [
      "0\n",
      "1\n",
      "2\n",
      "3\n",
      "4\n"
     ]
    }
   ],
   "source": [
    "for i in range(5):\n",
    "    print(i)"
   ]
  },
  {
   "cell_type": "code",
   "execution_count": 67,
   "id": "ae00367c-43fb-4fc8-b96f-6a8a69fb7d08",
   "metadata": {},
   "outputs": [
    {
     "name": "stdout",
     "output_type": "stream",
     "text": [
      "0\n",
      "1\n",
      "2\n"
     ]
    }
   ],
   "source": [
    "for i in range(3):\n",
    "    print(i)"
   ]
  },
  {
   "cell_type": "code",
   "execution_count": 68,
   "id": "20246d66-73d2-4c73-811b-dbb975e21664",
   "metadata": {},
   "outputs": [
    {
     "name": "stdout",
     "output_type": "stream",
     "text": [
      "a\n",
      "b\n",
      "c\n"
     ]
    }
   ],
   "source": [
    "for i in [\"a\",\"b\",\"c\"] :\n",
    "    print (i)"
   ]
  },
  {
   "cell_type": "code",
   "execution_count": 69,
   "id": "4a5cb9ec-2499-40ed-bbe2-47e50c8e33ea",
   "metadata": {},
   "outputs": [
    {
     "name": "stdout",
     "output_type": "stream",
     "text": [
      "a\n",
      "b\n",
      "c\n"
     ]
    }
   ],
   "source": [
    "for x in [\"a\",\"b\",\"c\"] :\n",
    "    print (x)"
   ]
  },
  {
   "cell_type": "code",
   "execution_count": 70,
   "id": "267b2206-2ecd-47c3-920b-33e0ea667479",
   "metadata": {},
   "outputs": [
    {
     "name": "stdout",
     "output_type": "stream",
     "text": [
      "p\n",
      "w\n",
      "s\n",
      "k\n",
      "i\n",
      "l\n",
      "l\n",
      "s\n"
     ]
    }
   ],
   "source": [
    "for i in \"pwskills\" :\n",
    "    print(i)"
   ]
  },
  {
   "cell_type": "code",
   "execution_count": 71,
   "id": "f4e0ed2d-5adf-4192-9c54-90e91eaf45c6",
   "metadata": {},
   "outputs": [
    {
     "ename": "TypeError",
     "evalue": "'int' object is not iterable",
     "output_type": "error",
     "traceback": [
      "\u001b[0;31m---------------------------------------------------------------------------\u001b[0m",
      "\u001b[0;31mTypeError\u001b[0m                                 Traceback (most recent call last)",
      "Cell \u001b[0;32mIn[71], line 1\u001b[0m\n\u001b[0;32m----> 1\u001b[0m \u001b[38;5;28;01mfor\u001b[39;00m i \u001b[38;5;129;01min\u001b[39;00m \u001b[38;5;241m23\u001b[39m:\n\u001b[1;32m      2\u001b[0m     \u001b[38;5;28mprint\u001b[39m (i)\n",
      "\u001b[0;31mTypeError\u001b[0m: 'int' object is not iterable"
     ]
    }
   ],
   "source": [
    "for i in 23:\n",
    "    print (i)"
   ]
  },
  {
   "cell_type": "raw",
   "id": "d06b67eb-ba89-4f17-a4e7-adc3cba4a594",
   "metadata": {},
   "source": [
    "NOTE:- we can't loop over the integer ,expect integer everything we can loop over."
   ]
  },
  {
   "cell_type": "code",
   "execution_count": 73,
   "id": "b3c6b4a0-57be-4a21-8674-e970c5f2cb2f",
   "metadata": {},
   "outputs": [],
   "source": [
    "x={\"name\":\"payal\",\"city\":\"bhubaneswar\"}"
   ]
  },
  {
   "cell_type": "code",
   "execution_count": 74,
   "id": "2428b00e-77fb-4c08-84ea-5de0013a437d",
   "metadata": {},
   "outputs": [
    {
     "name": "stdout",
     "output_type": "stream",
     "text": [
      "payal\n",
      "bhubaneswar\n"
     ]
    }
   ],
   "source": [
    "for i in x.values():\n",
    "    print(i)"
   ]
  },
  {
   "cell_type": "code",
   "execution_count": 75,
   "id": "03a923ed-4c8a-4a6e-97e6-acb5e32692d4",
   "metadata": {},
   "outputs": [
    {
     "name": "stdout",
     "output_type": "stream",
     "text": [
      "name\n",
      "city\n"
     ]
    }
   ],
   "source": [
    "for i in x.keys():\n",
    "    print(i)"
   ]
  },
  {
   "cell_type": "code",
   "execution_count": 76,
   "id": "e088ca8d-f84a-4538-a5eb-e824d99e0cf0",
   "metadata": {},
   "outputs": [
    {
     "name": "stdout",
     "output_type": "stream",
     "text": [
      "2\n",
      "5\n",
      "8\n"
     ]
    }
   ],
   "source": [
    "for i in range(2,9,3):\n",
    "    print(i)"
   ]
  },
  {
   "cell_type": "code",
   "execution_count": 77,
   "id": "d7635830-2e74-49c7-8fa7-c1bd96cc5a90",
   "metadata": {},
   "outputs": [
    {
     "name": "stdout",
     "output_type": "stream",
     "text": [
      "india\n",
      "uk\n",
      "germany\n",
      "america\n",
      "usa\n"
     ]
    }
   ],
   "source": [
    "country=[\"india\",\"uk\",\"germany\",\"america\",\"usa\"]\n",
    "\n",
    "for ct in country:\n",
    "    print(ct)"
   ]
  },
  {
   "cell_type": "code",
   "execution_count": 78,
   "id": "d5831e1f-b560-448b-9500-da57eebf468c",
   "metadata": {},
   "outputs": [
    {
     "name": "stdout",
     "output_type": "stream",
     "text": [
      "india\n",
      "uk\n",
      "germany\n",
      "america\n",
      "usa\n"
     ]
    }
   ],
   "source": [
    "country=[\"india\",\"uk\",\"germany\",\"america\",\"usa\"]\n",
    "\n",
    "for x in country:\n",
    "    print(x)"
   ]
  },
  {
   "cell_type": "code",
   "execution_count": 79,
   "id": "7363b4a2-f9da-40ac-ae0b-1c0f9585dfb2",
   "metadata": {},
   "outputs": [],
   "source": [
    "dict = {\"x1\":1,\"x2\":2,\"x3\":3}"
   ]
  },
  {
   "cell_type": "code",
   "execution_count": 80,
   "id": "d58d6103-dd22-4000-91df-a1ccfb64fb57",
   "metadata": {},
   "outputs": [
    {
     "data": {
      "text/plain": [
       "dict_keys(['x1', 'x2', 'x3'])"
      ]
     },
     "execution_count": 80,
     "metadata": {},
     "output_type": "execute_result"
    }
   ],
   "source": [
    "dict.keys()"
   ]
  },
  {
   "cell_type": "code",
   "execution_count": 81,
   "id": "060c6b60-f6ce-474e-98d8-a82138be0a6c",
   "metadata": {},
   "outputs": [
    {
     "data": {
      "text/plain": [
       "dict_values([1, 2, 3])"
      ]
     },
     "execution_count": 81,
     "metadata": {},
     "output_type": "execute_result"
    }
   ],
   "source": [
    "dict.values()"
   ]
  },
  {
   "cell_type": "code",
   "execution_count": 82,
   "id": "0ad85b0d-4d95-44ba-a210-b01f99140391",
   "metadata": {},
   "outputs": [
    {
     "ename": "NameError",
     "evalue": "name 'key' is not defined",
     "output_type": "error",
     "traceback": [
      "\u001b[0;31m---------------------------------------------------------------------------\u001b[0m",
      "\u001b[0;31mNameError\u001b[0m                                 Traceback (most recent call last)",
      "Cell \u001b[0;32mIn[82], line 2\u001b[0m\n\u001b[1;32m      1\u001b[0m \u001b[38;5;28;01mfor\u001b[39;00m i \u001b[38;5;129;01min\u001b[39;00m \u001b[38;5;28mdict\u001b[39m:\n\u001b[0;32m----> 2\u001b[0m     \u001b[38;5;28mprint\u001b[39m(i,\u001b[38;5;28mdict\u001b[39m[\u001b[43mkey\u001b[49m])\n",
      "\u001b[0;31mNameError\u001b[0m: name 'key' is not defined"
     ]
    }
   ],
   "source": [
    "for i in dict:\n",
    "    print(i,dict[key])"
   ]
  },
  {
   "cell_type": "code",
   "execution_count": 83,
   "id": "89144267-fd9f-4c42-93ef-3f2bdd972445",
   "metadata": {},
   "outputs": [
    {
     "data": {
      "text/plain": [
       "1"
      ]
     },
     "execution_count": 83,
     "metadata": {},
     "output_type": "execute_result"
    }
   ],
   "source": [
    "dict['x1']"
   ]
  },
  {
   "cell_type": "code",
   "execution_count": 84,
   "id": "63cf2eb8-7400-48f9-8b4b-0a0123390abc",
   "metadata": {},
   "outputs": [
    {
     "data": {
      "text/plain": [
       "3"
      ]
     },
     "execution_count": 84,
     "metadata": {},
     "output_type": "execute_result"
    }
   ],
   "source": [
    "dict['x3']"
   ]
  },
  {
   "cell_type": "code",
   "execution_count": 85,
   "id": "48a4fdb6-5ead-437b-acd9-0815ac8ea166",
   "metadata": {},
   "outputs": [
    {
     "name": "stdout",
     "output_type": "stream",
     "text": [
      "1\n",
      "2\n",
      "3\n"
     ]
    }
   ],
   "source": [
    "for i in dict.values():\n",
    "    print(i)"
   ]
  },
  {
   "cell_type": "code",
   "execution_count": 86,
   "id": "584070da-b2eb-4157-b3fe-2600e8cdda88",
   "metadata": {},
   "outputs": [
    {
     "name": "stdout",
     "output_type": "stream",
     "text": [
      "1\n",
      "2\n",
      "3\n"
     ]
    }
   ],
   "source": [
    "for i in (1,2,3):\n",
    "    print(i)"
   ]
  },
  {
   "cell_type": "code",
   "execution_count": 87,
   "id": "9d2ce948-8c39-496f-8935-0c0abab05376",
   "metadata": {},
   "outputs": [
    {
     "name": "stdout",
     "output_type": "stream",
     "text": [
      "1\n",
      "2\n",
      "3\n"
     ]
    }
   ],
   "source": [
    "for i in {1,2,3}:\n",
    "    print(i)"
   ]
  },
  {
   "cell_type": "code",
   "execution_count": 88,
   "id": "6a8500e6-9ed0-43ba-a8f9-f9d9a0302956",
   "metadata": {},
   "outputs": [
    {
     "name": "stdout",
     "output_type": "stream",
     "text": [
      "p\n",
      "w\n",
      "s\n",
      "k\n",
      "i\n",
      "l\n",
      "l\n",
      "s\n"
     ]
    }
   ],
   "source": [
    "x =\"pwskills\"\n",
    "for i in x:\n",
    "    print(i)"
   ]
  },
  {
   "cell_type": "code",
   "execution_count": 89,
   "id": "732b298b-e0d9-499c-9acc-b3445c4e233e",
   "metadata": {},
   "outputs": [
    {
     "name": "stdout",
     "output_type": "stream",
     "text": [
      "[0, 1, 2, 3, 4, 5, 6, 7, 8, 9]\n"
     ]
    }
   ],
   "source": [
    "print(list(range(10)))"
   ]
  },
  {
   "cell_type": "code",
   "execution_count": 90,
   "id": "c933ab05-90bf-46db-8cab-84ca27177bfb",
   "metadata": {},
   "outputs": [
    {
     "name": "stdout",
     "output_type": "stream",
     "text": [
      "hii\n",
      "pw\n",
      "skills\n",
      "ineuron\n"
     ]
    }
   ],
   "source": [
    "print(\"hii\")\n",
    "print(\"pw\")\n",
    "print(\"skills\")\n",
    "print(\"ineuron\")"
   ]
  },
  {
   "cell_type": "code",
   "execution_count": 91,
   "id": "a6807f47-ed4d-4fc6-8f3d-b970e38d5d35",
   "metadata": {},
   "outputs": [
    {
     "name": "stdout",
     "output_type": "stream",
     "text": [
      "hiipwskillsineuron"
     ]
    }
   ],
   "source": [
    "print(\"hii\",end ='')\n",
    "print(\"pw\",end ='')\n",
    "print(\"skills\",end ='')\n",
    "print(\"ineuron\",end ='')"
   ]
  },
  {
   "cell_type": "code",
   "execution_count": 92,
   "id": "6e54f295-b28d-4bde-aea7-8d3e133154fc",
   "metadata": {},
   "outputs": [
    {
     "name": "stdout",
     "output_type": "stream",
     "text": [
      "hii@pw#skills$ineuron!"
     ]
    }
   ],
   "source": [
    "print(\"hii\",end ='@')\n",
    "print(\"pw\",end ='#')\n",
    "print(\"skills\",end ='$')\n",
    "print(\"ineuron\",end ='!')"
   ]
  },
  {
   "cell_type": "code",
   "execution_count": 93,
   "id": "9dded0a9-8d53-483f-8773-666becc2c8a2",
   "metadata": {},
   "outputs": [
    {
     "name": "stdout",
     "output_type": "stream",
     "text": [
      "0 1 2 3 4 5 6 7 8 9 "
     ]
    }
   ],
   "source": [
    "for i in range(10):\n",
    "    print(i,end= ' ')"
   ]
  },
  {
   "cell_type": "code",
   "execution_count": 94,
   "id": "60527bdd-4534-4035-af29-652b7a7bea62",
   "metadata": {},
   "outputs": [
    {
     "name": "stdout",
     "output_type": "stream",
     "text": [
      "0@ 1@ 2@ 3@ 4@ 5@ 6@ 7@ 8@ 9@ "
     ]
    }
   ],
   "source": [
    "for i in range(10):\n",
    "    print(i,end= '@ ')"
   ]
  },
  {
   "cell_type": "code",
   "execution_count": 95,
   "id": "891bfb04-8060-4d25-9f82-1558e7fec54b",
   "metadata": {},
   "outputs": [
    {
     "name": "stdout",
     "output_type": "stream",
     "text": [
      "0\n",
      "1\n",
      "2\n",
      "3\n",
      "4\n",
      "done\n"
     ]
    }
   ],
   "source": [
    "for i in range(5):\n",
    "    print(i)\n",
    "else:\n",
    "    print(\"done\")"
   ]
  },
  {
   "cell_type": "code",
   "execution_count": 96,
   "id": "fe0259e4-c50f-4ac7-953c-7ef1b20a52e8",
   "metadata": {},
   "outputs": [
    {
     "name": "stdout",
     "output_type": "stream",
     "text": [
      "* \n",
      "* * \n",
      "* * * \n",
      "* * * * \n",
      "* * * * * \n"
     ]
    }
   ],
   "source": [
    "for i in range(5):\n",
    "    for j in range(i+1):\n",
    "        print(\"*\",end=' ')\n",
    "    print()"
   ]
  },
  {
   "cell_type": "code",
   "execution_count": 97,
   "id": "c558bb2a-e384-4b01-acfb-697e27ec5cfe",
   "metadata": {},
   "outputs": [
    {
     "name": "stdout",
     "output_type": "stream",
     "text": [
      "*\n",
      "\n",
      "*\n",
      "*\n",
      "\n",
      "*\n",
      "*\n",
      "*\n",
      "\n",
      "*\n",
      "*\n",
      "*\n",
      "*\n",
      "\n",
      "*\n",
      "*\n",
      "*\n",
      "*\n",
      "*\n",
      "\n"
     ]
    }
   ],
   "source": [
    "for i in range(5):\n",
    "    for j in range(i+1):\n",
    "        print(\"*\")\n",
    "    print()"
   ]
  },
  {
   "cell_type": "code",
   "execution_count": 98,
   "id": "bcbb433f-bb6b-4e9f-adc1-a7ba8634f25a",
   "metadata": {},
   "outputs": [
    {
     "name": "stdout",
     "output_type": "stream",
     "text": [
      "* * * * * \n",
      "* * * * \n",
      "* * * \n",
      "* * \n",
      "* \n"
     ]
    }
   ],
   "source": [
    "for i in range(5,0,-1):\n",
    "    for j in range(i,0,-1):\n",
    "        print (\"*\",end =\" \")\n",
    "    print()"
   ]
  },
  {
   "cell_type": "code",
   "execution_count": 99,
   "id": "1542360d-d19f-4528-a698-0f24dea23c64",
   "metadata": {},
   "outputs": [
    {
     "name": "stdout",
     "output_type": "stream",
     "text": [
      "& & & & \n",
      "& & & \n",
      "& & \n",
      "& \n"
     ]
    }
   ],
   "source": [
    "for i in range(4,0,-1):\n",
    "    for j in range(i,0,-1):\n",
    "        print (\"&\",end =\" \")\n",
    "    print()"
   ]
  },
  {
   "cell_type": "raw",
   "id": "7ba03dea-b91b-4925-8a07-937e9918168b",
   "metadata": {},
   "source": [
    "NOTE:- In the above syntax outer loop is for how many line we get and inner loop is to print the character and here \"end=\"  \" \" helps to give space in between them and last print statement helps to going next line after one loop is completed."
   ]
  },
  {
   "cell_type": "code",
   "execution_count": 100,
   "id": "8cf3b141-96c2-4430-9a2f-c6cc5fb8cafc",
   "metadata": {},
   "outputs": [
    {
     "name": "stdout",
     "output_type": "stream",
     "text": [
      "1 2 3 4 5 \n",
      "2 4 6 8 10 \n",
      "3 6 9 12 15 \n",
      "4 8 12 16 20 \n",
      "5 10 15 20 25 \n"
     ]
    }
   ],
   "source": [
    "for i in range(1,6):\n",
    "    for j in range(1,6):\n",
    "        print(i*j,end=\" \")\n",
    "    print()"
   ]
  },
  {
   "cell_type": "code",
   "execution_count": 101,
   "id": "296e816d-a8b3-4a63-9f46-8cf4b5bd006f",
   "metadata": {},
   "outputs": [
    {
     "name": "stdout",
     "output_type": "stream",
     "text": [
      "1\n",
      "2\n",
      "3\n",
      "4\n",
      "5\n"
     ]
    }
   ],
   "source": [
    "count=1\n",
    "\n",
    "while count<=5:\n",
    "    print(count)\n",
    "    count +=1  #count=count+1"
   ]
  },
  {
   "cell_type": "code",
   "execution_count": 102,
   "id": "8dca429d-6d71-4881-848e-81f282089c8c",
   "metadata": {},
   "outputs": [
    {
     "name": "stdout",
     "output_type": "stream",
     "text": [
      "payal\n",
      "payal\n",
      "payal\n",
      "payal\n",
      "payal\n"
     ]
    }
   ],
   "source": [
    "count=1\n",
    "\n",
    "while count<=5:\n",
    "    print(\"payal\")\n",
    "    count +=1 "
   ]
  },
  {
   "cell_type": "code",
   "execution_count": 103,
   "id": "954a097f-bc87-497f-b5f8-a1629ddd44de",
   "metadata": {},
   "outputs": [
    {
     "name": "stdin",
     "output_type": "stream",
     "text": [
      "enter a word paya\n"
     ]
    },
    {
     "name": "stdout",
     "output_type": "stream",
     "text": [
      "you entered paya\n"
     ]
    },
    {
     "name": "stdin",
     "output_type": "stream",
     "text": [
      "enter a word jyoti\n"
     ]
    },
    {
     "name": "stdout",
     "output_type": "stream",
     "text": [
      "you entered jyoti\n"
     ]
    },
    {
     "name": "stdin",
     "output_type": "stream",
     "text": [
      "enter a word saroj\n"
     ]
    },
    {
     "name": "stdout",
     "output_type": "stream",
     "text": [
      "you entered saroj\n"
     ]
    },
    {
     "name": "stdin",
     "output_type": "stream",
     "text": [
      "enter a word quit\n"
     ]
    },
    {
     "name": "stdout",
     "output_type": "stream",
     "text": [
      "you entered quit\n"
     ]
    }
   ],
   "source": [
    "text = \" \"\n",
    "\n",
    "while text != \"quit\":\n",
    "    text =input(\"enter a word\")\n",
    "    print(\"you entered\",text)"
   ]
  },
  {
   "cell_type": "raw",
   "id": "d9dc5bf6-c1f1-49a6-a975-eba8dd964017",
   "metadata": {},
   "source": [
    "NOTE:- If u know how many times u will itearte go with for loop.\n",
    "       If u don't know how many times u will itearte go with while loop."
   ]
  },
  {
   "cell_type": "code",
   "execution_count": 104,
   "id": "1ea6a84d-5603-48b0-945b-9586944b15b8",
   "metadata": {},
   "outputs": [
    {
     "name": "stdin",
     "output_type": "stream",
     "text": [
      "enter your age 12\n"
     ]
    },
    {
     "name": "stdout",
     "output_type": "stream",
     "text": [
      "your age is 12\n"
     ]
    },
    {
     "name": "stdin",
     "output_type": "stream",
     "text": [
      "enter your age 23\n"
     ]
    },
    {
     "name": "stdout",
     "output_type": "stream",
     "text": [
      "your age is 23\n"
     ]
    },
    {
     "name": "stdin",
     "output_type": "stream",
     "text": [
      "enter your age 34\n"
     ]
    },
    {
     "name": "stdout",
     "output_type": "stream",
     "text": [
      "your age is 34\n"
     ]
    },
    {
     "name": "stdin",
     "output_type": "stream",
     "text": [
      "enter your age 21\n"
     ]
    },
    {
     "name": "stdout",
     "output_type": "stream",
     "text": [
      "your age is 21\n"
     ]
    }
   ],
   "source": [
    "age = \" \"\n",
    "\n",
    "while age != 21:\n",
    "    age =int(input(\"enter your age\"))\n",
    "    print(\"your age is\",age)"
   ]
  },
  {
   "cell_type": "code",
   "execution_count": 107,
   "id": "a35b9fac-8256-41f6-bb30-a3aaee45a751",
   "metadata": {},
   "outputs": [
    {
     "name": "stdin",
     "output_type": "stream",
     "text": [
      "enter your age  11\n"
     ]
    },
    {
     "name": "stdout",
     "output_type": "stream",
     "text": [
      "invalid age\n"
     ]
    },
    {
     "name": "stdin",
     "output_type": "stream",
     "text": [
      "enter your age  12\n"
     ]
    },
    {
     "name": "stdout",
     "output_type": "stream",
     "text": [
      "invalid age\n"
     ]
    },
    {
     "name": "stdin",
     "output_type": "stream",
     "text": [
      "enter your age  13\n"
     ]
    },
    {
     "name": "stdout",
     "output_type": "stream",
     "text": [
      "invalid age\n"
     ]
    },
    {
     "name": "stdin",
     "output_type": "stream",
     "text": [
      "enter your age  18\n"
     ]
    },
    {
     "name": "stdout",
     "output_type": "stream",
     "text": [
      "invalid age\n",
      " age is from list\n"
     ]
    }
   ],
   "source": [
    "list1 = [23,30,45,21,18]\n",
    "age = 0\n",
    "\n",
    "while age not in list1:\n",
    "    age =int(input(\"enter your age \"))\n",
    "    print(\"invalid age\")\n",
    "    \n",
    "else:\n",
    "    print (\" age is from list\")"
   ]
  },
  {
   "cell_type": "code",
   "execution_count": 108,
   "id": "685942e2-ed58-428a-b70f-d6fa594db579",
   "metadata": {},
   "outputs": [
    {
     "name": "stdout",
     "output_type": "stream",
     "text": [
      "B\n"
     ]
    }
   ],
   "source": [
    "x = 5\n",
    "\n",
    "if x > 7:\n",
    "\n",
    "   print(\"A\")\n",
    "\n",
    "if x > 4:\n",
    "\n",
    "   print(\"B\")"
   ]
  },
  {
   "cell_type": "code",
   "execution_count": 109,
   "id": "bcffee4c-d0d7-4a22-adc0-a1618cfcf06b",
   "metadata": {},
   "outputs": [
    {
     "name": "stdout",
     "output_type": "stream",
     "text": [
      "A\n",
      "B\n"
     ]
    }
   ],
   "source": [
    "x = 3\n",
    "\n",
    "if x > 1:\n",
    "\n",
    "   print(\"A\")\n",
    "\n",
    "if x > 2:\n",
    "\n",
    "   print(\"B\")"
   ]
  },
  {
   "cell_type": "code",
   "execution_count": null,
   "id": "691e3ab0-2915-494e-a31d-acd46fd7037a",
   "metadata": {},
   "outputs": [],
   "source": []
  }
 ],
 "metadata": {
  "kernelspec": {
   "display_name": "Python 3 (ipykernel)",
   "language": "python",
   "name": "python3"
  },
  "language_info": {
   "codemirror_mode": {
    "name": "ipython",
    "version": 3
   },
   "file_extension": ".py",
   "mimetype": "text/x-python",
   "name": "python",
   "nbconvert_exporter": "python",
   "pygments_lexer": "ipython3",
   "version": "3.10.8"
  }
 },
 "nbformat": 4,
 "nbformat_minor": 5
}
