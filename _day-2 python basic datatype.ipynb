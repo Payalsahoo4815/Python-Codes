{
 "cells": [
  {
   "cell_type": "code",
   "execution_count": 1,
   "id": "a3ec5713-5789-4d40-9f21-20d1cc158b5f",
   "metadata": {},
   "outputs": [],
   "source": [
    "l=[]"
   ]
  },
  {
   "cell_type": "code",
   "execution_count": 2,
   "id": "e65b80dc-99db-4b99-981e-e48849466916",
   "metadata": {},
   "outputs": [
    {
     "data": {
      "text/plain": [
       "list"
      ]
     },
     "execution_count": 2,
     "metadata": {},
     "output_type": "execute_result"
    }
   ],
   "source": [
    "type(l)"
   ]
  },
  {
   "cell_type": "code",
   "execution_count": 3,
   "id": "2e17718a-3490-40f3-bfb1-da5f86202ff7",
   "metadata": {},
   "outputs": [],
   "source": [
    "l1=[1,2,3,4,5,\"payal\",3+6j,6789.9987,True,[3,5,5,6,7]]"
   ]
  },
  {
   "cell_type": "code",
   "execution_count": 4,
   "id": "26c0f7ec-af21-495a-b66c-308cfee7b745",
   "metadata": {},
   "outputs": [
    {
     "data": {
      "text/plain": [
       "[1, 2, 3, 4, 5, 'payal', (3+6j), 6789.9987, True, [3, 5, 5, 6, 7]]"
      ]
     },
     "execution_count": 4,
     "metadata": {},
     "output_type": "execute_result"
    }
   ],
   "source": [
    "l1"
   ]
  },
  {
   "cell_type": "code",
   "execution_count": 5,
   "id": "056a81b6-9b38-4b51-a27c-9e3f2763ac5c",
   "metadata": {},
   "outputs": [
    {
     "data": {
      "text/plain": [
       "'payal'"
      ]
     },
     "execution_count": 5,
     "metadata": {},
     "output_type": "execute_result"
    }
   ],
   "source": [
    "l1[5]"
   ]
  },
  {
   "cell_type": "code",
   "execution_count": 6,
   "id": "1dbb18e7-ec26-4de9-aaa3-19c776e9d08a",
   "metadata": {},
   "outputs": [
    {
     "data": {
      "text/plain": [
       "[3, 5, 5, 6, 7]"
      ]
     },
     "execution_count": 6,
     "metadata": {},
     "output_type": "execute_result"
    }
   ],
   "source": [
    "l1[-1]"
   ]
  },
  {
   "cell_type": "code",
   "execution_count": 7,
   "id": "68ad6497-3fbb-43de-853c-ee9c29acf125",
   "metadata": {},
   "outputs": [
    {
     "data": {
      "text/plain": [
       "6"
      ]
     },
     "execution_count": 7,
     "metadata": {},
     "output_type": "execute_result"
    }
   ],
   "source": [
    "l1[-1][3]"
   ]
  },
  {
   "cell_type": "code",
   "execution_count": 8,
   "id": "b1f30405-5317-442f-b386-d793db74725c",
   "metadata": {},
   "outputs": [
    {
     "data": {
      "text/plain": [
       "[1, 2, 3, 4, 5, 'payal']"
      ]
     },
     "execution_count": 8,
     "metadata": {},
     "output_type": "execute_result"
    }
   ],
   "source": [
    "l1[0:6]"
   ]
  },
  {
   "cell_type": "code",
   "execution_count": 9,
   "id": "43cef32e-093c-4f44-8dc4-3dafd94e5945",
   "metadata": {},
   "outputs": [],
   "source": [
    "l2=[3,4,5,\"pwskills\",\"payal\"]"
   ]
  },
  {
   "cell_type": "code",
   "execution_count": 10,
   "id": "e63c894b-c9a6-46cc-95de-d0705be7e931",
   "metadata": {},
   "outputs": [
    {
     "data": {
      "text/plain": [
       "[1,\n",
       " 2,\n",
       " 3,\n",
       " 4,\n",
       " 5,\n",
       " 'payal',\n",
       " (3+6j),\n",
       " 6789.9987,\n",
       " True,\n",
       " [3, 5, 5, 6, 7],\n",
       " 3,\n",
       " 4,\n",
       " 5,\n",
       " 'pwskills',\n",
       " 'payal']"
      ]
     },
     "execution_count": 10,
     "metadata": {},
     "output_type": "execute_result"
    }
   ],
   "source": [
    "l1+l2"
   ]
  },
  {
   "cell_type": "code",
   "execution_count": 11,
   "id": "81dcaf10-ec07-441f-927b-e55a8fc62b87",
   "metadata": {},
   "outputs": [
    {
     "ename": "TypeError",
     "evalue": "can only concatenate list (not \"str\") to list",
     "output_type": "error",
     "traceback": [
      "\u001b[0;31m---------------------------------------------------------------------------\u001b[0m",
      "\u001b[0;31mTypeError\u001b[0m                                 Traceback (most recent call last)",
      "Cell \u001b[0;32mIn[11], line 1\u001b[0m\n\u001b[0;32m----> 1\u001b[0m \u001b[43ml2\u001b[49m\u001b[38;5;241;43m+\u001b[39;49m\u001b[38;5;124;43m\"\u001b[39;49m\u001b[38;5;124;43mpayal\u001b[39;49m\u001b[38;5;124;43m\"\u001b[39;49m\n",
      "\u001b[0;31mTypeError\u001b[0m: can only concatenate list (not \"str\") to list"
     ]
    }
   ],
   "source": [
    "l2+\"payal\""
   ]
  },
  {
   "cell_type": "code",
   "execution_count": null,
   "id": "6a1b8485-2d3e-45b3-8329-89830e8bb485",
   "metadata": {},
   "outputs": [],
   "source": [
    "list(\"payal\")"
   ]
  },
  {
   "cell_type": "code",
   "execution_count": null,
   "id": "6a54f611-6161-4508-b502-f15e1646edaf",
   "metadata": {},
   "outputs": [],
   "source": [
    "list(567)"
   ]
  },
  {
   "cell_type": "code",
   "execution_count": null,
   "id": "5f0db5e9-e4a0-4184-afe8-2a71081aeb8b",
   "metadata": {},
   "outputs": [],
   "source": [
    "l2"
   ]
  },
  {
   "cell_type": "code",
   "execution_count": null,
   "id": "40ce9584-08c0-4ee2-8292-4eab7fbfc692",
   "metadata": {},
   "outputs": [],
   "source": [
    "l2*2"
   ]
  },
  {
   "cell_type": "code",
   "execution_count": null,
   "id": "d78f1c77-42da-4090-88f7-ebdd42f576cf",
   "metadata": {},
   "outputs": [],
   "source": [
    "l2*4"
   ]
  },
  {
   "cell_type": "code",
   "execution_count": null,
   "id": "5674e663-fb70-420f-a16f-1e8baaaa2fa2",
   "metadata": {},
   "outputs": [],
   "source": [
    "l2"
   ]
  },
  {
   "cell_type": "code",
   "execution_count": null,
   "id": "f84cef82-45d7-4646-b027-02881ad12bec",
   "metadata": {},
   "outputs": [],
   "source": [
    "l2[0]=300"
   ]
  },
  {
   "cell_type": "code",
   "execution_count": null,
   "id": "d3ad0f51-7924-4c8d-b316-ccb1f18805d5",
   "metadata": {},
   "outputs": [],
   "source": [
    "l2"
   ]
  },
  {
   "cell_type": "raw",
   "id": "4d3b64cb-deb6-46c8-9f5c-a228999b3049",
   "metadata": {},
   "source": [
    "NOTE:- 1.List is another datatype which holds heterogeneous data (any type of data)\n",
    "       2.list is a collections of multiple data and it is wriiten by 'l'.\n",
    "       3.By defult when we give a square bracket system will automatically              understand it is list data type.\n",
    "       4.we can store a list inside a list.\n",
    "       5.In list indexing and slicing are totally simmilar with string data              type.\n",
    "       6.I can extract data from list inside a list.\n",
    "          e.g:- l1[-1][3]\n",
    "       7.In list datatype convatinations operation happen.\n",
    "       8.In case of concatination operations(addition) both parties are in same          format\n",
    "       9.In list datatype we can assign anything that we want.(so it is a                mutable entity)\n",
    "       10.If we do multiplicatins operation in list it returnus the same value           in twice\n",
    "       "
   ]
  },
  {
   "cell_type": "code",
   "execution_count": 12,
   "id": "c1feb093-f1ca-4e67-8905-8d5f6822e0c1",
   "metadata": {},
   "outputs": [],
   "source": [
    "t=(1,2,3,4,\"payal\",6+9j,True)"
   ]
  },
  {
   "cell_type": "code",
   "execution_count": 13,
   "id": "37186d34-bc0c-49c9-a7a1-bb0ad336fde2",
   "metadata": {},
   "outputs": [
    {
     "data": {
      "text/plain": [
       "tuple"
      ]
     },
     "execution_count": 13,
     "metadata": {},
     "output_type": "execute_result"
    }
   ],
   "source": [
    "type(t)"
   ]
  },
  {
   "cell_type": "code",
   "execution_count": 14,
   "id": "2b2b3b3a-ee13-43d7-9432-fb62f1a263e3",
   "metadata": {},
   "outputs": [
    {
     "data": {
      "text/plain": [
       "1"
      ]
     },
     "execution_count": 14,
     "metadata": {},
     "output_type": "execute_result"
    }
   ],
   "source": [
    "t[0]"
   ]
  },
  {
   "cell_type": "code",
   "execution_count": 15,
   "id": "507898b4-2ae3-46f9-90db-2e9588af766e",
   "metadata": {},
   "outputs": [
    {
     "data": {
      "text/plain": [
       "True"
      ]
     },
     "execution_count": 15,
     "metadata": {},
     "output_type": "execute_result"
    }
   ],
   "source": [
    "t[-1]"
   ]
  },
  {
   "cell_type": "code",
   "execution_count": 16,
   "id": "23da6954-88be-404d-b925-78efd5e64221",
   "metadata": {},
   "outputs": [
    {
     "data": {
      "text/plain": [
       "(True, (6+9j), 'payal', 4, 3, 2, 1)"
      ]
     },
     "execution_count": 16,
     "metadata": {},
     "output_type": "execute_result"
    }
   ],
   "source": [
    "t[::-1]"
   ]
  },
  {
   "cell_type": "code",
   "execution_count": 17,
   "id": "1db43c94-facb-44aa-beaa-bf2948dac870",
   "metadata": {},
   "outputs": [
    {
     "ename": "TypeError",
     "evalue": "'tuple' object does not support item assignment",
     "output_type": "error",
     "traceback": [
      "\u001b[0;31m---------------------------------------------------------------------------\u001b[0m",
      "\u001b[0;31mTypeError\u001b[0m                                 Traceback (most recent call last)",
      "Cell \u001b[0;32mIn[17], line 1\u001b[0m\n\u001b[0;32m----> 1\u001b[0m \u001b[43mt\u001b[49m\u001b[43m[\u001b[49m\u001b[38;5;241;43m0\u001b[39;49m\u001b[43m]\u001b[49m\u001b[38;5;241m=\u001b[39m\u001b[38;5;124m\"\u001b[39m\u001b[38;5;124mpayal\u001b[39m\u001b[38;5;124m\"\u001b[39m\n",
      "\u001b[0;31mTypeError\u001b[0m: 'tuple' object does not support item assignment"
     ]
    }
   ],
   "source": [
    "t[0]=\"payal\""
   ]
  },
  {
   "cell_type": "code",
   "execution_count": null,
   "id": "ca3cbb73-3425-498d-a2f4-860ed8b96d37",
   "metadata": {},
   "outputs": [],
   "source": [
    "t1=(5,6,7,8,9)"
   ]
  },
  {
   "cell_type": "code",
   "execution_count": 18,
   "id": "ab46430a-564f-4253-91de-0f47b016c5e2",
   "metadata": {},
   "outputs": [
    {
     "data": {
      "text/plain": [
       "(1, 2, 3, 4, 'payal', (6+9j), True)"
      ]
     },
     "execution_count": 18,
     "metadata": {},
     "output_type": "execute_result"
    }
   ],
   "source": [
    "t"
   ]
  },
  {
   "cell_type": "code",
   "execution_count": 19,
   "id": "d3c39821-57c5-411c-bbf9-5927532d1e2d",
   "metadata": {},
   "outputs": [
    {
     "ename": "NameError",
     "evalue": "name 't1' is not defined",
     "output_type": "error",
     "traceback": [
      "\u001b[0;31m---------------------------------------------------------------------------\u001b[0m",
      "\u001b[0;31mNameError\u001b[0m                                 Traceback (most recent call last)",
      "Cell \u001b[0;32mIn[19], line 1\u001b[0m\n\u001b[0;32m----> 1\u001b[0m t\u001b[38;5;241m+\u001b[39m\u001b[43mt1\u001b[49m\n",
      "\u001b[0;31mNameError\u001b[0m: name 't1' is not defined"
     ]
    }
   ],
   "source": [
    "t+t1"
   ]
  },
  {
   "cell_type": "code",
   "execution_count": 20,
   "id": "0ed90528-e489-4307-bd26-f1d87e7d8ee6",
   "metadata": {},
   "outputs": [
    {
     "ename": "NameError",
     "evalue": "name 't1' is not defined",
     "output_type": "error",
     "traceback": [
      "\u001b[0;31m---------------------------------------------------------------------------\u001b[0m",
      "\u001b[0;31mNameError\u001b[0m                                 Traceback (most recent call last)",
      "Cell \u001b[0;32mIn[20], line 1\u001b[0m\n\u001b[0;32m----> 1\u001b[0m \u001b[43mt1\u001b[49m\u001b[38;5;241m*\u001b[39m\u001b[38;5;241m2\u001b[39m\n",
      "\u001b[0;31mNameError\u001b[0m: name 't1' is not defined"
     ]
    }
   ],
   "source": [
    "t1*2"
   ]
  },
  {
   "cell_type": "code",
   "execution_count": 21,
   "id": "4d82c39e-b86b-4ec5-84a5-ef089e7cc9e1",
   "metadata": {},
   "outputs": [
    {
     "data": {
      "text/plain": [
       "[1, 2, 3, 4, 'payal', (6+9j), True]"
      ]
     },
     "execution_count": 21,
     "metadata": {},
     "output_type": "execute_result"
    }
   ],
   "source": [
    "list(t)"
   ]
  },
  {
   "cell_type": "code",
   "execution_count": 22,
   "id": "5963cc2a-874f-4333-ad1d-3e420c7379f0",
   "metadata": {},
   "outputs": [
    {
     "data": {
      "text/plain": [
       "[3, 4, 5, 'pwskills', 'payal']"
      ]
     },
     "execution_count": 22,
     "metadata": {},
     "output_type": "execute_result"
    }
   ],
   "source": [
    "l2"
   ]
  },
  {
   "cell_type": "code",
   "execution_count": 23,
   "id": "91307857-e449-4f50-8072-d86e81ef461d",
   "metadata": {},
   "outputs": [
    {
     "data": {
      "text/plain": [
       "(3, 4, 5, 'pwskills', 'payal')"
      ]
     },
     "execution_count": 23,
     "metadata": {},
     "output_type": "execute_result"
    }
   ],
   "source": [
    "tuple(l2)"
   ]
  },
  {
   "cell_type": "raw",
   "id": "95f4aca8-4ad8-43ab-8998-357bf33323ba",
   "metadata": {},
   "source": [
    "NOTE:- 1. Tuple is an another datatype ,denoted by t() \n",
    "       2. Tuple datatype is exactly simmilar as list               datatype but there is one   change we can't             assign anything in tuple datatype(so tuple is           immutable entity)\n",
    "       3. concatination is possible in tuple dattype.\n",
    "       4. If we do multiplicatins operation in tuple it           returnus the same value in twice\n",
    "       5. Typecasting is possible with tuple to list and           list to tuple."
   ]
  },
  {
   "cell_type": "code",
   "execution_count": 24,
   "id": "08856365-faa2-40be-86df-441a78952813",
   "metadata": {},
   "outputs": [
    {
     "data": {
      "text/plain": [
       "7"
      ]
     },
     "execution_count": 24,
     "metadata": {},
     "output_type": "execute_result"
    }
   ],
   "source": [
    "len(t)"
   ]
  },
  {
   "cell_type": "code",
   "execution_count": 25,
   "id": "7bd8c3c3-50db-4f0c-8eda-8d75038e0635",
   "metadata": {},
   "outputs": [
    {
     "data": {
      "text/plain": [
       "5"
      ]
     },
     "execution_count": 25,
     "metadata": {},
     "output_type": "execute_result"
    }
   ],
   "source": [
    "len(\"payal\")"
   ]
  },
  {
   "cell_type": "code",
   "execution_count": 26,
   "id": "6b117bf5-ca7b-4c95-b230-daf0926327a3",
   "metadata": {},
   "outputs": [
    {
     "data": {
      "text/plain": [
       "10"
      ]
     },
     "execution_count": 26,
     "metadata": {},
     "output_type": "execute_result"
    }
   ],
   "source": [
    "len(l1)"
   ]
  },
  {
   "cell_type": "code",
   "execution_count": 27,
   "id": "55e2880f-4d84-4c51-992f-4a26bb2c98d1",
   "metadata": {},
   "outputs": [
    {
     "data": {
      "text/plain": [
       "[1, 2, 3, 4, 5, 'payal', (3+6j), 6789.9987, True, [3, 5, 5, 6, 7]]"
      ]
     },
     "execution_count": 27,
     "metadata": {},
     "output_type": "execute_result"
    }
   ],
   "source": [
    "l1"
   ]
  },
  {
   "cell_type": "raw",
   "id": "6de5a10a-52ff-40dc-a940-3ff48e9a1636",
   "metadata": {},
   "source": [
    "NOTE:- 1. Length is a funtions which show how many element are there ,it is               wriiten as \"len()\" .\n",
    "       2. length is the function which is going to tell us how much space                 occupied by the entity.\n",
    "       3."
   ]
  },
  {
   "cell_type": "code",
   "execution_count": 28,
   "id": "6f5b74aa-bd10-4a5f-8e16-1a4d676b50e6",
   "metadata": {},
   "outputs": [],
   "source": [
    "s={}"
   ]
  },
  {
   "cell_type": "code",
   "execution_count": 29,
   "id": "5043d82d-64ec-4bb9-816b-51f979289fee",
   "metadata": {},
   "outputs": [
    {
     "data": {
      "text/plain": [
       "dict"
      ]
     },
     "execution_count": 29,
     "metadata": {},
     "output_type": "execute_result"
    }
   ],
   "source": [
    "type(s)"
   ]
  },
  {
   "cell_type": "code",
   "execution_count": 30,
   "id": "af2ecee3-e21f-48f7-a580-51d23b63e61f",
   "metadata": {},
   "outputs": [],
   "source": [
    "s1={1,2,3,4,5,5}"
   ]
  },
  {
   "cell_type": "code",
   "execution_count": 31,
   "id": "9e7d89c2-6e93-4f50-a93e-bef80cf59569",
   "metadata": {},
   "outputs": [
    {
     "data": {
      "text/plain": [
       "set"
      ]
     },
     "execution_count": 31,
     "metadata": {},
     "output_type": "execute_result"
    }
   ],
   "source": [
    "type(s1)"
   ]
  },
  {
   "cell_type": "code",
   "execution_count": 32,
   "id": "0ddae7d8-0e8c-476b-8c3a-189e27690850",
   "metadata": {},
   "outputs": [
    {
     "data": {
      "text/plain": [
       "{1, 2, 3, 4, 5}"
      ]
     },
     "execution_count": 32,
     "metadata": {},
     "output_type": "execute_result"
    }
   ],
   "source": [
    "s1"
   ]
  },
  {
   "cell_type": "code",
   "execution_count": 33,
   "id": "f13d4fdc-8d75-410a-9801-a70338711fe6",
   "metadata": {},
   "outputs": [],
   "source": [
    "s2={1,1,1,2,2,3,3,3,3,4,4,4,5,5}"
   ]
  },
  {
   "cell_type": "code",
   "execution_count": 34,
   "id": "9b12a3b0-6bb9-401e-814e-6f2f590b0a64",
   "metadata": {},
   "outputs": [
    {
     "data": {
      "text/plain": [
       "set"
      ]
     },
     "execution_count": 34,
     "metadata": {},
     "output_type": "execute_result"
    }
   ],
   "source": [
    "type(s2)"
   ]
  },
  {
   "cell_type": "code",
   "execution_count": 35,
   "id": "65984e9b-ffac-4253-aced-1a1f48868a04",
   "metadata": {},
   "outputs": [
    {
     "data": {
      "text/plain": [
       "{1, 2, 3, 4, 5}"
      ]
     },
     "execution_count": 35,
     "metadata": {},
     "output_type": "execute_result"
    }
   ],
   "source": [
    "s2"
   ]
  },
  {
   "cell_type": "code",
   "execution_count": 36,
   "id": "113f04a0-279b-4207-9b63-4430b7dbf897",
   "metadata": {},
   "outputs": [],
   "source": [
    "s3={\"payal\",\"payal\",\"Payal\",1,2,3,4,2,3,4,5,5,6,7,8}"
   ]
  },
  {
   "cell_type": "code",
   "execution_count": 37,
   "id": "38f76d9b-9e2f-4c28-a53d-1f25deb7c95a",
   "metadata": {},
   "outputs": [
    {
     "data": {
      "text/plain": [
       "{1, 2, 3, 4, 5, 6, 7, 8, 'Payal', 'payal'}"
      ]
     },
     "execution_count": 37,
     "metadata": {},
     "output_type": "execute_result"
    }
   ],
   "source": [
    "s3"
   ]
  },
  {
   "cell_type": "code",
   "execution_count": 38,
   "id": "8091e946-8403-49a7-bda5-950d4e405cf8",
   "metadata": {},
   "outputs": [
    {
     "data": {
      "text/plain": [
       "[1, 2, 3, 4, 5, 6, 7, 8, 'Payal', 'payal']"
      ]
     },
     "execution_count": 38,
     "metadata": {},
     "output_type": "execute_result"
    }
   ],
   "source": [
    "list(s3)"
   ]
  },
  {
   "cell_type": "code",
   "execution_count": 39,
   "id": "5615ac6a-f4a9-456a-b0a6-6a0239a6008f",
   "metadata": {},
   "outputs": [
    {
     "data": {
      "text/plain": [
       "{3, 4, 5, 'payal', 'pwskills'}"
      ]
     },
     "execution_count": 39,
     "metadata": {},
     "output_type": "execute_result"
    }
   ],
   "source": [
    "set(l2)"
   ]
  },
  {
   "cell_type": "code",
   "execution_count": 40,
   "id": "ee6a29c5-311e-4d18-9f77-e936a5f2535c",
   "metadata": {},
   "outputs": [
    {
     "ename": "TypeError",
     "evalue": "unhashable type: 'list'",
     "output_type": "error",
     "traceback": [
      "\u001b[0;31m---------------------------------------------------------------------------\u001b[0m",
      "\u001b[0;31mTypeError\u001b[0m                                 Traceback (most recent call last)",
      "Cell \u001b[0;32mIn[40], line 1\u001b[0m\n\u001b[0;32m----> 1\u001b[0m \u001b[38;5;28;43mset\u001b[39;49m\u001b[43m(\u001b[49m\u001b[43ml1\u001b[49m\u001b[43m)\u001b[49m\n",
      "\u001b[0;31mTypeError\u001b[0m: unhashable type: 'list'"
     ]
    }
   ],
   "source": [
    "set(l1)"
   ]
  },
  {
   "cell_type": "code",
   "execution_count": null,
   "id": "338aef00-566f-4155-9de8-eb562ed5f395",
   "metadata": {},
   "outputs": [],
   "source": [
    "tuple(s3)"
   ]
  },
  {
   "cell_type": "code",
   "execution_count": 41,
   "id": "f18b1b82-c039-431a-b6ef-cc97e5af8b33",
   "metadata": {},
   "outputs": [
    {
     "ename": "TypeError",
     "evalue": "'set' object is not subscriptable",
     "output_type": "error",
     "traceback": [
      "\u001b[0;31m---------------------------------------------------------------------------\u001b[0m",
      "\u001b[0;31mTypeError\u001b[0m                                 Traceback (most recent call last)",
      "Cell \u001b[0;32mIn[41], line 1\u001b[0m\n\u001b[0;32m----> 1\u001b[0m \u001b[43ms3\u001b[49m\u001b[43m[\u001b[49m\u001b[38;5;241;43m0\u001b[39;49m\u001b[43m]\u001b[49m\n",
      "\u001b[0;31mTypeError\u001b[0m: 'set' object is not subscriptable"
     ]
    }
   ],
   "source": [
    "s3[0]"
   ]
  },
  {
   "cell_type": "code",
   "execution_count": null,
   "id": "dc16a943-6cbd-4279-9fb4-438d12c8e835",
   "metadata": {},
   "outputs": [],
   "source": [
    " s4={345,456456,23,34,56,78,12,12,12,34,34,56,56,\"payal\",22323.342}"
   ]
  },
  {
   "cell_type": "code",
   "execution_count": 42,
   "id": "8b73d56f-47eb-4b53-839d-cc0ca1254fe6",
   "metadata": {},
   "outputs": [
    {
     "ename": "NameError",
     "evalue": "name 's4' is not defined",
     "output_type": "error",
     "traceback": [
      "\u001b[0;31m---------------------------------------------------------------------------\u001b[0m",
      "\u001b[0;31mNameError\u001b[0m                                 Traceback (most recent call last)",
      "Cell \u001b[0;32mIn[42], line 1\u001b[0m\n\u001b[0;32m----> 1\u001b[0m \u001b[43ms4\u001b[49m\n",
      "\u001b[0;31mNameError\u001b[0m: name 's4' is not defined"
     ]
    }
   ],
   "source": [
    "s4"
   ]
  },
  {
   "cell_type": "raw",
   "id": "52951f6d-d16c-4995-88e3-7003826c3499",
   "metadata": {},
   "source": [
    "NOTE:- 1. set is function where we keep anytype of data but it give us as a               result distinct data.\n",
    "       2. if we write s{} it is showing dictionary datatype but in curly braces           there are some value it showing set datatype.\n",
    "       3. set always try to remove duplicate,set always keep unique entity.\n",
    "       4. Typecasting is possible.set into list,list into set,set into                   tuple,tuple into set, but there is one condition set can't convert             nested list (list inside a list).\n",
    "       5. In set ,indexing and slicing is not happen.but it happen when we               typecast it.\n",
    "       6. set never shorts the data.\n",
    "       "
   ]
  },
  {
   "cell_type": "code",
   "execution_count": 43,
   "id": "62d0760e-f1ad-4289-8fc8-3bdca0f3db5c",
   "metadata": {},
   "outputs": [],
   "source": [
    "d={}"
   ]
  },
  {
   "cell_type": "code",
   "execution_count": 44,
   "id": "a2a5578a-5e00-46ed-9abb-75c556755890",
   "metadata": {},
   "outputs": [
    {
     "data": {
      "text/plain": [
       "dict"
      ]
     },
     "execution_count": 44,
     "metadata": {},
     "output_type": "execute_result"
    }
   ],
   "source": [
    "type(d)"
   ]
  },
  {
   "cell_type": "code",
   "execution_count": 45,
   "id": "4f0e2438-7bb9-4cda-baf7-2c135d3c5d13",
   "metadata": {},
   "outputs": [],
   "source": [
    "d1={'name':\"payal\",'subject':[\"data science\",\"big data\",\"data analytics\"],\"number\":5466767676}"
   ]
  },
  {
   "cell_type": "code",
   "execution_count": 46,
   "id": "d793b535-cdad-4f41-bb43-3f11a6e4b7dc",
   "metadata": {},
   "outputs": [
    {
     "data": {
      "text/plain": [
       "{'name': 'payal',\n",
       " 'subject': ['data science', 'big data', 'data analytics'],\n",
       " 'number': 5466767676}"
      ]
     },
     "execution_count": 46,
     "metadata": {},
     "output_type": "execute_result"
    }
   ],
   "source": [
    "d1"
   ]
  },
  {
   "cell_type": "code",
   "execution_count": 47,
   "id": "c00dd48f-3c15-425f-b5b8-1bc5bd03e574",
   "metadata": {},
   "outputs": [],
   "source": [
    "d2={\"name\":\"payal\",\"name\":\"pwskills\"}"
   ]
  },
  {
   "cell_type": "code",
   "execution_count": 48,
   "id": "0e8eedb7-b73f-40ce-8c4e-e0fe919dfca8",
   "metadata": {},
   "outputs": [
    {
     "data": {
      "text/plain": [
       "{'name': 'pwskills'}"
      ]
     },
     "execution_count": 48,
     "metadata": {},
     "output_type": "execute_result"
    }
   ],
   "source": [
    "d2"
   ]
  },
  {
   "cell_type": "raw",
   "id": "6e71ca37-51dc-45fc-846e-e18810023397",
   "metadata": {},
   "source": [
    "NOTE:- 1. In the above code \"name\" is the key and \"payal\" and \"pwskills\" are             value.\n",
    "       2. in dictionary we can't strore repeatation keyword so it show only               pwskills.\n",
    "       "
   ]
  },
  {
   "cell_type": "code",
   "execution_count": 49,
   "id": "fa847114-1d24-43d6-94ba-723ecca65914",
   "metadata": {},
   "outputs": [],
   "source": [
    "d3={13122234:\"payal\"}"
   ]
  },
  {
   "cell_type": "code",
   "execution_count": 50,
   "id": "9504219e-4a9a-4f08-92ad-1e431ef1be54",
   "metadata": {},
   "outputs": [
    {
     "data": {
      "text/plain": [
       "{13122234: 'payal'}"
      ]
     },
     "execution_count": 50,
     "metadata": {},
     "output_type": "execute_result"
    }
   ],
   "source": [
    "d3"
   ]
  },
  {
   "cell_type": "code",
   "execution_count": 51,
   "id": "6cee7981-ffaf-488f-b024-7da3be683a41",
   "metadata": {},
   "outputs": [
    {
     "ename": "TypeError",
     "evalue": "unhashable type: 'list'",
     "output_type": "error",
     "traceback": [
      "\u001b[0;31m---------------------------------------------------------------------------\u001b[0m",
      "\u001b[0;31mTypeError\u001b[0m                                 Traceback (most recent call last)",
      "Cell \u001b[0;32mIn[51], line 1\u001b[0m\n\u001b[0;32m----> 1\u001b[0m d3\u001b[38;5;241m=\u001b[39m{[\u001b[38;5;241m1\u001b[39m,\u001b[38;5;241m2\u001b[39m,\u001b[38;5;241m3\u001b[39m]:\u001b[38;5;124m\"\u001b[39m\u001b[38;5;124mpayal\u001b[39m\u001b[38;5;124m\"\u001b[39m}\n",
      "\u001b[0;31mTypeError\u001b[0m: unhashable type: 'list'"
     ]
    }
   ],
   "source": [
    "d3={[1,2,3]:\"payal\"}"
   ]
  },
  {
   "cell_type": "code",
   "execution_count": null,
   "id": "51610abd-0fa6-43b3-9a29-b5e4336969ca",
   "metadata": {},
   "outputs": [],
   "source": [
    "d3={{1,2,3}:\"payal\"}"
   ]
  },
  {
   "cell_type": "code",
   "execution_count": 52,
   "id": "3a5007e0-8e79-4838-a642-61fa6a6f94a6",
   "metadata": {},
   "outputs": [],
   "source": [
    "d3={(2,3,5):\"payal\"}"
   ]
  },
  {
   "cell_type": "code",
   "execution_count": 53,
   "id": "ff0267e6-541a-4a7f-8120-1b317bf9c3ec",
   "metadata": {},
   "outputs": [
    {
     "data": {
      "text/plain": [
       "{(2, 3, 5): 'payal'}"
      ]
     },
     "execution_count": 53,
     "metadata": {},
     "output_type": "execute_result"
    }
   ],
   "source": [
    "d3"
   ]
  },
  {
   "cell_type": "code",
   "execution_count": 54,
   "id": "e0ae7f4a-c91f-4f7e-b67a-f4cbb4baf752",
   "metadata": {},
   "outputs": [
    {
     "ename": "SyntaxError",
     "evalue": "invalid syntax (1497758048.py, line 1)",
     "output_type": "error",
     "traceback": [
      "\u001b[0;36m  Cell \u001b[0;32mIn[54], line 1\u001b[0;36m\u001b[0m\n\u001b[0;31m    d3={%^&%:\"payal\"}\u001b[0m\n\u001b[0m        ^\u001b[0m\n\u001b[0;31mSyntaxError\u001b[0m\u001b[0;31m:\u001b[0m invalid syntax\n"
     ]
    }
   ],
   "source": [
    "d3={%^&%:\"payal\"}"
   ]
  },
  {
   "cell_type": "code",
   "execution_count": 55,
   "id": "66f8c759-b59f-4eb7-a093-8e2a8dcb6651",
   "metadata": {},
   "outputs": [],
   "source": [
    "d3={\"^%&\":\"payal\"}"
   ]
  },
  {
   "cell_type": "code",
   "execution_count": 56,
   "id": "b29e94eb-da1c-423b-8d50-2d2d19281634",
   "metadata": {},
   "outputs": [
    {
     "data": {
      "text/plain": [
       "{'^%&': 'payal'}"
      ]
     },
     "execution_count": 56,
     "metadata": {},
     "output_type": "execute_result"
    }
   ],
   "source": [
    "d3"
   ]
  },
  {
   "cell_type": "code",
   "execution_count": 57,
   "id": "dea6ce6e-eb2b-4fcc-90f4-e5e8cf3c0339",
   "metadata": {},
   "outputs": [],
   "source": [
    "d4={'course':['dsa','java','webdev','blockchain','cloud'],'mentor':('sudh','krish','viswa','sourganshu','sunny'),'price':{3500,20000,15000,11000,3500},'duration':1,'access year':1,'syllabus':{'python':['core python','oops','pandas','numpy','db','mongodb'],'ml':['supervised','unsupervised','semisupervised']}}"
   ]
  },
  {
   "cell_type": "code",
   "execution_count": 58,
   "id": "40e2f3f0-b73d-461a-891d-35e162f112ea",
   "metadata": {},
   "outputs": [
    {
     "data": {
      "text/plain": [
       "{'course': ['dsa', 'java', 'webdev', 'blockchain', 'cloud'],\n",
       " 'mentor': ('sudh', 'krish', 'viswa', 'sourganshu', 'sunny'),\n",
       " 'price': {3500, 11000, 15000, 20000},\n",
       " 'duration': 1,\n",
       " 'access year': 1,\n",
       " 'syllabus': {'python': ['core python',\n",
       "   'oops',\n",
       "   'pandas',\n",
       "   'numpy',\n",
       "   'db',\n",
       "   'mongodb'],\n",
       "  'ml': ['supervised', 'unsupervised', 'semisupervised']}}"
      ]
     },
     "execution_count": 58,
     "metadata": {},
     "output_type": "execute_result"
    }
   ],
   "source": [
    "d4"
   ]
  },
  {
   "cell_type": "code",
   "execution_count": 59,
   "id": "06ba6738-9ba4-44af-8c03-99f830f0a9e4",
   "metadata": {},
   "outputs": [
    {
     "data": {
      "text/plain": [
       "['dsa', 'java', 'webdev', 'blockchain', 'cloud']"
      ]
     },
     "execution_count": 59,
     "metadata": {},
     "output_type": "execute_result"
    }
   ],
   "source": [
    "d4['course']"
   ]
  },
  {
   "cell_type": "code",
   "execution_count": 60,
   "id": "88e3b896-7d5b-4832-98c4-5a4b4ec322df",
   "metadata": {},
   "outputs": [
    {
     "data": {
      "text/plain": [
       "1"
      ]
     },
     "execution_count": 60,
     "metadata": {},
     "output_type": "execute_result"
    }
   ],
   "source": [
    "d4['duration']"
   ]
  },
  {
   "cell_type": "code",
   "execution_count": 61,
   "id": "d5bb28b9-40aa-43e0-a34a-9ad78e119d27",
   "metadata": {},
   "outputs": [
    {
     "data": {
      "text/plain": [
       "('sudh', 'krish', 'viswa', 'sourganshu', 'sunny')"
      ]
     },
     "execution_count": 61,
     "metadata": {},
     "output_type": "execute_result"
    }
   ],
   "source": [
    "d4['mentor']"
   ]
  },
  {
   "cell_type": "code",
   "execution_count": 62,
   "id": "d9e2f63c-4e97-4d14-858c-94f4179350ba",
   "metadata": {},
   "outputs": [
    {
     "data": {
      "text/plain": [
       "{3500, 11000, 15000, 20000}"
      ]
     },
     "execution_count": 62,
     "metadata": {},
     "output_type": "execute_result"
    }
   ],
   "source": [
    "d4['price']"
   ]
  },
  {
   "cell_type": "code",
   "execution_count": 63,
   "id": "e1a7de90-6fbd-43a7-ad6a-aeb018786d54",
   "metadata": {},
   "outputs": [
    {
     "data": {
      "text/plain": [
       "{'name': 'pwskills'}"
      ]
     },
     "execution_count": 63,
     "metadata": {},
     "output_type": "execute_result"
    }
   ],
   "source": [
    "d2"
   ]
  },
  {
   "cell_type": "code",
   "execution_count": 64,
   "id": "6e5950a5-d29c-4fb8-a24e-b509f9cbfb34",
   "metadata": {},
   "outputs": [],
   "source": [
    "d2['phone number']=587987987"
   ]
  },
  {
   "cell_type": "code",
   "execution_count": 65,
   "id": "fbce0b02-17f4-4472-87c0-1167e7d66803",
   "metadata": {},
   "outputs": [
    {
     "data": {
      "text/plain": [
       "{'name': 'pwskills', 'phone number': 587987987}"
      ]
     },
     "execution_count": 65,
     "metadata": {},
     "output_type": "execute_result"
    }
   ],
   "source": [
    "d2"
   ]
  },
  {
   "cell_type": "code",
   "execution_count": 66,
   "id": "9beb6ed8-0c9e-4540-9c78-62b0859b05e2",
   "metadata": {},
   "outputs": [],
   "source": [
    "d2['name']=\"payal\""
   ]
  },
  {
   "cell_type": "code",
   "execution_count": 67,
   "id": "f8e4715f-df6d-4501-8d3e-b486105a24e5",
   "metadata": {},
   "outputs": [
    {
     "data": {
      "text/plain": [
       "{'name': 'payal', 'phone number': 587987987}"
      ]
     },
     "execution_count": 67,
     "metadata": {},
     "output_type": "execute_result"
    }
   ],
   "source": [
    "d2"
   ]
  },
  {
   "cell_type": "raw",
   "id": "34d5defb-7534-40e7-b8fb-7caa47d4b395",
   "metadata": {},
   "source": [
    "NOTE:- 1. Dictionay is another datatype it is denoted by 'd={}'.\n",
    "       2. In python, dictionary is a kind of collection where we will able to             hold a data in a key and value pair.\n",
    "       3. value could be string ,list anything .\n",
    "       4. key should be unique in dictionary.\n",
    "       5. we can't take set, list,special character as a key in dictionary.\n",
    "       6. string, tuple,integers can behave like key.\n",
    "       7. In dictionary, we can assign any value in a particular poaition (so             it is mutable entity )\n",
    "       8. Inside dictionary we can keep another dictionary.\n",
    "       9. In dictionary datatype we can add new element.\n",
    "       10.In dictionary datatype if key is not available then it add it if key           is available then it overwrite the value.\n",
    "       11."
   ]
  },
  {
   "cell_type": "code",
   "execution_count": 68,
   "id": "706c770a-1bf9-4e23-a6f9-9c871bdff3c2",
   "metadata": {},
   "outputs": [],
   "source": [
    "s1=\"pwskills\""
   ]
  },
  {
   "cell_type": "code",
   "execution_count": 69,
   "id": "677f8468-3116-4ea8-8733-7896acfe796d",
   "metadata": {},
   "outputs": [
    {
     "data": {
      "text/plain": [
       "1"
      ]
     },
     "execution_count": 69,
     "metadata": {},
     "output_type": "execute_result"
    }
   ],
   "source": [
    "s1.count('w')"
   ]
  },
  {
   "cell_type": "raw",
   "id": "5a9713a6-2869-4746-9c2c-79c181d26f27",
   "metadata": {},
   "source": [
    "NOTE:- 'count' function is showing the no. of occurance of that particular thing that u r searching for. "
   ]
  },
  {
   "cell_type": "code",
   "execution_count": 70,
   "id": "1d4d6f2f-bfe6-4230-b843-d58192655e05",
   "metadata": {},
   "outputs": [
    {
     "data": {
      "text/plain": [
       "2"
      ]
     },
     "execution_count": 70,
     "metadata": {},
     "output_type": "execute_result"
    }
   ],
   "source": [
    "s1.find('s')"
   ]
  },
  {
   "cell_type": "raw",
   "id": "b31e46cd-b5c3-480f-90fe-727bd5d71328",
   "metadata": {},
   "source": [
    "NOTE:- 'find' function is showing the lowest index(index value of 1st occurance) value of the particular thing that we r searching for."
   ]
  },
  {
   "cell_type": "code",
   "execution_count": 71,
   "id": "091e7ac3-8ea9-4245-ba3b-789c1c86cfa7",
   "metadata": {},
   "outputs": [
    {
     "data": {
      "text/plain": [
       "4"
      ]
     },
     "execution_count": 71,
     "metadata": {},
     "output_type": "execute_result"
    }
   ],
   "source": [
    "s1.find('i')"
   ]
  },
  {
   "cell_type": "code",
   "execution_count": 72,
   "id": "1c7c5ad1-9dd6-4a08-9816-c3bf8d23035e",
   "metadata": {},
   "outputs": [
    {
     "data": {
      "text/plain": [
       "2"
      ]
     },
     "execution_count": 72,
     "metadata": {},
     "output_type": "execute_result"
    }
   ],
   "source": [
    "s1.index('s')"
   ]
  },
  {
   "cell_type": "code",
   "execution_count": 73,
   "id": "06ef0998-a058-45f8-a29c-2f96dc25cef6",
   "metadata": {},
   "outputs": [
    {
     "ename": "ValueError",
     "evalue": "substring not found",
     "output_type": "error",
     "traceback": [
      "\u001b[0;31m---------------------------------------------------------------------------\u001b[0m",
      "\u001b[0;31mValueError\u001b[0m                                Traceback (most recent call last)",
      "Cell \u001b[0;32mIn[73], line 1\u001b[0m\n\u001b[0;32m----> 1\u001b[0m \u001b[43ms1\u001b[49m\u001b[38;5;241;43m.\u001b[39;49m\u001b[43mindex\u001b[49m\u001b[43m(\u001b[49m\u001b[38;5;124;43m'\u001b[39;49m\u001b[38;5;124;43mz\u001b[39;49m\u001b[38;5;124;43m'\u001b[39;49m\u001b[43m)\u001b[49m\n",
      "\u001b[0;31mValueError\u001b[0m: substring not found"
     ]
    }
   ],
   "source": [
    "s1.index('z')"
   ]
  },
  {
   "cell_type": "code",
   "execution_count": 74,
   "id": "1b139eb1-68ad-4aea-997c-5f5c3b3647d3",
   "metadata": {},
   "outputs": [
    {
     "data": {
      "text/plain": [
       "-1"
      ]
     },
     "execution_count": 74,
     "metadata": {},
     "output_type": "execute_result"
    }
   ],
   "source": [
    "s1.find('z')"
   ]
  },
  {
   "cell_type": "raw",
   "id": "9b1f9301-ee6b-4604-b40c-89d1189ea757",
   "metadata": {},
   "source": [
    "NOTE:- 'index' function is simillar with 'find' function.but there is one differnce between them in case of 'find' if it is not able to find the value it will return -1 as a result whereas in 'index' function it's showing error."
   ]
  },
  {
   "cell_type": "code",
   "execution_count": 75,
   "id": "d5ca48e3-4f4f-46b1-bdb2-1038ffa453bd",
   "metadata": {},
   "outputs": [
    {
     "data": {
      "text/plain": [
       "'PWSKILLS'"
      ]
     },
     "execution_count": 75,
     "metadata": {},
     "output_type": "execute_result"
    }
   ],
   "source": [
    "s1.upper()"
   ]
  },
  {
   "cell_type": "raw",
   "id": "b914714c-4bb0-4e9d-81d7-57dc58116d04",
   "metadata": {},
   "source": [
    "NOTE :- IN 'UPPER' function it gives the result in uppercase"
   ]
  },
  {
   "cell_type": "code",
   "execution_count": 76,
   "id": "574fa998-85d9-48cd-889e-5d6022e960f7",
   "metadata": {},
   "outputs": [
    {
     "data": {
      "text/plain": [
       "'pwskills'"
      ]
     },
     "execution_count": 76,
     "metadata": {},
     "output_type": "execute_result"
    }
   ],
   "source": [
    "s1.lower()"
   ]
  },
  {
   "cell_type": "raw",
   "id": "938d379c-add0-44ca-ac51-da98820c9c74",
   "metadata": {},
   "source": [
    "NOTE:- In 'lower' function it gives the result in lower case"
   ]
  },
  {
   "cell_type": "code",
   "execution_count": 77,
   "id": "08a4201d-82ed-4f5f-b79a-47a8a8e3fd44",
   "metadata": {},
   "outputs": [
    {
     "data": {
      "text/plain": [
       "'Pwskills'"
      ]
     },
     "execution_count": 77,
     "metadata": {},
     "output_type": "execute_result"
    }
   ],
   "source": [
    "s1.title()"
   ]
  },
  {
   "cell_type": "code",
   "execution_count": 78,
   "id": "9a4a485f-ba0e-4b22-a9f9-68e35a1eba08",
   "metadata": {},
   "outputs": [],
   "source": [
    "s2=\"my name is payaljyoti sahoo\" "
   ]
  },
  {
   "cell_type": "code",
   "execution_count": 79,
   "id": "2967b1f0-befb-44ab-bcab-b68ba1d899f0",
   "metadata": {},
   "outputs": [
    {
     "data": {
      "text/plain": [
       "'My Name Is Payaljyoti Sahoo'"
      ]
     },
     "execution_count": 79,
     "metadata": {},
     "output_type": "execute_result"
    }
   ],
   "source": [
    "s2.title()"
   ]
  },
  {
   "cell_type": "raw",
   "id": "7e475778-0e02-4e6a-a916-e860adb2c4b6",
   "metadata": {},
   "source": [
    "NOTE:- In \"title\" function it converts all the word's first letter as a a capital letter."
   ]
  },
  {
   "cell_type": "code",
   "execution_count": 80,
   "id": "33375330-06b0-4280-baa9-8533d68ff162",
   "metadata": {},
   "outputs": [
    {
     "data": {
      "text/plain": [
       "['my', 'name', 'is', 'payaljyoti', 'sahoo']"
      ]
     },
     "execution_count": 80,
     "metadata": {},
     "output_type": "execute_result"
    }
   ],
   "source": [
    "s2.split()"
   ]
  },
  {
   "cell_type": "raw",
   "id": "57d4adfb-bc5f-4315-b242-d79416a2b3db",
   "metadata": {},
   "source": [
    "NOTE:-  \"split\" function is used for splitting the sentence's each and every word and in split function it always gives the result as list. "
   ]
  },
  {
   "cell_type": "code",
   "execution_count": 81,
   "id": "f197ca0f-d519-4f33-9a08-23ea642fec85",
   "metadata": {},
   "outputs": [],
   "source": [
    "s3=\"my name,is,payal,jyoti\""
   ]
  },
  {
   "cell_type": "code",
   "execution_count": 82,
   "id": "83c18ea6-bc7d-4b15-adf6-d76237f2f639",
   "metadata": {},
   "outputs": [
    {
     "data": {
      "text/plain": [
       "['my', 'name,is,payal,jyoti']"
      ]
     },
     "execution_count": 82,
     "metadata": {},
     "output_type": "execute_result"
    }
   ],
   "source": [
    "s3.split()"
   ]
  },
  {
   "cell_type": "raw",
   "id": "399a273f-3eea-4333-bc0b-8305cf4fb0f1",
   "metadata": {},
   "source": [
    "it is not showing the proper result that we want\n",
    "bcz in split function it take bydefult space is a separator\n",
    "whereas space comes it separate it.\n",
    "\n",
    "But we can make our own separator what we want to act as a separator just write inside the bracket()."
   ]
  },
  {
   "cell_type": "code",
   "execution_count": 83,
   "id": "f1c622b7-4fe5-4d61-ac87-1e68df8ca11b",
   "metadata": {},
   "outputs": [
    {
     "data": {
      "text/plain": [
       "['my name', 'is', 'payal', 'jyoti']"
      ]
     },
     "execution_count": 83,
     "metadata": {},
     "output_type": "execute_result"
    }
   ],
   "source": [
    "s3.split(',')"
   ]
  },
  {
   "cell_type": "code",
   "execution_count": 84,
   "id": "b02275b0-21c7-42d7-953f-9d7fce5fbd35",
   "metadata": {},
   "outputs": [
    {
     "data": {
      "text/plain": [
       "['my name,i', ',payal,jyoti']"
      ]
     },
     "execution_count": 84,
     "metadata": {},
     "output_type": "execute_result"
    }
   ],
   "source": [
    "s3.split('s')"
   ]
  },
  {
   "cell_type": "code",
   "execution_count": 85,
   "id": "b3c0ce7c-c9a8-4c5e-b72e-803c9a466fcc",
   "metadata": {},
   "outputs": [],
   "source": [
    "s4=\"this is my fsds class.i am attending this class for 4th time\""
   ]
  },
  {
   "cell_type": "code",
   "execution_count": 86,
   "id": "8d865306-3a18-4f5d-862c-176d5bfe533e",
   "metadata": {},
   "outputs": [
    {
     "data": {
      "text/plain": [
       "'this is my fsds class'"
      ]
     },
     "execution_count": 86,
     "metadata": {},
     "output_type": "execute_result"
    }
   ],
   "source": [
    "s4.split('.')[0]"
   ]
  },
  {
   "cell_type": "code",
   "execution_count": 87,
   "id": "a8094726-17d3-487b-9560-069c7dad6a6c",
   "metadata": {},
   "outputs": [
    {
     "data": {
      "text/plain": [
       "'i am attending this class for 4th time'"
      ]
     },
     "execution_count": 87,
     "metadata": {},
     "output_type": "execute_result"
    }
   ],
   "source": [
    "s4.split('.')[1]"
   ]
  },
  {
   "cell_type": "code",
   "execution_count": 88,
   "id": "f250bc95-9548-4d6a-9de6-4956fe947b0c",
   "metadata": {},
   "outputs": [
    {
     "data": {
      "text/plain": [
       "'pwskills'"
      ]
     },
     "execution_count": 88,
     "metadata": {},
     "output_type": "execute_result"
    }
   ],
   "source": [
    "s1"
   ]
  },
  {
   "cell_type": "code",
   "execution_count": 89,
   "id": "521920d7-a5af-4f63-b988-226d39512d51",
   "metadata": {},
   "outputs": [
    {
     "data": {
      "text/plain": [
       "'Pwskills'"
      ]
     },
     "execution_count": 89,
     "metadata": {},
     "output_type": "execute_result"
    }
   ],
   "source": [
    "s1.capitalize()"
   ]
  },
  {
   "cell_type": "code",
   "execution_count": 90,
   "id": "006f5b1f-a9a7-41a1-a012-2dd7ab824a5b",
   "metadata": {},
   "outputs": [
    {
     "data": {
      "text/plain": [
       "'my name is payaljyoti sahoo'"
      ]
     },
     "execution_count": 90,
     "metadata": {},
     "output_type": "execute_result"
    }
   ],
   "source": [
    "s2"
   ]
  },
  {
   "cell_type": "code",
   "execution_count": 91,
   "id": "4ee76c4c-7f70-47b1-8185-652251763376",
   "metadata": {},
   "outputs": [
    {
     "data": {
      "text/plain": [
       "'My name is payaljyoti sahoo'"
      ]
     },
     "execution_count": 91,
     "metadata": {},
     "output_type": "execute_result"
    }
   ],
   "source": [
    "s2.capitalize()"
   ]
  },
  {
   "cell_type": "raw",
   "id": "8107eeef-ef9a-433a-85d2-4610396908b7",
   "metadata": {},
   "source": [
    "NOTE:- In 'capitalize' function it only convert the first letter as capital letter."
   ]
  },
  {
   "cell_type": "code",
   "execution_count": 92,
   "id": "44f9b37c-87e4-403a-ad4a-e6824fe52c13",
   "metadata": {},
   "outputs": [
    {
     "data": {
      "text/plain": [
       "'my aame is payaljyoti sahoo'"
      ]
     },
     "execution_count": 92,
     "metadata": {},
     "output_type": "execute_result"
    }
   ],
   "source": [
    "s2.replace('n','a')"
   ]
  },
  {
   "cell_type": "raw",
   "id": "f5139d8e-dd7a-4723-9cb0-0af9a1a6f9bf",
   "metadata": {},
   "source": [
    "NOTE:- In 'replace' function there are two arguments first is what u want to change  and second is saying what would u like to change."
   ]
  },
  {
   "cell_type": "code",
   "execution_count": 93,
   "id": "c23abb43-7309-45cb-bd5e-c03ee9fded29",
   "metadata": {},
   "outputs": [
    {
     "data": {
      "text/plain": [
       "'pwskills'"
      ]
     },
     "execution_count": 93,
     "metadata": {},
     "output_type": "execute_result"
    }
   ],
   "source": [
    "s1"
   ]
  },
  {
   "cell_type": "code",
   "execution_count": 94,
   "id": "1d74ca00-2a9d-4aad-b771-2b70637a155a",
   "metadata": {},
   "outputs": [
    {
     "data": {
      "text/plain": [
       "'ffffffffffffffffpwskillsffffffffffffffff'"
      ]
     },
     "execution_count": 94,
     "metadata": {},
     "output_type": "execute_result"
    }
   ],
   "source": [
    "s1.center(40,'f')"
   ]
  },
  {
   "cell_type": "code",
   "execution_count": 95,
   "id": "c05ae0da-90ec-409b-89d7-7d922912b6a9",
   "metadata": {},
   "outputs": [
    {
     "data": {
      "text/plain": [
       "'*pwskills*'"
      ]
     },
     "execution_count": 95,
     "metadata": {},
     "output_type": "execute_result"
    }
   ],
   "source": [
    "s1.center(10,'*')"
   ]
  },
  {
   "cell_type": "code",
   "execution_count": 96,
   "id": "f01c2200-a13a-473b-ab49-73f8bd4f33a6",
   "metadata": {},
   "outputs": [
    {
     "data": {
      "text/plain": [
       "'pwskills'"
      ]
     },
     "execution_count": 96,
     "metadata": {},
     "output_type": "execute_result"
    }
   ],
   "source": [
    "s1.strip()"
   ]
  },
  {
   "cell_type": "code",
   "execution_count": 97,
   "id": "95ab8018-5e94-46b2-820a-afaa02b04b95",
   "metadata": {},
   "outputs": [],
   "source": [
    "s5=\"     pwskills   \""
   ]
  },
  {
   "cell_type": "code",
   "execution_count": 98,
   "id": "77a3f1ee-331d-41e2-b2ae-ec223145bc1f",
   "metadata": {},
   "outputs": [
    {
     "data": {
      "text/plain": [
       "'     pwskills'"
      ]
     },
     "execution_count": 98,
     "metadata": {},
     "output_type": "execute_result"
    }
   ],
   "source": [
    "s5.rstrip()"
   ]
  },
  {
   "cell_type": "raw",
   "id": "07cca596-5844-43f9-8a50-0f102b48302f",
   "metadata": {},
   "source": [
    "NOTE:- IN 'rstrip' function it will remove all the right hand side space"
   ]
  },
  {
   "cell_type": "code",
   "execution_count": 99,
   "id": "485ea23d-c9ea-495f-8a44-2be780fa9b62",
   "metadata": {},
   "outputs": [
    {
     "data": {
      "text/plain": [
       "'pwskills   '"
      ]
     },
     "execution_count": 99,
     "metadata": {},
     "output_type": "execute_result"
    }
   ],
   "source": [
    "s5.lstrip()"
   ]
  },
  {
   "cell_type": "code",
   "execution_count": 100,
   "id": "33c4d8f9-eeb9-46c1-9409-3c5decd79c19",
   "metadata": {},
   "outputs": [
    {
     "data": {
      "text/plain": [
       "'pwskills'"
      ]
     },
     "execution_count": 100,
     "metadata": {},
     "output_type": "execute_result"
    }
   ],
   "source": [
    "s5.strip()"
   ]
  },
  {
   "cell_type": "code",
   "execution_count": 101,
   "id": "c7311673-51ba-45e0-b5ad-fb23f07445e2",
   "metadata": {},
   "outputs": [
    {
     "data": {
      "text/plain": [
       "'pwskills'"
      ]
     },
     "execution_count": 101,
     "metadata": {},
     "output_type": "execute_result"
    }
   ],
   "source": [
    "s1"
   ]
  },
  {
   "cell_type": "code",
   "execution_count": 102,
   "id": "1e609b7f-4cf8-47ac-abf2-62373c29f727",
   "metadata": {},
   "outputs": [
    {
     "data": {
      "text/plain": [
       "True"
      ]
     },
     "execution_count": 102,
     "metadata": {},
     "output_type": "execute_result"
    }
   ],
   "source": [
    "s1.isalnum()"
   ]
  },
  {
   "cell_type": "code",
   "execution_count": 103,
   "id": "6e3788e5-4d9f-4047-a364-4837bfa7dcdd",
   "metadata": {},
   "outputs": [
    {
     "data": {
      "text/plain": [
       "True"
      ]
     },
     "execution_count": 103,
     "metadata": {},
     "output_type": "execute_result"
    }
   ],
   "source": [
    "s1.isalpha()"
   ]
  },
  {
   "cell_type": "code",
   "execution_count": 104,
   "id": "b0c05aee-1fb9-4b10-b635-20a5ba109cee",
   "metadata": {},
   "outputs": [
    {
     "data": {
      "text/plain": [
       "False"
      ]
     },
     "execution_count": 104,
     "metadata": {},
     "output_type": "execute_result"
    }
   ],
   "source": [
    "s1.isnumeric()"
   ]
  },
  {
   "cell_type": "raw",
   "id": "24b665ad-b52a-4f57-a5ed-034bdc758c65",
   "metadata": {},
   "source": [
    "NOTE:- In isbased function like 'isalnum'(is alphabate and numeric),isalpha(is alphabets),isnum(is numeric) ,those function always gives the value as true or false to checking is it alphabatic or numeric."
   ]
  },
  {
   "cell_type": "code",
   "execution_count": 105,
   "id": "a55ff8a6-d210-4169-a29f-0099c0c29d03",
   "metadata": {},
   "outputs": [
    {
     "data": {
      "text/plain": [
       "[1, 2, 3, 4, 5, 'payal', (3+6j), 6789.9987, True, [3, 5, 5, 6, 7]]"
      ]
     },
     "execution_count": 105,
     "metadata": {},
     "output_type": "execute_result"
    }
   ],
   "source": [
    "l1"
   ]
  },
  {
   "cell_type": "code",
   "execution_count": 106,
   "id": "5ebce564-615c-40e9-9d9b-b3d6a314f743",
   "metadata": {},
   "outputs": [
    {
     "data": {
      "text/plain": [
       "[3, 4, 5, 'pwskills', 'payal']"
      ]
     },
     "execution_count": 106,
     "metadata": {},
     "output_type": "execute_result"
    }
   ],
   "source": [
    "l2"
   ]
  },
  {
   "cell_type": "code",
   "execution_count": 107,
   "id": "e75febe4-1cd6-4695-bc24-981b9b64982d",
   "metadata": {},
   "outputs": [],
   "source": [
    "l1.append(\"jyoti\")"
   ]
  },
  {
   "cell_type": "code",
   "execution_count": 108,
   "id": "48c397c3-58e8-4e23-95e3-9fa81fbf101a",
   "metadata": {},
   "outputs": [
    {
     "data": {
      "text/plain": [
       "[1, 2, 3, 4, 5, 'payal', (3+6j), 6789.9987, True, [3, 5, 5, 6, 7], 'jyoti']"
      ]
     },
     "execution_count": 108,
     "metadata": {},
     "output_type": "execute_result"
    }
   ],
   "source": [
    "l1"
   ]
  },
  {
   "cell_type": "code",
   "execution_count": 109,
   "id": "4a7198ec-1d1d-445f-a485-5b1fce9ea1e2",
   "metadata": {},
   "outputs": [],
   "source": [
    "l1.insert(3,'pwskills')"
   ]
  },
  {
   "cell_type": "code",
   "execution_count": 110,
   "id": "6826bbac-8cda-4782-9826-7797ba96116b",
   "metadata": {},
   "outputs": [
    {
     "data": {
      "text/plain": [
       "[1,\n",
       " 2,\n",
       " 3,\n",
       " 'pwskills',\n",
       " 4,\n",
       " 5,\n",
       " 'payal',\n",
       " (3+6j),\n",
       " 6789.9987,\n",
       " True,\n",
       " [3, 5, 5, 6, 7],\n",
       " 'jyoti']"
      ]
     },
     "execution_count": 110,
     "metadata": {},
     "output_type": "execute_result"
    }
   ],
   "source": [
    "l1"
   ]
  },
  {
   "cell_type": "raw",
   "id": "53e1a8c0-b676-4cc2-bed8-4f6425712d1c",
   "metadata": {},
   "source": [
    "NOTE:- IN 'append' function it just add the data in last of the list.but in \"insert\" function we can place the vale where we want to place."
   ]
  },
  {
   "cell_type": "code",
   "execution_count": 111,
   "id": "8cf2314e-4de0-44cd-a530-ec7ae3de7780",
   "metadata": {},
   "outputs": [],
   "source": [
    "l2.extend(\"orange\")"
   ]
  },
  {
   "cell_type": "code",
   "execution_count": 112,
   "id": "80a5ea67-0c0b-4dce-9833-1660b8d5095a",
   "metadata": {},
   "outputs": [
    {
     "data": {
      "text/plain": [
       "[3, 4, 5, 'pwskills', 'payal', 'o', 'r', 'a', 'n', 'g', 'e']"
      ]
     },
     "execution_count": 112,
     "metadata": {},
     "output_type": "execute_result"
    }
   ],
   "source": [
    "l2"
   ]
  },
  {
   "cell_type": "raw",
   "id": "6f072f07-2497-4e97-8a69-5b2854de568d",
   "metadata": {},
   "source": [
    "NOTE:- 'extend' function is trying the function split internally and the it trying to append it. in this it not store as a list it store as  individual ."
   ]
  },
  {
   "cell_type": "code",
   "execution_count": 113,
   "id": "35b5405f-a42c-4fd9-bc85-9c428aaff495",
   "metadata": {},
   "outputs": [],
   "source": [
    "l3=[1,2,3,4,5]"
   ]
  },
  {
   "cell_type": "code",
   "execution_count": 114,
   "id": "c034c41f-e0b8-4971-9ae4-d36e4de006a3",
   "metadata": {},
   "outputs": [],
   "source": [
    "l3.append([1,2,3])"
   ]
  },
  {
   "cell_type": "code",
   "execution_count": 115,
   "id": "92ce9c91-10d9-4952-9fe3-71fbb5ddcd20",
   "metadata": {},
   "outputs": [
    {
     "data": {
      "text/plain": [
       "[1, 2, 3, 4, 5, [1, 2, 3]]"
      ]
     },
     "execution_count": 115,
     "metadata": {},
     "output_type": "execute_result"
    }
   ],
   "source": [
    "l3"
   ]
  },
  {
   "cell_type": "code",
   "execution_count": 116,
   "id": "dee88c1a-5ba6-426e-87f6-5c38880218a9",
   "metadata": {},
   "outputs": [],
   "source": [
    "l3.insert(2,[1,2,3])"
   ]
  },
  {
   "cell_type": "code",
   "execution_count": 117,
   "id": "6dcc3644-5734-44bd-bc0b-3129931011c7",
   "metadata": {},
   "outputs": [
    {
     "data": {
      "text/plain": [
       "[1, 2, [1, 2, 3], 3, 4, 5, [1, 2, 3]]"
      ]
     },
     "execution_count": 117,
     "metadata": {},
     "output_type": "execute_result"
    }
   ],
   "source": [
    "l3"
   ]
  },
  {
   "cell_type": "code",
   "execution_count": 118,
   "id": "c5b6cdc0-cd81-4e43-9919-df00e0301cf0",
   "metadata": {},
   "outputs": [],
   "source": [
    "l3.extend([4,5,6])"
   ]
  },
  {
   "cell_type": "code",
   "execution_count": 119,
   "id": "70111298-579b-4549-b831-6e0c0a19d817",
   "metadata": {},
   "outputs": [
    {
     "data": {
      "text/plain": [
       "[1, 2, [1, 2, 3], 3, 4, 5, [1, 2, 3], 4, 5, 6]"
      ]
     },
     "execution_count": 119,
     "metadata": {},
     "output_type": "execute_result"
    }
   ],
   "source": [
    "l3"
   ]
  },
  {
   "cell_type": "code",
   "execution_count": 120,
   "id": "462ebc22-81a7-4548-bd25-a72b662eb849",
   "metadata": {},
   "outputs": [
    {
     "data": {
      "text/plain": [
       "6"
      ]
     },
     "execution_count": 120,
     "metadata": {},
     "output_type": "execute_result"
    }
   ],
   "source": [
    "l3.pop()"
   ]
  },
  {
   "cell_type": "code",
   "execution_count": 121,
   "id": "04605107-9c45-4e65-9f8e-682ce100e88e",
   "metadata": {},
   "outputs": [
    {
     "data": {
      "text/plain": [
       "[1, 2, [1, 2, 3], 3, 4, 5, [1, 2, 3], 4, 5]"
      ]
     },
     "execution_count": 121,
     "metadata": {},
     "output_type": "execute_result"
    }
   ],
   "source": [
    "l3"
   ]
  },
  {
   "cell_type": "raw",
   "id": "37da5344-33fb-4204-99f9-b4359d0715bd",
   "metadata": {},
   "source": [
    "NOTE:- \"pop\" is deleting the last data. but if we giving some indexes inside the bracket the it will delete the same index data which we put into the bracket."
   ]
  },
  {
   "cell_type": "code",
   "execution_count": 122,
   "id": "a3725cb7-b6d2-4a46-8ab9-34a4132ed32b",
   "metadata": {},
   "outputs": [
    {
     "data": {
      "text/plain": [
       "2"
      ]
     },
     "execution_count": 122,
     "metadata": {},
     "output_type": "execute_result"
    }
   ],
   "source": [
    "l3.pop(1)"
   ]
  },
  {
   "cell_type": "code",
   "execution_count": 123,
   "id": "d054d7b2-6412-4259-8579-6f117ce4289a",
   "metadata": {},
   "outputs": [
    {
     "data": {
      "text/plain": [
       "[1, [1, 2, 3], 3, 4, 5, [1, 2, 3], 4, 5]"
      ]
     },
     "execution_count": 123,
     "metadata": {},
     "output_type": "execute_result"
    }
   ],
   "source": [
    "l3"
   ]
  },
  {
   "cell_type": "code",
   "execution_count": 124,
   "id": "32cf43ec-1925-4b4a-a959-3af02f4992b9",
   "metadata": {},
   "outputs": [],
   "source": [
    "del l3"
   ]
  },
  {
   "cell_type": "code",
   "execution_count": 125,
   "id": "6494f540-22df-4176-af40-1be18d5d811b",
   "metadata": {},
   "outputs": [
    {
     "ename": "NameError",
     "evalue": "name 'l3' is not defined",
     "output_type": "error",
     "traceback": [
      "\u001b[0;31m---------------------------------------------------------------------------\u001b[0m",
      "\u001b[0;31mNameError\u001b[0m                                 Traceback (most recent call last)",
      "Cell \u001b[0;32mIn[125], line 1\u001b[0m\n\u001b[0;32m----> 1\u001b[0m \u001b[43ml3\u001b[49m\n",
      "\u001b[0;31mNameError\u001b[0m: name 'l3' is not defined"
     ]
    }
   ],
   "source": [
    "l3"
   ]
  },
  {
   "cell_type": "raw",
   "id": "07ba5954-dfbb-4375-81d9-5a3e74928b41",
   "metadata": {},
   "source": [
    "NOTE:- in \"del\" function it delete all the data "
   ]
  },
  {
   "cell_type": "code",
   "execution_count": 126,
   "id": "f1bcb71d-f2a5-4897-93f2-004ca1d8fcb6",
   "metadata": {},
   "outputs": [
    {
     "data": {
      "text/plain": [
       "[3, 4, 5, 'pwskills', 'payal', 'o', 'r', 'a', 'n', 'g', 'e']"
      ]
     },
     "execution_count": 126,
     "metadata": {},
     "output_type": "execute_result"
    }
   ],
   "source": [
    "l2"
   ]
  },
  {
   "cell_type": "code",
   "execution_count": 127,
   "id": "90db9794-37f5-4f22-8b2e-b168143d22c9",
   "metadata": {},
   "outputs": [],
   "source": [
    "l2.remove('o')"
   ]
  },
  {
   "cell_type": "code",
   "execution_count": 128,
   "id": "124226cd-f152-4039-a29e-ff2686d954de",
   "metadata": {},
   "outputs": [
    {
     "data": {
      "text/plain": [
       "[3, 4, 5, 'pwskills', 'payal', 'r', 'a', 'n', 'g', 'e']"
      ]
     },
     "execution_count": 128,
     "metadata": {},
     "output_type": "execute_result"
    }
   ],
   "source": [
    "l2"
   ]
  },
  {
   "cell_type": "code",
   "execution_count": 129,
   "id": "4b5ba38a-b112-4bf3-a3e8-4c9de53f27d8",
   "metadata": {},
   "outputs": [],
   "source": [
    "l2.remove(3)"
   ]
  },
  {
   "cell_type": "code",
   "execution_count": 130,
   "id": "0f2c6f7c-6b8b-4bd0-98ea-9a367a7daad8",
   "metadata": {},
   "outputs": [
    {
     "data": {
      "text/plain": [
       "[4, 5, 'pwskills', 'payal', 'r', 'a', 'n', 'g', 'e']"
      ]
     },
     "execution_count": 130,
     "metadata": {},
     "output_type": "execute_result"
    }
   ],
   "source": [
    "l2"
   ]
  },
  {
   "cell_type": "raw",
   "id": "26c3a95e-833c-44df-aedd-14a01f424003",
   "metadata": {},
   "source": [
    "NOTE:- In 'remove' function we can delete the data which we want to delete . which data we put into the bracket it will delete from the list."
   ]
  },
  {
   "cell_type": "code",
   "execution_count": 131,
   "id": "f9045d8b-6909-48f2-9048-0cd22d7e8f4e",
   "metadata": {},
   "outputs": [
    {
     "data": {
      "text/plain": [
       "[1,\n",
       " 2,\n",
       " 3,\n",
       " 'pwskills',\n",
       " 4,\n",
       " 5,\n",
       " 'payal',\n",
       " (3+6j),\n",
       " 6789.9987,\n",
       " True,\n",
       " [3, 5, 5, 6, 7],\n",
       " 'jyoti']"
      ]
     },
     "execution_count": 131,
     "metadata": {},
     "output_type": "execute_result"
    }
   ],
   "source": [
    "l1"
   ]
  },
  {
   "cell_type": "code",
   "execution_count": 132,
   "id": "8742588c-e3f5-4e3b-acb3-0a61db627c95",
   "metadata": {},
   "outputs": [],
   "source": [
    "l1.clear()"
   ]
  },
  {
   "cell_type": "code",
   "execution_count": 133,
   "id": "063d7a51-b1ef-4dd8-9e7b-028c95e16e4a",
   "metadata": {},
   "outputs": [
    {
     "data": {
      "text/plain": [
       "[]"
      ]
     },
     "execution_count": 133,
     "metadata": {},
     "output_type": "execute_result"
    }
   ],
   "source": [
    "l1"
   ]
  },
  {
   "cell_type": "code",
   "execution_count": 134,
   "id": "4d60e0ff-57cc-4022-989b-87df44d36ee0",
   "metadata": {},
   "outputs": [
    {
     "data": {
      "text/plain": [
       "[4, 5, 'pwskills', 'payal', 'r', 'a', 'n', 'g', 'e']"
      ]
     },
     "execution_count": 134,
     "metadata": {},
     "output_type": "execute_result"
    }
   ],
   "source": [
    "l2"
   ]
  },
  {
   "cell_type": "code",
   "execution_count": 135,
   "id": "6592ff1e-7dab-4b22-bef5-5f70da2c36a6",
   "metadata": {},
   "outputs": [
    {
     "data": {
      "text/plain": [
       "1"
      ]
     },
     "execution_count": 135,
     "metadata": {},
     "output_type": "execute_result"
    }
   ],
   "source": [
    "l2.count('a')"
   ]
  },
  {
   "cell_type": "code",
   "execution_count": 136,
   "id": "1c0a605f-6e82-414c-9b67-12dcb1731eff",
   "metadata": {},
   "outputs": [
    {
     "data": {
      "text/plain": [
       "6"
      ]
     },
     "execution_count": 136,
     "metadata": {},
     "output_type": "execute_result"
    }
   ],
   "source": [
    "l2.index('n')"
   ]
  },
  {
   "cell_type": "code",
   "execution_count": 137,
   "id": "306208cf-8ec9-4b35-9e80-e4c4abbfd33a",
   "metadata": {},
   "outputs": [],
   "source": [
    "l2.reverse()"
   ]
  },
  {
   "cell_type": "code",
   "execution_count": 138,
   "id": "a46a6e95-56ce-4765-bc6a-74b958340c64",
   "metadata": {},
   "outputs": [
    {
     "data": {
      "text/plain": [
       "['e', 'g', 'n', 'a', 'r', 'payal', 'pwskills', 5, 4]"
      ]
     },
     "execution_count": 138,
     "metadata": {},
     "output_type": "execute_result"
    }
   ],
   "source": [
    "l2"
   ]
  },
  {
   "cell_type": "code",
   "execution_count": 139,
   "id": "392b12ea-3aa5-4da4-8739-883b2a693305",
   "metadata": {},
   "outputs": [],
   "source": [
    "l3=[2,3,4,5,6,5,6,3,4,5]"
   ]
  },
  {
   "cell_type": "code",
   "execution_count": 140,
   "id": "1587df87-0785-4941-83b5-668395dae95f",
   "metadata": {},
   "outputs": [],
   "source": [
    "l3.sort()"
   ]
  },
  {
   "cell_type": "code",
   "execution_count": 141,
   "id": "e776040b-377e-49fa-ab80-71b9e78c7c37",
   "metadata": {},
   "outputs": [
    {
     "data": {
      "text/plain": [
       "[2, 3, 3, 4, 4, 5, 5, 5, 6, 6]"
      ]
     },
     "execution_count": 141,
     "metadata": {},
     "output_type": "execute_result"
    }
   ],
   "source": [
    "l3"
   ]
  },
  {
   "cell_type": "code",
   "execution_count": 142,
   "id": "a4652963-64c4-46ad-a972-80ac60fe17cd",
   "metadata": {},
   "outputs": [],
   "source": [
    "l4=[\"payal\",\"jyoti\",\"abcd\",\"cdef\",\"fghi\"]"
   ]
  },
  {
   "cell_type": "code",
   "execution_count": 143,
   "id": "4eaeafe5-c934-4fff-90d3-3aa23d10636c",
   "metadata": {},
   "outputs": [],
   "source": [
    "l4.sort()"
   ]
  },
  {
   "cell_type": "code",
   "execution_count": 144,
   "id": "448f2d1d-85b5-4dd0-a38c-14b688451d4d",
   "metadata": {},
   "outputs": [
    {
     "data": {
      "text/plain": [
       "['abcd', 'cdef', 'fghi', 'jyoti', 'payal']"
      ]
     },
     "execution_count": 144,
     "metadata": {},
     "output_type": "execute_result"
    }
   ],
   "source": [
    "l4"
   ]
  },
  {
   "cell_type": "code",
   "execution_count": 145,
   "id": "fc520480-869f-4e3f-b74a-c945cbce78f4",
   "metadata": {},
   "outputs": [],
   "source": [
    "l4.sort(reverse=True)"
   ]
  },
  {
   "cell_type": "code",
   "execution_count": 146,
   "id": "6dccacee-315b-4064-8510-795c33229e98",
   "metadata": {},
   "outputs": [
    {
     "data": {
      "text/plain": [
       "['payal', 'jyoti', 'fghi', 'cdef', 'abcd']"
      ]
     },
     "execution_count": 146,
     "metadata": {},
     "output_type": "execute_result"
    }
   ],
   "source": [
    "l4"
   ]
  },
  {
   "cell_type": "code",
   "execution_count": 147,
   "id": "fdb02636-b887-42ca-9319-aa5f0237e1a4",
   "metadata": {},
   "outputs": [
    {
     "data": {
      "text/plain": [
       "[2, 3, 3, 4, 4, 5, 5, 5, 6, 6]"
      ]
     },
     "execution_count": 147,
     "metadata": {},
     "output_type": "execute_result"
    }
   ],
   "source": [
    "l3"
   ]
  },
  {
   "cell_type": "code",
   "execution_count": 148,
   "id": "3f5c6272-0516-4139-b2b2-7cd598b7e90d",
   "metadata": {},
   "outputs": [],
   "source": [
    "l4=set(l3)"
   ]
  },
  {
   "cell_type": "code",
   "execution_count": 149,
   "id": "e7429408-142f-4205-9ce4-64706d70073c",
   "metadata": {},
   "outputs": [
    {
     "data": {
      "text/plain": [
       "{2, 3, 4, 5, 6}"
      ]
     },
     "execution_count": 149,
     "metadata": {},
     "output_type": "execute_result"
    }
   ],
   "source": [
    "l4"
   ]
  },
  {
   "cell_type": "code",
   "execution_count": 150,
   "id": "60218d21-525b-43fc-b43a-64dac9651214",
   "metadata": {},
   "outputs": [],
   "source": [
    "l6=list(l4)"
   ]
  },
  {
   "cell_type": "code",
   "execution_count": 151,
   "id": "1f01febb-f8d3-442a-b38f-1aa662847e3b",
   "metadata": {},
   "outputs": [
    {
     "data": {
      "text/plain": [
       "[2, 3, 4, 5, 6]"
      ]
     },
     "execution_count": 151,
     "metadata": {},
     "output_type": "execute_result"
    }
   ],
   "source": [
    "l6"
   ]
  },
  {
   "cell_type": "code",
   "execution_count": 152,
   "id": "3ad730f0-134d-48de-9c4c-07b4c828e58b",
   "metadata": {},
   "outputs": [],
   "source": [
    "l6.sort()"
   ]
  },
  {
   "cell_type": "code",
   "execution_count": 153,
   "id": "d6f9d653-b72a-414f-ace9-8a12152bb814",
   "metadata": {},
   "outputs": [
    {
     "data": {
      "text/plain": [
       "[2, 3, 4, 5, 6]"
      ]
     },
     "execution_count": 153,
     "metadata": {},
     "output_type": "execute_result"
    }
   ],
   "source": [
    "l6"
   ]
  },
  {
   "cell_type": "code",
   "execution_count": 154,
   "id": "74099939-2637-46d5-b1ac-2988218fa8cc",
   "metadata": {},
   "outputs": [],
   "source": [
    "l0=[2,3,4,5]"
   ]
  },
  {
   "cell_type": "code",
   "execution_count": 155,
   "id": "2628c394-b527-482d-941b-10719807e750",
   "metadata": {},
   "outputs": [],
   "source": [
    "l1=l0"
   ]
  },
  {
   "cell_type": "code",
   "execution_count": 156,
   "id": "ac9c4ef9-eb20-406d-a222-c223c7300327",
   "metadata": {},
   "outputs": [
    {
     "data": {
      "text/plain": [
       "[2, 3, 4, 5]"
      ]
     },
     "execution_count": 156,
     "metadata": {},
     "output_type": "execute_result"
    }
   ],
   "source": [
    "l1"
   ]
  },
  {
   "cell_type": "code",
   "execution_count": 157,
   "id": "114eb69a-07a1-43dc-ab6e-3a7ec1c89eeb",
   "metadata": {},
   "outputs": [
    {
     "data": {
      "text/plain": [
       "[2, 3, 4, 5]"
      ]
     },
     "execution_count": 157,
     "metadata": {},
     "output_type": "execute_result"
    }
   ],
   "source": [
    "l0"
   ]
  },
  {
   "cell_type": "code",
   "execution_count": 158,
   "id": "01eeba34-2898-439b-985d-0ef7b48229dc",
   "metadata": {},
   "outputs": [],
   "source": [
    "l0[0]=200"
   ]
  },
  {
   "cell_type": "code",
   "execution_count": 159,
   "id": "200d36cf-ad6f-4b81-b809-202fdc676b77",
   "metadata": {},
   "outputs": [
    {
     "data": {
      "text/plain": [
       "[200, 3, 4, 5]"
      ]
     },
     "execution_count": 159,
     "metadata": {},
     "output_type": "execute_result"
    }
   ],
   "source": [
    "l0"
   ]
  },
  {
   "cell_type": "code",
   "execution_count": 160,
   "id": "dbea4d60-3374-48b9-8751-0c3041d2c70a",
   "metadata": {},
   "outputs": [
    {
     "data": {
      "text/plain": [
       "[200, 3, 4, 5]"
      ]
     },
     "execution_count": 160,
     "metadata": {},
     "output_type": "execute_result"
    }
   ],
   "source": [
    "l1"
   ]
  },
  {
   "cell_type": "code",
   "execution_count": 161,
   "id": "b9095a59-6e7f-4864-8046-09bd7057907d",
   "metadata": {},
   "outputs": [],
   "source": [
    "l2=l0.copy()"
   ]
  },
  {
   "cell_type": "code",
   "execution_count": 162,
   "id": "7ec994b8-2f69-47ac-81d6-af374004c725",
   "metadata": {},
   "outputs": [
    {
     "data": {
      "text/plain": [
       "[200, 3, 4, 5]"
      ]
     },
     "execution_count": 162,
     "metadata": {},
     "output_type": "execute_result"
    }
   ],
   "source": [
    "l2"
   ]
  },
  {
   "cell_type": "code",
   "execution_count": 163,
   "id": "d0210ad8-55a4-4097-a26c-6e743dc17fbe",
   "metadata": {},
   "outputs": [
    {
     "data": {
      "text/plain": [
       "[200, 3, 4, 5]"
      ]
     },
     "execution_count": 163,
     "metadata": {},
     "output_type": "execute_result"
    }
   ],
   "source": [
    "l1"
   ]
  },
  {
   "cell_type": "code",
   "execution_count": 164,
   "id": "91d7864d-f5d2-4709-b2e3-97f9befb1ecb",
   "metadata": {},
   "outputs": [
    {
     "data": {
      "text/plain": [
       "[200, 3, 4, 5]"
      ]
     },
     "execution_count": 164,
     "metadata": {},
     "output_type": "execute_result"
    }
   ],
   "source": [
    "l0"
   ]
  },
  {
   "cell_type": "code",
   "execution_count": 165,
   "id": "3becc190-b202-4693-b6b3-a05a2a679aac",
   "metadata": {},
   "outputs": [],
   "source": [
    "l0[1]=300"
   ]
  },
  {
   "cell_type": "code",
   "execution_count": 166,
   "id": "3ff69059-9aca-45f0-88c4-d4336f383cfa",
   "metadata": {},
   "outputs": [
    {
     "data": {
      "text/plain": [
       "[200, 300, 4, 5]"
      ]
     },
     "execution_count": 166,
     "metadata": {},
     "output_type": "execute_result"
    }
   ],
   "source": [
    "l0"
   ]
  },
  {
   "cell_type": "code",
   "execution_count": 167,
   "id": "d573a74a-9a7a-4ba8-8ebe-ac1ca50e0b7c",
   "metadata": {},
   "outputs": [
    {
     "data": {
      "text/plain": [
       "[200, 300, 4, 5]"
      ]
     },
     "execution_count": 167,
     "metadata": {},
     "output_type": "execute_result"
    }
   ],
   "source": [
    "l1"
   ]
  },
  {
   "cell_type": "code",
   "execution_count": 168,
   "id": "4a550812-256d-4ea6-948d-c24d668cefef",
   "metadata": {},
   "outputs": [
    {
     "data": {
      "text/plain": [
       "[200, 3, 4, 5]"
      ]
     },
     "execution_count": 168,
     "metadata": {},
     "output_type": "execute_result"
    }
   ],
   "source": [
    "l2"
   ]
  },
  {
   "cell_type": "raw",
   "id": "77ab982f-2cbf-4496-86a8-68593905cd6a",
   "metadata": {},
   "source": [
    " NOTE:- 1. \"l2=l0.copy\" is known as deep copy.\n",
    "        2. \"l2=l1\" is known as swallow copy.\n",
    "        \n",
    "        just notice the above u can understand what is deep copy nd what is swallow copy."
   ]
  },
  {
   "cell_type": "code",
   "execution_count": 169,
   "id": "3b6dec55-1c47-47e0-89cd-bb3930c1fd67",
   "metadata": {},
   "outputs": [
    {
     "data": {
      "text/plain": [
       "(1, 2, 3, 4, 'payal', (6+9j), True)"
      ]
     },
     "execution_count": 169,
     "metadata": {},
     "output_type": "execute_result"
    }
   ],
   "source": [
    "t"
   ]
  },
  {
   "cell_type": "code",
   "execution_count": 170,
   "id": "16c1d371-7f52-4f24-a132-b5dec4303dcb",
   "metadata": {},
   "outputs": [
    {
     "data": {
      "text/plain": [
       "1"
      ]
     },
     "execution_count": 170,
     "metadata": {},
     "output_type": "execute_result"
    }
   ],
   "source": [
    "t.count(4)"
   ]
  },
  {
   "cell_type": "code",
   "execution_count": 171,
   "id": "ff66a4bb-c0fa-4067-a7a7-dfe318fb7801",
   "metadata": {},
   "outputs": [
    {
     "data": {
      "text/plain": [
       "2"
      ]
     },
     "execution_count": 171,
     "metadata": {},
     "output_type": "execute_result"
    }
   ],
   "source": [
    "t.index(3)"
   ]
  },
  {
   "cell_type": "code",
   "execution_count": 172,
   "id": "fbc7fb3e-de05-4fe1-a2cd-206d0b78fca2",
   "metadata": {},
   "outputs": [],
   "source": [
    "s={1,2,3,4,55,4,3,2,6,7,8,55}"
   ]
  },
  {
   "cell_type": "code",
   "execution_count": 173,
   "id": "aa77a3b7-0263-47e3-8dfe-65552430b19e",
   "metadata": {},
   "outputs": [
    {
     "data": {
      "text/plain": [
       "{1, 2, 3, 4, 6, 7, 8, 55}"
      ]
     },
     "execution_count": 173,
     "metadata": {},
     "output_type": "execute_result"
    }
   ],
   "source": [
    "s"
   ]
  },
  {
   "cell_type": "code",
   "execution_count": 174,
   "id": "03d15ed5-cdc2-43b7-817c-b023f6a6dbf0",
   "metadata": {},
   "outputs": [
    {
     "data": {
      "text/plain": [
       "set"
      ]
     },
     "execution_count": 174,
     "metadata": {},
     "output_type": "execute_result"
    }
   ],
   "source": [
    "type(s)"
   ]
  },
  {
   "cell_type": "code",
   "execution_count": 175,
   "id": "792c51bd-1434-4164-8db0-71b7e5e410d5",
   "metadata": {},
   "outputs": [],
   "source": [
    "s.add(234)"
   ]
  },
  {
   "cell_type": "code",
   "execution_count": 176,
   "id": "95fe05e0-0967-4daf-aa38-9184cb4b25d0",
   "metadata": {},
   "outputs": [
    {
     "data": {
      "text/plain": [
       "{1, 2, 3, 4, 6, 7, 8, 55, 234}"
      ]
     },
     "execution_count": 176,
     "metadata": {},
     "output_type": "execute_result"
    }
   ],
   "source": [
    "s"
   ]
  },
  {
   "cell_type": "code",
   "execution_count": 177,
   "id": "74425238-b522-4881-a8a3-9fb577f48883",
   "metadata": {},
   "outputs": [],
   "source": [
    "s.add(4)"
   ]
  },
  {
   "cell_type": "code",
   "execution_count": 178,
   "id": "df2fa314-f98b-44bc-a3b6-f8309339b3d1",
   "metadata": {},
   "outputs": [
    {
     "data": {
      "text/plain": [
       "{1, 2, 3, 4, 6, 7, 8, 55, 234}"
      ]
     },
     "execution_count": 178,
     "metadata": {},
     "output_type": "execute_result"
    }
   ],
   "source": [
    "s"
   ]
  },
  {
   "cell_type": "code",
   "execution_count": 179,
   "id": "1d2c556c-8355-4efa-8e32-4f7b66109290",
   "metadata": {},
   "outputs": [],
   "source": [
    "s.discard(1)"
   ]
  },
  {
   "cell_type": "code",
   "execution_count": 180,
   "id": "2ad0fe7f-1865-4be8-8eee-e569ee6ad252",
   "metadata": {},
   "outputs": [
    {
     "data": {
      "text/plain": [
       "{2, 3, 4, 6, 7, 8, 55, 234}"
      ]
     },
     "execution_count": 180,
     "metadata": {},
     "output_type": "execute_result"
    }
   ],
   "source": [
    "s"
   ]
  },
  {
   "cell_type": "code",
   "execution_count": 184,
   "id": "69e1d3e3-affd-4729-958b-7ffa27fe3680",
   "metadata": {},
   "outputs": [],
   "source": [
    "s.clear()"
   ]
  },
  {
   "cell_type": "code",
   "execution_count": 185,
   "id": "750fba38-b009-4572-a616-571150d86996",
   "metadata": {},
   "outputs": [
    {
     "data": {
      "text/plain": [
       "set()"
      ]
     },
     "execution_count": 185,
     "metadata": {},
     "output_type": "execute_result"
    }
   ],
   "source": [
    "s"
   ]
  },
  {
   "cell_type": "code",
   "execution_count": 187,
   "id": "8fa5fc0b-e75b-44c5-97fa-3222bf04eb49",
   "metadata": {},
   "outputs": [],
   "source": [
    "s1={1,2,3,4,5,6,7,8,9,1,2,3,4,56,7}"
   ]
  },
  {
   "cell_type": "code",
   "execution_count": 188,
   "id": "d870de2b-0883-4248-b330-af7c7ca0332c",
   "metadata": {},
   "outputs": [
    {
     "data": {
      "text/plain": [
       "{1, 2, 3, 4, 5, 6, 7, 8, 9, 56}"
      ]
     },
     "execution_count": 188,
     "metadata": {},
     "output_type": "execute_result"
    }
   ],
   "source": [
    "s1"
   ]
  },
  {
   "cell_type": "code",
   "execution_count": 189,
   "id": "ca06fb82-a902-4f8f-aaa9-56154f15bf89",
   "metadata": {},
   "outputs": [
    {
     "data": {
      "text/plain": [
       "1"
      ]
     },
     "execution_count": 189,
     "metadata": {},
     "output_type": "execute_result"
    }
   ],
   "source": [
    "s1.pop()"
   ]
  },
  {
   "cell_type": "code",
   "execution_count": 190,
   "id": "aa67212f-aa07-4d5c-aa9e-52a1f0827fe9",
   "metadata": {},
   "outputs": [
    {
     "data": {
      "text/plain": [
       "2"
      ]
     },
     "execution_count": 190,
     "metadata": {},
     "output_type": "execute_result"
    }
   ],
   "source": [
    "s1.pop()"
   ]
  },
  {
   "cell_type": "code",
   "execution_count": 191,
   "id": "58b5bc93-02b4-459c-99a8-5c77d4c11b07",
   "metadata": {},
   "outputs": [
    {
     "data": {
      "text/plain": [
       "3"
      ]
     },
     "execution_count": 191,
     "metadata": {},
     "output_type": "execute_result"
    }
   ],
   "source": [
    "s1.pop()"
   ]
  },
  {
   "cell_type": "code",
   "execution_count": 192,
   "id": "0f4db986-077d-4e4f-b3bd-b3488269e95b",
   "metadata": {},
   "outputs": [],
   "source": [
    "s1.remove(7)"
   ]
  },
  {
   "cell_type": "code",
   "execution_count": 193,
   "id": "8e6c2a1e-ae7b-46c8-98c3-b84a8f87add9",
   "metadata": {},
   "outputs": [
    {
     "data": {
      "text/plain": [
       "{4, 5, 6, 8, 9, 56}"
      ]
     },
     "execution_count": 193,
     "metadata": {},
     "output_type": "execute_result"
    }
   ],
   "source": [
    "s1"
   ]
  },
  {
   "cell_type": "code",
   "execution_count": 194,
   "id": "ceca5215-0301-4474-8935-078bf082976c",
   "metadata": {},
   "outputs": [
    {
     "data": {
      "text/plain": [
       "{'name': 'payal',\n",
       " 'subject': ['data science', 'big data', 'data analytics'],\n",
       " 'number': 5466767676}"
      ]
     },
     "execution_count": 194,
     "metadata": {},
     "output_type": "execute_result"
    }
   ],
   "source": [
    "d1"
   ]
  },
  {
   "cell_type": "code",
   "execution_count": 195,
   "id": "80a223f7-91b0-45c1-a89e-8517877bdc23",
   "metadata": {},
   "outputs": [
    {
     "data": {
      "text/plain": [
       "dict_keys(['name', 'subject', 'number'])"
      ]
     },
     "execution_count": 195,
     "metadata": {},
     "output_type": "execute_result"
    }
   ],
   "source": [
    "d1.keys()"
   ]
  },
  {
   "cell_type": "code",
   "execution_count": 196,
   "id": "f8cefade-ffb9-4787-8f2b-82be0fda8f6c",
   "metadata": {},
   "outputs": [
    {
     "data": {
      "text/plain": [
       "['name', 'subject', 'number']"
      ]
     },
     "execution_count": 196,
     "metadata": {},
     "output_type": "execute_result"
    }
   ],
   "source": [
    "list(d1.keys())"
   ]
  },
  {
   "cell_type": "code",
   "execution_count": 197,
   "id": "3fd7d890-1018-4130-aee7-f95d4f2f9e42",
   "metadata": {},
   "outputs": [
    {
     "data": {
      "text/plain": [
       "dict_values(['payal', ['data science', 'big data', 'data analytics'], 5466767676])"
      ]
     },
     "execution_count": 197,
     "metadata": {},
     "output_type": "execute_result"
    }
   ],
   "source": [
    "d1.values()"
   ]
  },
  {
   "cell_type": "code",
   "execution_count": 198,
   "id": "8d9b9db7-01d3-428c-b1d6-fb24f408558e",
   "metadata": {},
   "outputs": [
    {
     "data": {
      "text/plain": [
       "['payal', ['data science', 'big data', 'data analytics'], 5466767676]"
      ]
     },
     "execution_count": 198,
     "metadata": {},
     "output_type": "execute_result"
    }
   ],
   "source": [
    "list(d1.values())"
   ]
  },
  {
   "cell_type": "code",
   "execution_count": 199,
   "id": "bcad7cc7-d321-45b0-9845-b5292d443513",
   "metadata": {},
   "outputs": [
    {
     "data": {
      "text/plain": [
       "dict_items([('name', 'payal'), ('subject', ['data science', 'big data', 'data analytics']), ('number', 5466767676)])"
      ]
     },
     "execution_count": 199,
     "metadata": {},
     "output_type": "execute_result"
    }
   ],
   "source": [
    "d1.items()"
   ]
  },
  {
   "cell_type": "code",
   "execution_count": 200,
   "id": "b9ab5a08-9ebc-41ea-934e-6d68ed76cc69",
   "metadata": {},
   "outputs": [
    {
     "data": {
      "text/plain": [
       "[('name', 'payal'),\n",
       " ('subject', ['data science', 'big data', 'data analytics']),\n",
       " ('number', 5466767676)]"
      ]
     },
     "execution_count": 200,
     "metadata": {},
     "output_type": "execute_result"
    }
   ],
   "source": [
    "list(d1.items())"
   ]
  },
  {
   "cell_type": "code",
   "execution_count": 201,
   "id": "efb7638c-af24-454f-9d66-53b7635e3b5a",
   "metadata": {},
   "outputs": [
    {
     "data": {
      "text/plain": [
       "'payal'"
      ]
     },
     "execution_count": 201,
     "metadata": {},
     "output_type": "execute_result"
    }
   ],
   "source": [
    "d1.get('name')"
   ]
  },
  {
   "cell_type": "code",
   "execution_count": 202,
   "id": "8ae54461-3710-418d-8911-4943a8a53bf7",
   "metadata": {},
   "outputs": [
    {
     "data": {
      "text/plain": [
       "'payal'"
      ]
     },
     "execution_count": 202,
     "metadata": {},
     "output_type": "execute_result"
    }
   ],
   "source": [
    "d1['name']"
   ]
  },
  {
   "cell_type": "code",
   "execution_count": 205,
   "id": "c32e307e-5323-4ed7-b823-24b03eb499a6",
   "metadata": {},
   "outputs": [
    {
     "data": {
      "text/plain": [
       "'payal'"
      ]
     },
     "execution_count": 205,
     "metadata": {},
     "output_type": "execute_result"
    }
   ],
   "source": [
    "d1.pop('name')"
   ]
  },
  {
   "cell_type": "code",
   "execution_count": 206,
   "id": "84de5e3f-2fc8-4dfc-b50e-01420dc99354",
   "metadata": {},
   "outputs": [
    {
     "data": {
      "text/plain": [
       "{'subject': ['data science', 'big data', 'data analytics'],\n",
       " 'number': 5466767676}"
      ]
     },
     "execution_count": 206,
     "metadata": {},
     "output_type": "execute_result"
    }
   ],
   "source": [
    "d1"
   ]
  },
  {
   "cell_type": "code",
   "execution_count": 207,
   "id": "ea63f004-e973-4c26-ade7-a4a65fa73dea",
   "metadata": {},
   "outputs": [],
   "source": [
    "d1['test']=\"ssdcdd\""
   ]
  },
  {
   "cell_type": "code",
   "execution_count": 208,
   "id": "2a28aa78-7b46-49bb-97f2-b6ff9fe3d7ff",
   "metadata": {},
   "outputs": [
    {
     "data": {
      "text/plain": [
       "{'subject': ['data science', 'big data', 'data analytics'],\n",
       " 'number': 5466767676,\n",
       " 'test': 'ssdcdd'}"
      ]
     },
     "execution_count": 208,
     "metadata": {},
     "output_type": "execute_result"
    }
   ],
   "source": [
    "d1"
   ]
  },
  {
   "cell_type": "code",
   "execution_count": null,
   "id": "fe6c0c05-7cb0-4170-9779-67291861d440",
   "metadata": {},
   "outputs": [],
   "source": []
  }
 ],
 "metadata": {
  "kernelspec": {
   "display_name": "Python 3 (ipykernel)",
   "language": "python",
   "name": "python3"
  },
  "language_info": {
   "codemirror_mode": {
    "name": "ipython",
    "version": 3
   },
   "file_extension": ".py",
   "mimetype": "text/x-python",
   "name": "python",
   "nbconvert_exporter": "python",
   "pygments_lexer": "ipython3",
   "version": "3.10.8"
  }
 },
 "nbformat": 4,
 "nbformat_minor": 5
}
