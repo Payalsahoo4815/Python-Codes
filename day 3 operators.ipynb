{
 "cells": [
  {
   "cell_type": "code",
   "execution_count": 1,
   "id": "b84fd0f5-fc44-4013-807b-20d0885fed34",
   "metadata": {},
   "outputs": [
    {
     "name": "stdin",
     "output_type": "stream",
     "text": [
      " 45\n"
     ]
    }
   ],
   "source": [
    "x=input()"
   ]
  },
  {
   "cell_type": "code",
   "execution_count": 2,
   "id": "ab7f5f04-02d9-440f-bb46-b906b8be07ca",
   "metadata": {},
   "outputs": [
    {
     "data": {
      "text/plain": [
       "'45'"
      ]
     },
     "execution_count": 2,
     "metadata": {},
     "output_type": "execute_result"
    }
   ],
   "source": [
    "x"
   ]
  },
  {
   "cell_type": "code",
   "execution_count": 3,
   "id": "23d754df-aa83-483f-b0f4-b97abd399485",
   "metadata": {},
   "outputs": [
    {
     "name": "stdin",
     "output_type": "stream",
     "text": [
      " \"payal\"\n"
     ]
    }
   ],
   "source": [
    "y=input()"
   ]
  },
  {
   "cell_type": "code",
   "execution_count": 4,
   "id": "6c5b89b8-ded6-40e0-96de-d8a9b90236b8",
   "metadata": {},
   "outputs": [
    {
     "data": {
      "text/plain": [
       "'\"payal\"'"
      ]
     },
     "execution_count": 4,
     "metadata": {},
     "output_type": "execute_result"
    }
   ],
   "source": [
    "y"
   ]
  },
  {
   "cell_type": "code",
   "execution_count": 5,
   "id": "89d861d9-ad22-42c9-af5a-0f9b17bf8ffe",
   "metadata": {},
   "outputs": [
    {
     "name": "stdin",
     "output_type": "stream",
     "text": [
      "enter your name jyoti\n"
     ]
    }
   ],
   "source": [
    "w=input(\"enter your name\")"
   ]
  },
  {
   "cell_type": "code",
   "execution_count": 6,
   "id": "7362f234-2c0d-410c-81fb-35cb5ca801ef",
   "metadata": {},
   "outputs": [
    {
     "data": {
      "text/plain": [
       "'jyoti'"
      ]
     },
     "execution_count": 6,
     "metadata": {},
     "output_type": "execute_result"
    }
   ],
   "source": [
    "w"
   ]
  },
  {
   "cell_type": "code",
   "execution_count": 7,
   "id": "e5cb48c6-8399-451f-9114-fd9a462eced0",
   "metadata": {},
   "outputs": [
    {
     "name": "stdout",
     "output_type": "stream",
     "text": [
      "hii\n"
     ]
    }
   ],
   "source": [
    "print(\"hii\")"
   ]
  },
  {
   "cell_type": "code",
   "execution_count": 8,
   "id": "ce0d16c6-35f2-41e3-9c6f-b7085e10b1d7",
   "metadata": {},
   "outputs": [
    {
     "name": "stdin",
     "output_type": "stream",
     "text": [
      "enter your name payal\n"
     ]
    },
    {
     "name": "stdout",
     "output_type": "stream",
     "text": [
      "payal\n"
     ]
    }
   ],
   "source": [
    "x=input(\"enter your name\")\n",
    "print(x)"
   ]
  },
  {
   "cell_type": "code",
   "execution_count": 9,
   "id": "606c78c9-de58-4071-8751-f55d44a5cece",
   "metadata": {},
   "outputs": [
    {
     "name": "stdin",
     "output_type": "stream",
     "text": [
      "enter your age 21\n"
     ]
    },
    {
     "name": "stdout",
     "output_type": "stream",
     "text": [
      "my age is 21\n"
     ]
    }
   ],
   "source": [
    "y=input(\"enter your age\")\n",
    "print(\"my age is \"+y)"
   ]
  },
  {
   "cell_type": "code",
   "execution_count": 10,
   "id": "b9bb3784-0416-4978-be90-ddc0d8650a7a",
   "metadata": {},
   "outputs": [
    {
     "name": "stdout",
     "output_type": "stream",
     "text": [
      "30\n"
     ]
    }
   ],
   "source": [
    "x=10\n",
    "y=20\n",
    "print(x+y)"
   ]
  },
  {
   "cell_type": "code",
   "execution_count": 11,
   "id": "bb0f3e9e-830b-42d7-97ad-6381690cddbe",
   "metadata": {},
   "outputs": [
    {
     "name": "stdin",
     "output_type": "stream",
     "text": [
      "enter your first number 67\n",
      "enter your second number 34\n"
     ]
    },
    {
     "name": "stdout",
     "output_type": "stream",
     "text": [
      "101\n"
     ]
    }
   ],
   "source": [
    "a=int(input(\"enter your first number\"))\n",
    "b=int(input(\"enter your second number\"))\n",
    "print(a+b)"
   ]
  },
  {
   "cell_type": "code",
   "execution_count": 12,
   "id": "c75d5ca4-592b-4e30-a180-31a141f655f4",
   "metadata": {},
   "outputs": [
    {
     "name": "stdin",
     "output_type": "stream",
     "text": [
      "enter any number one\n"
     ]
    },
    {
     "ename": "ValueError",
     "evalue": "invalid literal for int() with base 10: 'one'",
     "output_type": "error",
     "traceback": [
      "\u001b[0;31m---------------------------------------------------------------------------\u001b[0m",
      "\u001b[0;31mValueError\u001b[0m                                Traceback (most recent call last)",
      "Cell \u001b[0;32mIn[12], line 1\u001b[0m\n\u001b[0;32m----> 1\u001b[0m x\u001b[38;5;241m=\u001b[39m\u001b[38;5;28;43mint\u001b[39;49m\u001b[43m(\u001b[49m\u001b[38;5;28;43minput\u001b[39;49m\u001b[43m(\u001b[49m\u001b[38;5;124;43m\"\u001b[39;49m\u001b[38;5;124;43menter any number\u001b[39;49m\u001b[38;5;124;43m\"\u001b[39;49m\u001b[43m)\u001b[49m\u001b[43m)\u001b[49m\n\u001b[1;32m      2\u001b[0m \u001b[38;5;28mprint\u001b[39m(x)\n",
      "\u001b[0;31mValueError\u001b[0m: invalid literal for int() with base 10: 'one'"
     ]
    }
   ],
   "source": [
    "x=int(input(\"enter any number\"))\n",
    "print(x)"
   ]
  },
  {
   "cell_type": "code",
   "execution_count": 13,
   "id": "7da8fcf9-e239-48cb-8cf3-3e42bdf41ca7",
   "metadata": {},
   "outputs": [
    {
     "name": "stdout",
     "output_type": "stream",
     "text": [
      "hi pwskills\n"
     ]
    }
   ],
   "source": [
    "x=\"hi\"\n",
    "y=\"pwskills\"\n",
    "\n",
    "print(f\"{x} {y}\")"
   ]
  },
  {
   "cell_type": "raw",
   "id": "9e3d8f5a-3950-4b11-9f7d-38f3213f7ed5",
   "metadata": {},
   "source": [
    "NOTE:-  In the above print function it is \" f string \" format .In \"f string\" format u have to write a f and there u have to put some place holder with curly braces (\" {} \") and in between the place holder if u put anything it will also print."
   ]
  },
  {
   "cell_type": "code",
   "execution_count": 14,
   "id": "f198c2d7-7164-4377-ab3d-4e78c8d95fd4",
   "metadata": {},
   "outputs": [
    {
     "name": "stdout",
     "output_type": "stream",
     "text": [
      "hi ok payal\n"
     ]
    }
   ],
   "source": [
    "a=\"hi\"\n",
    "b=\"payal\"\n",
    "\n",
    "print(f\"{a} ok {b}\")"
   ]
  },
  {
   "cell_type": "code",
   "execution_count": 15,
   "id": "250195eb-86f2-4ac4-8f52-7830b6eeccdf",
   "metadata": {},
   "outputs": [
    {
     "name": "stdout",
     "output_type": "stream",
     "text": [
      "hi miss payal\n"
     ]
    }
   ],
   "source": [
    "a=\"hi\"\n",
    "b=\"payal\"\n",
    "\n",
    "print(f\"{a} miss {b}\")"
   ]
  },
  {
   "cell_type": "code",
   "execution_count": 16,
   "id": "4c6cbd12-6e32-4e3b-abd8-cb254d24c124",
   "metadata": {},
   "outputs": [
    {
     "name": "stdout",
     "output_type": "stream",
     "text": [
      "pw and skills\n"
     ]
    }
   ],
   "source": [
    "print(\"{0} and {1}\".format(\"pw\",\"skills\"))"
   ]
  },
  {
   "cell_type": "code",
   "execution_count": 17,
   "id": "a240804f-54b3-4a08-9b56-ae9c13f64e23",
   "metadata": {},
   "outputs": [
    {
     "name": "stdout",
     "output_type": "stream",
     "text": [
      "skills and pw\n"
     ]
    }
   ],
   "source": [
    "print(\"{1} and {0}\".format(\"pw\",\"skills\"))"
   ]
  },
  {
   "cell_type": "raw",
   "id": "2fc590de-bdac-4428-b490-d9117d08398c",
   "metadata": {},
   "source": [
    "NOTE:- In the above format is \"dot format\"  to print a value. in this format in the first we have to put curly braces those r act like place holder and after .format we put the value which u want to assign.here zero and one is index no. in which manner u write it gives the output like same manner."
   ]
  },
  {
   "cell_type": "code",
   "execution_count": 18,
   "id": "7fe42470-421c-4fdb-8354-038eaf3f01e0",
   "metadata": {},
   "outputs": [
    {
     "name": "stdout",
     "output_type": "stream",
     "text": [
      "pw and skills and ineuron\n"
     ]
    }
   ],
   "source": [
    "print(\"{0} and {1} and {2}\".format(\"pw\",\"skills\",\"ineuron\"))"
   ]
  },
  {
   "cell_type": "code",
   "execution_count": 19,
   "id": "fa6946ef-8c10-4cf1-9a18-491db0980990",
   "metadata": {},
   "outputs": [
    {
     "name": "stdout",
     "output_type": "stream",
     "text": [
      "ineuron and skills and pw\n"
     ]
    }
   ],
   "source": [
    "print(\"{2} and {1} and {0}\".format(\"pw\",\"skills\",\"ineuron\"))"
   ]
  },
  {
   "cell_type": "code",
   "execution_count": 20,
   "id": "62fbb2c1-0bfa-4c23-ba6f-dd017430e521",
   "metadata": {},
   "outputs": [
    {
     "name": "stdout",
     "output_type": "stream",
     "text": [
      "pw and skills and pw\n"
     ]
    }
   ],
   "source": [
    "print(\"{0} and {1} and {0}\".format(\"pw\",\"skills\",\"ineuron\"))"
   ]
  },
  {
   "cell_type": "raw",
   "id": "bb50fa1f-d93c-4489-b5be-d6e4a43fb0fa",
   "metadata": {},
   "source": [
    "NOTE:-  We can repeatedly use the same indexes."
   ]
  },
  {
   "cell_type": "code",
   "execution_count": 21,
   "id": "b385f186-456a-4035-bd7f-4d8ee35b2cb8",
   "metadata": {},
   "outputs": [
    {
     "name": "stdout",
     "output_type": "stream",
     "text": [
      "89074562\n",
      "Hii!!\n",
      "$$Howareyou??\n",
      "10*10=100\n",
      "(12>10) and true\n",
      "I am here to learn \"python\"\n",
      "\n"
     ]
    }
   ],
   "source": [
    "print(\"\"\"89074562\n",
    "Hii!!\n",
    "$$Howareyou??\n",
    "10*10=100\n",
    "(12>10) and true\n",
    "I am here to learn \"python\"\n",
    "\"\"\")"
   ]
  },
  {
   "cell_type": "raw",
   "id": "9cd68212-c7af-43fb-87cb-eaa3249a9e6b",
   "metadata": {},
   "source": [
    "NOTE:- Using (\"\"\"    \"\"\" ) three times the double quotes we can print multiline string."
   ]
  },
  {
   "cell_type": "code",
   "execution_count": 22,
   "id": "0e3f431e-e614-4ee2-8d38-4ee2d8d92fa3",
   "metadata": {},
   "outputs": [
    {
     "name": "stdout",
     "output_type": "stream",
     "text": [
      "$\n",
      "$ $\n",
      "$ $ $\n",
      "$ $ $ $\n",
      "$ $ $ $ $\n"
     ]
    }
   ],
   "source": [
    "print(\"\"\"$\n",
    "$ $\n",
    "$ $ $\n",
    "$ $ $ $\n",
    "$ $ $ $ $\"\"\")"
   ]
  },
  {
   "cell_type": "raw",
   "id": "f9580d23-5011-40a1-a377-2e5c99409c86",
   "metadata": {},
   "source": [
    "QUESTION:- Accept a string as input.make copy of this string.Insert the exclamation mark(!) before and after the copy and print this final string to the console."
   ]
  },
  {
   "cell_type": "code",
   "execution_count": 23,
   "id": "5ac6c670-3a7a-4004-833e-e7146a4c67eb",
   "metadata": {},
   "outputs": [
    {
     "name": "stdin",
     "output_type": "stream",
     "text": [
      "enter the string cool\n"
     ]
    },
    {
     "name": "stdout",
     "output_type": "stream",
     "text": [
      "!cool!\n"
     ]
    }
   ],
   "source": [
    "x=input('enter the string')\n",
    "y=x\n",
    "z=\"!\" + x + \"!\"\n",
    "print(z)"
   ]
  },
  {
   "cell_type": "code",
   "execution_count": 24,
   "id": "29ff7536-b5dc-4d38-9418-15755a4ce64a",
   "metadata": {},
   "outputs": [],
   "source": [
    "a=10\n",
    "b=20"
   ]
  },
  {
   "cell_type": "code",
   "execution_count": 25,
   "id": "fc244fd0-a456-4458-bafd-6630d4a1a826",
   "metadata": {},
   "outputs": [
    {
     "data": {
      "text/plain": [
       "30"
      ]
     },
     "execution_count": 25,
     "metadata": {},
     "output_type": "execute_result"
    }
   ],
   "source": [
    "a+b"
   ]
  },
  {
   "cell_type": "code",
   "execution_count": 26,
   "id": "c65abbc5-2b9f-4846-b61f-3187e1e1e1ed",
   "metadata": {},
   "outputs": [
    {
     "data": {
      "text/plain": [
       "10"
      ]
     },
     "execution_count": 26,
     "metadata": {},
     "output_type": "execute_result"
    }
   ],
   "source": [
    "b-a"
   ]
  },
  {
   "cell_type": "code",
   "execution_count": 27,
   "id": "bbae3c4a-1404-41e2-b570-e80737238298",
   "metadata": {},
   "outputs": [
    {
     "data": {
      "text/plain": [
       "200"
      ]
     },
     "execution_count": 27,
     "metadata": {},
     "output_type": "execute_result"
    }
   ],
   "source": [
    "a*b"
   ]
  },
  {
   "cell_type": "code",
   "execution_count": 28,
   "id": "64826f16-b955-479b-a659-6f73d925f292",
   "metadata": {},
   "outputs": [
    {
     "data": {
      "text/plain": [
       "1.0"
      ]
     },
     "execution_count": 28,
     "metadata": {},
     "output_type": "execute_result"
    }
   ],
   "source": [
    "b/20"
   ]
  },
  {
   "cell_type": "code",
   "execution_count": 29,
   "id": "dde55ca5-fedd-4f63-8884-9550a03b9bda",
   "metadata": {},
   "outputs": [
    {
     "data": {
      "text/plain": [
       "2.0"
      ]
     },
     "execution_count": 29,
     "metadata": {},
     "output_type": "execute_result"
    }
   ],
   "source": [
    "a/5"
   ]
  },
  {
   "cell_type": "code",
   "execution_count": 30,
   "id": "20d272e7-761f-473d-b38e-fa321deee7ef",
   "metadata": {},
   "outputs": [
    {
     "data": {
      "text/plain": [
       "2.0"
      ]
     },
     "execution_count": 30,
     "metadata": {},
     "output_type": "execute_result"
    }
   ],
   "source": [
    "b/a"
   ]
  },
  {
   "cell_type": "code",
   "execution_count": 31,
   "id": "ce480cb8-f8a1-4a1a-ace3-a90b29a0f4ef",
   "metadata": {},
   "outputs": [
    {
     "data": {
      "text/plain": [
       "0"
      ]
     },
     "execution_count": 31,
     "metadata": {},
     "output_type": "execute_result"
    }
   ],
   "source": [
    "b%a"
   ]
  },
  {
   "cell_type": "code",
   "execution_count": 32,
   "id": "0d3199d9-5521-4854-aaf5-01e613df5c54",
   "metadata": {},
   "outputs": [
    {
     "data": {
      "text/plain": [
       "False"
      ]
     },
     "execution_count": 32,
     "metadata": {},
     "output_type": "execute_result"
    }
   ],
   "source": [
    "a==b   #equality operator(which compare the equality of objects)"
   ]
  },
  {
   "cell_type": "code",
   "execution_count": 33,
   "id": "ad762e7c-ef8e-48ab-ba39-d7f683f08bec",
   "metadata": {},
   "outputs": [],
   "source": [
    "a=10\n",
    "b=10"
   ]
  },
  {
   "cell_type": "code",
   "execution_count": 34,
   "id": "dbaccdeb-2184-4a96-94d8-4645e4521043",
   "metadata": {},
   "outputs": [
    {
     "data": {
      "text/plain": [
       "True"
      ]
     },
     "execution_count": 34,
     "metadata": {},
     "output_type": "execute_result"
    }
   ],
   "source": [
    "a==b"
   ]
  },
  {
   "cell_type": "code",
   "execution_count": 35,
   "id": "211552d4-3085-4cd3-99a7-d6754847cdf9",
   "metadata": {},
   "outputs": [
    {
     "data": {
      "text/plain": [
       "True"
      ]
     },
     "execution_count": 35,
     "metadata": {},
     "output_type": "execute_result"
    }
   ],
   "source": [
    "a is b   #ientity operator( it is check the memory object is sm or not.)"
   ]
  },
  {
   "cell_type": "code",
   "execution_count": 36,
   "id": "4302af11-c251-4257-8712-c4a8722c4d08",
   "metadata": {},
   "outputs": [
    {
     "data": {
      "text/plain": [
       "140581264884240"
      ]
     },
     "execution_count": 36,
     "metadata": {},
     "output_type": "execute_result"
    }
   ],
   "source": [
    "id(a)"
   ]
  },
  {
   "cell_type": "code",
   "execution_count": 37,
   "id": "ecf2c8fa-15fa-4d53-9452-b9afa09ad0e4",
   "metadata": {},
   "outputs": [
    {
     "data": {
      "text/plain": [
       "140581264884240"
      ]
     },
     "execution_count": 37,
     "metadata": {},
     "output_type": "execute_result"
    }
   ],
   "source": [
    "id(b)"
   ]
  },
  {
   "cell_type": "raw",
   "id": "7b7b421d-0569-4fc5-9050-cfc3ff79aa98",
   "metadata": {},
   "source": [
    "NOTE:- \"id\" is showing the memory object(where the valu will store).or give the address of the object."
   ]
  },
  {
   "cell_type": "code",
   "execution_count": 38,
   "id": "40174021-d8e6-4457-ae17-70b3d6b448e1",
   "metadata": {},
   "outputs": [],
   "source": [
    "p=20\n",
    "q=30"
   ]
  },
  {
   "cell_type": "code",
   "execution_count": 39,
   "id": "4a24bb58-37d5-415a-867c-6d57c72a4956",
   "metadata": {},
   "outputs": [
    {
     "data": {
      "text/plain": [
       "False"
      ]
     },
     "execution_count": 39,
     "metadata": {},
     "output_type": "execute_result"
    }
   ],
   "source": [
    "p is q"
   ]
  },
  {
   "cell_type": "code",
   "execution_count": 40,
   "id": "25723b74-2877-4cc9-ac99-c11f41d25dea",
   "metadata": {},
   "outputs": [
    {
     "data": {
      "text/plain": [
       "140581264884560"
      ]
     },
     "execution_count": 40,
     "metadata": {},
     "output_type": "execute_result"
    }
   ],
   "source": [
    "id(p)"
   ]
  },
  {
   "cell_type": "code",
   "execution_count": 41,
   "id": "e70e8acb-b1cd-489d-9169-ef17d04ce182",
   "metadata": {},
   "outputs": [
    {
     "data": {
      "text/plain": [
       "140581264884880"
      ]
     },
     "execution_count": 41,
     "metadata": {},
     "output_type": "execute_result"
    }
   ],
   "source": [
    "id(q)"
   ]
  },
  {
   "cell_type": "code",
   "execution_count": 42,
   "id": "54ef26af-d732-422c-82f5-ac5841505ceb",
   "metadata": {},
   "outputs": [
    {
     "data": {
      "text/plain": [
       "False"
      ]
     },
     "execution_count": 42,
     "metadata": {},
     "output_type": "execute_result"
    }
   ],
   "source": [
    "a!=b"
   ]
  },
  {
   "cell_type": "code",
   "execution_count": 43,
   "id": "5026df79-2aee-4d51-b487-485b4518c4b6",
   "metadata": {},
   "outputs": [
    {
     "data": {
      "text/plain": [
       "True"
      ]
     },
     "execution_count": 43,
     "metadata": {},
     "output_type": "execute_result"
    }
   ],
   "source": [
    "p!=q"
   ]
  },
  {
   "cell_type": "code",
   "execution_count": 44,
   "id": "9045c2f8-a685-4bd5-995d-f69bc1280e49",
   "metadata": {},
   "outputs": [],
   "source": [
    "a=[1,2,3]"
   ]
  },
  {
   "cell_type": "code",
   "execution_count": 45,
   "id": "017d77cd-0254-4c41-b939-184a17ecd41e",
   "metadata": {},
   "outputs": [],
   "source": [
    "b=a"
   ]
  },
  {
   "cell_type": "code",
   "execution_count": 46,
   "id": "3e2711f6-fd4a-4e2a-8532-90da5199e7d9",
   "metadata": {},
   "outputs": [
    {
     "data": {
      "text/plain": [
       "True"
      ]
     },
     "execution_count": 46,
     "metadata": {},
     "output_type": "execute_result"
    }
   ],
   "source": [
    "a is b"
   ]
  },
  {
   "cell_type": "code",
   "execution_count": 47,
   "id": "f5b2ba53-22cd-4746-b365-c1019104ec5f",
   "metadata": {},
   "outputs": [
    {
     "data": {
      "text/plain": [
       "True"
      ]
     },
     "execution_count": 47,
     "metadata": {},
     "output_type": "execute_result"
    }
   ],
   "source": [
    "a==b"
   ]
  },
  {
   "cell_type": "code",
   "execution_count": 48,
   "id": "9a17d708-722b-4420-8624-e5c829af3b05",
   "metadata": {},
   "outputs": [],
   "source": [
    "a=[1,2,3]"
   ]
  },
  {
   "cell_type": "code",
   "execution_count": 49,
   "id": "7e178181-bd2f-470b-b876-b8d23f1e95ac",
   "metadata": {},
   "outputs": [],
   "source": [
    "b=[1,2,3]"
   ]
  },
  {
   "cell_type": "code",
   "execution_count": 50,
   "id": "345a3ea5-acdd-4b3f-8f9d-bd8d0e623aca",
   "metadata": {},
   "outputs": [
    {
     "data": {
      "text/plain": [
       "False"
      ]
     },
     "execution_count": 50,
     "metadata": {},
     "output_type": "execute_result"
    }
   ],
   "source": [
    "a is b"
   ]
  },
  {
   "cell_type": "code",
   "execution_count": 51,
   "id": "2542c089-5a1d-4ad7-9cd2-885942ad6343",
   "metadata": {},
   "outputs": [
    {
     "data": {
      "text/plain": [
       "True"
      ]
     },
     "execution_count": 51,
     "metadata": {},
     "output_type": "execute_result"
    }
   ],
   "source": [
    "a==b"
   ]
  },
  {
   "cell_type": "raw",
   "id": "479b4fb7-f215-4773-939b-b96bc3003161",
   "metadata": {},
   "source": [
    "NOTE:- IN  THE  above we take same value but when we check  \" a is b \" it shows false bcz  it's address is diiffernet."
   ]
  },
  {
   "cell_type": "code",
   "execution_count": 52,
   "id": "69f83829-14ef-4de5-901c-cbfa37f7da30",
   "metadata": {},
   "outputs": [
    {
     "data": {
      "text/plain": [
       "140581193295104"
      ]
     },
     "execution_count": 52,
     "metadata": {},
     "output_type": "execute_result"
    }
   ],
   "source": [
    "id(a)"
   ]
  },
  {
   "cell_type": "code",
   "execution_count": 53,
   "id": "71598708-6d90-4838-8dee-5b0af93e9770",
   "metadata": {},
   "outputs": [
    {
     "data": {
      "text/plain": [
       "140581193497472"
      ]
     },
     "execution_count": 53,
     "metadata": {},
     "output_type": "execute_result"
    }
   ],
   "source": [
    "id(b)"
   ]
  },
  {
   "cell_type": "raw",
   "id": "6f0d567a-0de3-469d-8f61-acc3c7ef958b",
   "metadata": {},
   "source": [
    "QUESTIONS:- Accept an integer as input.find the quotient when 3^(35) is divided by x and print the output?"
   ]
  },
  {
   "cell_type": "code",
   "execution_count": 59,
   "id": "4b9c5b69-93e5-4205-91d6-ddadba0755a7",
   "metadata": {},
   "outputs": [
    {
     "name": "stdin",
     "output_type": "stream",
     "text": [
      "enter an integer: 10\n"
     ]
    },
    {
     "name": "stdout",
     "output_type": "stream",
     "text": [
      "5003154509899971.0\n"
     ]
    }
   ],
   "source": [
    "x=int(input (\"enter an integer:\"))\n",
    "y=3**35/x\n",
    "print(y)"
   ]
  },
  {
   "cell_type": "code",
   "execution_count": 60,
   "id": "c756dded-db4d-4661-9be9-e7e1d2a24089",
   "metadata": {},
   "outputs": [
    {
     "data": {
      "text/plain": [
       "4"
      ]
     },
     "execution_count": 60,
     "metadata": {},
     "output_type": "execute_result"
    }
   ],
   "source": [
    "2**2"
   ]
  },
  {
   "cell_type": "code",
   "execution_count": 61,
   "id": "1c92c34c-53fb-4d77-94d3-71ecfe817c01",
   "metadata": {},
   "outputs": [
    {
     "name": "stdin",
     "output_type": "stream",
     "text": [
      "enter an integer: 10\n"
     ]
    },
    {
     "name": "stdout",
     "output_type": "stream",
     "text": [
      "5003154509899970\n"
     ]
    }
   ],
   "source": [
    "x=int(input (\"enter an integer:\"))\n",
    "y=3**35//x  # // gives the integer valu only.\n",
    "print(y)"
   ]
  },
  {
   "cell_type": "raw",
   "id": "2f1772ea-7b4e-4fae-889a-4fde5af13a63",
   "metadata": {},
   "source": [
    "NOTE:-The floor division operator is denoted by the \"//\" symbol. It can be used to divide two numbers and get the result in which the quotient is rounded down to the nearest integer value."
   ]
  },
  {
   "cell_type": "code",
   "execution_count": 62,
   "id": "6980f79d-5334-42bc-babc-5db5c04fa63f",
   "metadata": {},
   "outputs": [],
   "source": [
    "a=10\n",
    "b=20"
   ]
  },
  {
   "cell_type": "code",
   "execution_count": 63,
   "id": "2709cf83-5e2a-4d51-aa5c-7caa5cc95540",
   "metadata": {},
   "outputs": [
    {
     "data": {
      "text/plain": [
       "True"
      ]
     },
     "execution_count": 63,
     "metadata": {},
     "output_type": "execute_result"
    }
   ],
   "source": [
    "a<b"
   ]
  },
  {
   "cell_type": "code",
   "execution_count": 64,
   "id": "26768565-b1fe-4be1-9020-10317634883c",
   "metadata": {},
   "outputs": [
    {
     "data": {
      "text/plain": [
       "False"
      ]
     },
     "execution_count": 64,
     "metadata": {},
     "output_type": "execute_result"
    }
   ],
   "source": [
    "a>b"
   ]
  },
  {
   "cell_type": "code",
   "execution_count": 65,
   "id": "6ccf0e63-8dec-4762-a4ea-dbb30c183be0",
   "metadata": {},
   "outputs": [],
   "source": [
    "a=10\n",
    "b=4"
   ]
  },
  {
   "cell_type": "code",
   "execution_count": 66,
   "id": "c1ee4216-9ab9-49a7-abc3-246ef3ee4d19",
   "metadata": {},
   "outputs": [
    {
     "data": {
      "text/plain": [
       "'0b1010'"
      ]
     },
     "execution_count": 66,
     "metadata": {},
     "output_type": "execute_result"
    }
   ],
   "source": [
    "bin(a)     #bin(10) gives the binary value of 10 "
   ]
  },
  {
   "cell_type": "code",
   "execution_count": 67,
   "id": "8a62ec60-a869-4e02-8d73-ccb2ad21c275",
   "metadata": {},
   "outputs": [
    {
     "data": {
      "text/plain": [
       "'0b100'"
      ]
     },
     "execution_count": 67,
     "metadata": {},
     "output_type": "execute_result"
    }
   ],
   "source": [
    "bin(b)"
   ]
  },
  {
   "cell_type": "code",
   "execution_count": 68,
   "id": "f125e781-fac6-4c20-b984-b48c18601d60",
   "metadata": {},
   "outputs": [
    {
     "data": {
      "text/plain": [
       "0"
      ]
     },
     "execution_count": 68,
     "metadata": {},
     "output_type": "execute_result"
    }
   ],
   "source": [
    "a & b  # and operator(bitwise operator)"
   ]
  },
  {
   "cell_type": "code",
   "execution_count": 69,
   "id": "56bee86a-17b2-4063-b2ed-6c5ef8fad098",
   "metadata": {},
   "outputs": [
    {
     "data": {
      "text/plain": [
       "14"
      ]
     },
     "execution_count": 69,
     "metadata": {},
     "output_type": "execute_result"
    }
   ],
   "source": [
    "a|b    # or operator (bitwise operator)"
   ]
  },
  {
   "cell_type": "code",
   "execution_count": 70,
   "id": "c9ec6211-73c8-40ad-a6c7-2c60e3cd0db4",
   "metadata": {},
   "outputs": [
    {
     "data": {
      "text/plain": [
       "4"
      ]
     },
     "execution_count": 70,
     "metadata": {},
     "output_type": "execute_result"
    }
   ],
   "source": [
    "a and b   # logical operator"
   ]
  },
  {
   "cell_type": "code",
   "execution_count": 71,
   "id": "f7f1b914-ba1f-47d6-98f3-880969903379",
   "metadata": {},
   "outputs": [
    {
     "data": {
      "text/plain": [
       "-11"
      ]
     },
     "execution_count": 71,
     "metadata": {},
     "output_type": "execute_result"
    }
   ],
   "source": [
    "~a"
   ]
  },
  {
   "cell_type": "code",
   "execution_count": 72,
   "id": "476d8a0b-1767-437b-8054-dcf3536abb56",
   "metadata": {},
   "outputs": [
    {
     "data": {
      "text/plain": [
       "14"
      ]
     },
     "execution_count": 72,
     "metadata": {},
     "output_type": "execute_result"
    }
   ],
   "source": [
    "a^b   # xor operation"
   ]
  },
  {
   "cell_type": "code",
   "execution_count": 74,
   "id": "fd4f4046-f6ad-4b63-a37b-f72bfaf4a73c",
   "metadata": {},
   "outputs": [
    {
     "data": {
      "text/plain": [
       "'0b1010'"
      ]
     },
     "execution_count": 74,
     "metadata": {},
     "output_type": "execute_result"
    }
   ],
   "source": [
    "bin(a)"
   ]
  },
  {
   "cell_type": "code",
   "execution_count": 75,
   "id": "f62fd345-aeb9-4a75-9de9-1cf52593719e",
   "metadata": {},
   "outputs": [
    {
     "data": {
      "text/plain": [
       "'0b100'"
      ]
     },
     "execution_count": 75,
     "metadata": {},
     "output_type": "execute_result"
    }
   ],
   "source": [
    "bin(b)"
   ]
  },
  {
   "cell_type": "raw",
   "id": "4b17c255-f8cd-4674-a242-293b63f2ca08",
   "metadata": {},
   "source": [
    "NOTE:-\n",
    "1010\n",
    "0100\n",
    "-----\n",
    "1110    #it showing the exor operation( 0 0 -->0,1 1 -->0 else 1 )\n",
    " # 1110 in decimal 14. "
   ]
  },
  {
   "cell_type": "code",
   "execution_count": 77,
   "id": "a8e08461-77e8-4ff1-b3eb-d7d18c798a3d",
   "metadata": {},
   "outputs": [],
   "source": [
    "a=10"
   ]
  },
  {
   "cell_type": "code",
   "execution_count": 78,
   "id": "2b5ca910-299e-413e-a59e-6661e16758c9",
   "metadata": {},
   "outputs": [
    {
     "data": {
      "text/plain": [
       "5"
      ]
     },
     "execution_count": 78,
     "metadata": {},
     "output_type": "execute_result"
    }
   ],
   "source": [
    "a>>1   #right shift"
   ]
  },
  {
   "cell_type": "code",
   "execution_count": 79,
   "id": "f38e72ae-e141-4731-8138-8989a4b2dc79",
   "metadata": {},
   "outputs": [],
   "source": [
    "a=10"
   ]
  },
  {
   "cell_type": "code",
   "execution_count": 80,
   "id": "dffe7812-b354-497c-bb97-ea9d077740e8",
   "metadata": {},
   "outputs": [
    {
     "data": {
      "text/plain": [
       "20"
      ]
     },
     "execution_count": 80,
     "metadata": {},
     "output_type": "execute_result"
    }
   ],
   "source": [
    "a<<1    #left shift"
   ]
  },
  {
   "cell_type": "code",
   "execution_count": 81,
   "id": "7bd928af-e452-4711-a543-c4047f26f818",
   "metadata": {},
   "outputs": [],
   "source": [
    "c=5"
   ]
  },
  {
   "cell_type": "code",
   "execution_count": 82,
   "id": "4be46e70-9b58-4c44-834b-dd94f3899989",
   "metadata": {},
   "outputs": [
    {
     "data": {
      "text/plain": [
       "-6"
      ]
     },
     "execution_count": 82,
     "metadata": {},
     "output_type": "execute_result"
    }
   ],
   "source": [
    "~c"
   ]
  },
  {
   "cell_type": "code",
   "execution_count": 83,
   "id": "0ce908e5-3061-4bbf-adda-710f8306f1de",
   "metadata": {},
   "outputs": [],
   "source": [
    "a=10"
   ]
  },
  {
   "cell_type": "code",
   "execution_count": 84,
   "id": "708b4965-9f62-432e-9058-2ab739cdb0c7",
   "metadata": {},
   "outputs": [],
   "source": [
    "a=a+1  #   a+=1"
   ]
  },
  {
   "cell_type": "code",
   "execution_count": 85,
   "id": "1c50191b-061c-4224-b3b3-5f9f3aa59b22",
   "metadata": {},
   "outputs": [
    {
     "data": {
      "text/plain": [
       "11"
      ]
     },
     "execution_count": 85,
     "metadata": {},
     "output_type": "execute_result"
    }
   ],
   "source": [
    "a"
   ]
  },
  {
   "cell_type": "code",
   "execution_count": 86,
   "id": "e42717d4-86ea-46de-a413-35f9df9d7777",
   "metadata": {},
   "outputs": [],
   "source": [
    "a+=3   #a =11"
   ]
  },
  {
   "cell_type": "code",
   "execution_count": 87,
   "id": "5b5f0df4-17d2-4393-922b-ccbde779e7bb",
   "metadata": {},
   "outputs": [
    {
     "data": {
      "text/plain": [
       "14"
      ]
     },
     "execution_count": 87,
     "metadata": {},
     "output_type": "execute_result"
    }
   ],
   "source": [
    "a"
   ]
  },
  {
   "cell_type": "code",
   "execution_count": null,
   "id": "244aed9c-2276-4651-9c18-6e16b94ea193",
   "metadata": {},
   "outputs": [],
   "source": []
  }
 ],
 "metadata": {
  "kernelspec": {
   "display_name": "Python 3 (ipykernel)",
   "language": "python",
   "name": "python3"
  },
  "language_info": {
   "codemirror_mode": {
    "name": "ipython",
    "version": 3
   },
   "file_extension": ".py",
   "mimetype": "text/x-python",
   "name": "python",
   "nbconvert_exporter": "python",
   "pygments_lexer": "ipython3",
   "version": "3.10.8"
  }
 },
 "nbformat": 4,
 "nbformat_minor": 5
}
